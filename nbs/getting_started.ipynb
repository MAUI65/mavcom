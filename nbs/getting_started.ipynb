{
 "cells": [
  {
   "cell_type": "markdown",
   "metadata": {},
   "source": [
    "# Getting Started\n",
    "\n",
    "> Basic setup and use of UAV"
   ]
  },
  {
   "cell_type": "markdown",
   "metadata": {},
   "source": [
    "- **UAV software** is a collection of Jupyter Notebooks that are used to develop and test UAV software. The notebooks are organized into a library, and the library is used to create a documentation website and a Python package that can be installed with `pip` or `conda`  (see [nbdev template](tutorials/template.ipynb) for an example) \n",
    "- \n",
    "- **Documentation** is automatically generated using [nbdev](https://nbdev.fast.ai/) & [Quarto](https://quarto.org/) and hosted on [GitHub Pages](https://pages.github.com/). Docs support LaTeX, are searchable, and are automatically hyperlinked (including out-of-the-box support for many packages via [`nbdev-index`](https://github.com/fastai/nbdev-index))\n",
    "- **Publish packages to PyPI and conda** as well as tools to simplify package releases.  Python best practices are automatically followed, for example, only exported objects are included in `__all__`\n",
    "- **Two-way sync between notebooks and plaintext source code** allowing you to use your IDE for code navigation or quick edits\n",
    "- **Tests** written as ordinary notebook cells are run in parallel with a single command\n",
    "- **Continuous integration** out-of-the-box with [GitHub Actions](https://github.com/features/actions) that run your tests and rebuild your docs\n",
    "- **Git-friendly notebooks** with [Jupyter/Git hooks](https://nbdev.fast.ai/tutorials/git_friendly_jupyter.html) that clean unwanted metadata and render merge conflicts in a human-readable format\n",
    "- ... and much more!"
   ]
  },
  {
   "cell_type": "markdown",
   "metadata": {},
   "source": [
    "## Install"
   ]
  },
  {
   "cell_type": "markdown",
   "metadata": {},
   "source": [
    " \n",
    "1. Python 3.10 venv for Ubuntu 21.04, Ubuntu 20.04 LTS [https://www.python.org/downloads/](https://www.python.org/downloads/) \n",
    "\n",
    "```sh \n",
    "sudo add-apt-repository ppa:deadsnakes/ppa\n",
    "sudo apt update\n",
    "sudo apt install python3.10\n",
    "```\n",
    "   \n",
    "**Note For Ubuntu 18.04** \n",
    "\n",
    "Deadsnakes/ppa is not hold distribution for Ubuntu 18.04 LTS, so you need to install it manually.\n",
    "Download Python 3.10.0 from [https://github.com/conda-forge/miniforge](https://github.com/conda-forge/miniforge)\n",
    "- [Linux x86_64 (amd64)](https://github.com/conda-forge/miniforge/releases/latest/download/Miniforge3-Linux-x86_64.sh)\n",
    "For Jetson Nano use Python 3.8.xx\n",
    "- [Linux aarch64 (arm64)](https://github.com/conda-forge/miniforge/releases/latest/download/Miniforge3-Linux-aarch64.sh)\n",
    "\n",
    "Give the script execution permission and run it to install into ~/miniforge3\n",
    "\n",
    "```sh\n",
    "chmod +x Miniforge3-Linux-x86_64.sh\n",
    "./Miniforge3-Linux-x86_64.sh\n",
    "```\n",
    "follow the prompts to install\n",
    "\n",
    "2. Download UAV from github and create a virtual environment\n",
    "```sh\n",
    "mkdir repos\n",
    "cd repos\n",
    "git clone https://github.com/johnnewto/mavcom.git\n",
    "cd UAV\n",
    "~/miniforge3/bin/python -m venv 'venv'\n",
    "source ./venv/bin/activate\n",
    "pip install --upgrade pip\n",
    "pip install -e .\n",
    "```\n",
    "3. Install gstreamer\n",
    "```sh\n",
    "sudo apt-get install libcairo2 libcairo2-dev libgirepository1.0-dev\n",
    "sudo apt-get install libgstreamer1.0-dev libgstreamer-plugins-base1.0-dev libgstreamer-plugins-bad1.0-dev gstreamer1.0-plugins-base gstreamer1.0-plugins-good gstreamer1.0-plugins-bad gstreamer1.0-plugins-ugly gstreamer1.0-libav gstreamer1.0-tools gstreamer1.0-x gstreamer1.0-alsa gstreamer1.0-gl gstreamer1.0-gtk3 gstreamer1.0-qt5 gstreamer1.0-pulseaudio\n",
    "```\n",
    "4. Install gstreamer-python package  into the python venv\n",
    "```sh\n",
    "pip install git+https://github.com/johnnewto/gstreamer-python.git\n",
    "```"
   ]
  },
  {
   "cell_type": "markdown",
   "metadata": {},
   "source": [
    "\n",
    "**Note For Ubuntu 18.04** \n",
    "\n",
    "if you get glib install error such as \n",
    "\n",
    "`Requested 'glib-2.0 >= 2.64.0' but version of GLib is 2.56.4` \n",
    "\n",
    "then run this first\n",
    "\n",
    "```sh\n",
    "pip install PyGObject==3.42.0\n",
    "```"
   ]
  },
  {
   "cell_type": "markdown",
   "metadata": {},
   "source": [
    "Running a example program\n",
    "```sh\n",
    "cd examples\n",
    "python run_camera_asyncio_gui.py\n",
    "```\n"
   ]
  },
  {
   "cell_type": "markdown",
   "metadata": {},
   "source": [
    "## FAQ\n",
    "\n",
    "Testing in a virtual Machine   \n",
    "[https://www.makeuseof.com/how-to-install-qemu-ubuntu-set-up-virtual-machine/](https://www.makeuseof.com/how-to-install-qemu-ubuntu-set-up-virtual-machine/)\n",
    "\n",
    "\n",
    "\n",
    "```sh\n",
    "sudo apt install qemu-kvm\n",
    "sudo apt install virt-manager\n",
    "```\n"
   ]
  },
  {
   "cell_type": "markdown",
   "metadata": {},
   "source": [
    "#### Copyright"
   ]
  },
  {
   "cell_type": "markdown",
   "metadata": {},
   "source": [
    "Copyright © 2019 onward maui63.ai, Inc. Licensed under the Apache License, Version 2.0 (the \"License\"); you may not use this project's files except in compliance with the License. A copy of the License is provided in the LICENSE file in this repository."
   ]
  }
 ],
 "metadata": {
  "kernelspec": {
   "display_name": "python3",
   "language": "python",
   "name": "python3"
  }
 },
 "nbformat": 4,
 "nbformat_minor": 4
}
