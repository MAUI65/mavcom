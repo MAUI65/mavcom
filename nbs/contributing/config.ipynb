{
 "cells": [
  {
   "cell_type": "markdown",
   "metadata": {},
   "source": [
    "# Configuration\n",
    "\n",
    "> The nbdev configuration file"
   ]
  },
  {
   "cell_type": "code",
   "execution_count": null,
   "metadata": {},
   "outputs": [],
   "source": [
    "#| hide\n",
    "from fastcore.utils import *\n",
    "from nbdev.config import *\n",
    "\n",
    "from nbdev.showdoc import *"
   ]
  },
  {
   "cell_type": "markdown",
   "metadata": {},
   "source": [
    "All of nbdev's configuration is done through a file called `settings.ini` which lives in the root of your repo. It's in [ConfigParser](https://docs.python.org/3/library/configparser.html) format. For example, here's the first few lines of nbdev's settings.ini file"
   ]
  },
  {
   "cell_type": "code",
   "execution_count": null,
   "metadata": {},
   "outputs": [
    {
     "name": "stdout",
     "output_type": "stream",
     "text": [
      "[DEFAULT]\r\n",
      "lib_name = nbdev\r\n",
      "description = Create delightful software with Jupyter Notebooks\r\n",
      "copyright = 2020 onwards, Jeremy Howard\r\n",
      "keywords = nbdev fastai jupyter notebook export\r\n",
      "user = fastai\r\n",
      "author = Jeremy Howard and Hamel Husain\r\n",
      "author_email = j@fast.ai\r\n",
      "branch = master\r\n",
      "min_python = 3.7\r\n"
     ]
    }
   ],
   "source": [
    "#| exec_doc\n",
    "#| echo: false\n",
    "!head ../../settings.ini"
   ]
  },
  {
   "cell_type": "markdown",
   "metadata": {},
   "source": [
    "You can create this file with `nbdev_create_config` (in which case you pass the settings manually), or with `nbdev_new` (which sets it up automatically for you from your repo settings). Here are all of nbdev's settings (excluding the `path` and `cfg_name` parameters which decide where the config file is saved):"
   ]
  },
  {
   "cell_type": "code",
   "execution_count": null,
   "metadata": {},
   "outputs": [
    {
     "data": {
      "text/markdown": [
       "|    | **Type** | **Default** | **Details** |\n",
       "| -- | -------- | ----------- | ----------- |\n",
       "| user | str |  | Repo username |\n",
       "| author | str |  | Package author's name |\n",
       "| author_email | str |  | Package author's email address |\n",
       "| description | str |  | Short summary of the package |\n",
       "| path | str | . | Path to create config file |\n",
       "| cfg_name | str | settings.ini | Name of config file to create |\n",
       "| lib_name | str | None | Package name, defaults to local repo folder name passed to `apply_defaults` |\n",
       "| branch | str | master | Repo default branch passed to `apply_defaults` |\n",
       "| git_url | str | https://github.com/%(user)s/%(lib_name)s | Repo URL passed to `apply_defaults` |\n",
       "| custom_sidebar | bool_arg | False | Use a custom sidebar.yml? passed to `apply_defaults` |\n",
       "| nbs_path | str | . | Path to notebooks passed to `apply_defaults` |\n",
       "| lib_path | str | %(lib_name)s | Path to package root passed to `apply_defaults` |\n",
       "| doc_path | str | _docs | Path to rendered docs passed to `apply_defaults` |\n",
       "| tst_flags | str |  | Test flags passed to `apply_defaults` |\n",
       "| version | str | 0.0.1 | Version of this release passed to `apply_defaults` |\n",
       "| doc_host | str | https://%(user)s.github.io | Hostname for docs passed to `apply_defaults` |\n",
       "| doc_baseurl | str | /%(lib_name)s | Base URL for docs passed to `apply_defaults` |\n",
       "| keywords | str | nbdev jupyter notebook python | Package keywords passed to `apply_defaults` |\n",
       "| license | str | apache2 | License for the package passed to `apply_defaults` |\n",
       "| copyright | str | None | Copyright for the package, defaults to '`current_year` onwards, `author`' passed to `apply_defaults` |\n",
       "| status | str | 3 | Development status PyPI classifier passed to `apply_defaults` |\n",
       "| min_python | str | 3.7 | Minimum Python version PyPI classifier passed to `apply_defaults` |\n",
       "| audience | str | Developers | Intended audience PyPI classifier passed to `apply_defaults` |\n",
       "| language | str | English | Language PyPI classifier passed to `apply_defaults` |\n",
       "| recursive | bool_arg | False | Include subfolders in notebook globs? passed to `apply_defaults` |\n",
       "| black_formatting | bool_arg | False | Format libraries with black? passed to `apply_defaults` |\n",
       "| readme_nb | str | index.ipynb | Notebook to export as repo readme passed to `apply_defaults` |\n",
       "| title | str | %(lib_name)s | Quarto website title passed to `apply_defaults` |\n",
       "| allowed_metadata_keys | str |  | Preserve the list of keys in the main notebook metadata passed to `apply_defaults` |\n",
       "| allowed_cell_metadata_keys | str |  | Preserve the list of keys in cell level metadata passed to `apply_defaults` |\n",
       "| jupyter_hooks | bool | True | Run Jupyter hooks? passed to `apply_defaults` |\n",
       "| clean_ids | bool | True | Remove ids from plaintext reprs? passed to `apply_defaults` |\n",
       "| custom_quarto_yml | bool | False | Use a custom _quarto.yml? passed to `apply_defaults` |"
      ],
      "text/plain": [
       "<nbdev.showdoc.DocmentTbl>"
      ]
     },
     "execution_count": null,
     "metadata": {},
     "output_type": "execute_result"
    }
   ],
   "source": [
    "#| exec_doc\n",
    "#| echo: false\n",
    "DocmentTbl(nbdev_create_config)"
   ]
  },
  {
   "cell_type": "markdown",
   "metadata": {},
   "source": [
    "You can customise nbdev for all repositories for your user with a `~/.config/nbdev/settings.ini` file."
   ]
  },
  {
   "cell_type": "markdown",
   "metadata": {},
   "source": [
    "In order for Git actions to run smoothly, add `requirements` and `dev_requirements` with required packages in `settings.ini`.\n",
    "\n",
    "see [here](https://github.com/fastai/nbdev/blob/master/settings.ini) as a reference."
   ]
  },
  {
   "cell_type": "code",
   "execution_count": null,
   "metadata": {},
   "outputs": [],
   "source": []
  }
 ],
 "metadata": {
  "kernelspec": {
   "display_name": "python3",
   "language": "python",
   "name": "python3"
  }
 },
 "nbformat": 4,
 "nbformat_minor": 4
}
