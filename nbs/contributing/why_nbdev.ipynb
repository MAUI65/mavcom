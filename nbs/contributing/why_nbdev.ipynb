{
 "cells": [
  {
   "cell_type": "markdown",
   "id": "ffd2b608-1808-4661-b29d-c01800ccac6d",
   "metadata": {},
   "source": [
    "# Why nbdev\n",
    "\n",
    "> Why we develop software with nbdev\n",
    "\n"
   ]
  },
  {
   "cell_type": "markdown",
   "id": "169c521b-1343-4ade-b978-47d7507e5b9a",
   "metadata": {},
   "source": [
    "Popular Python documentation standards such as [numpy docstrings](https://numpydoc.readthedocs.io/en/latest/format.html#docstring-standard) and [sphinx](https://sphinx-rtd-tutorial.readthedocs.io/en/latest/docstrings.html) facilitate documentation of source code with docstrings, which are limited in their expressiveness and functionality. Notebooks, on the other hand, offer a richer medium for authoring documentation (with markdown and code cells) compared to docstrings, and unlock new ways of documenting your code that are otherwhise infeasible.\n",
    "\n",
    "Furthermore, traditional testing frameworks such as [pytest](https://docs.pytest.org/) and [unittest](https://docs.python.org/3/library/unittest.html) encourage writing tests in a separate context that is disjointed from the associated source code and documentation. With nbdev, you write tests in the same context as your source code and documentation, such that tests can optionally become part of the narrative within your documentation.   \n",
    "\n",
    "Since nbdev allows your colleagues and users to view the tests, code and documentation in a single context with a REPL that invites experimentation, the way you author code, documentation and tests in nbdev are very different than traditional software development workflows."
   ]
  },
  {
   "cell_type": "markdown",
   "id": "3087ce55-ed59-4251-9dd2-a1a2a1968f98",
   "metadata": {},
   "source": [
    "In [Notebook Best Practices](/tutorials/best_practices.ipynb#putting-it-all-together-an-annotated-example) we compare a function coded, tested, and documented in nbdev versus ordinary .py files. Here are a few of the challenges we faced with other approaches that led us to using nbdev. In .py files:\n",
    "\n",
    "1. Docstrings repeat information that is already contained in the function signature, such as names of parameters, default values, and types\n",
    "2. Examples are manually entered. This requires the author to copy and paste both the code and outputs. Furthermore, the author must manually re-enter or change these examples anytime the code changes, which is an error-prone process\n",
    "3. Examples are limited to short code snippets and cannot contain rich output like plots or graphics\n",
    "4. Examples cannot have prose interleaved with code except for code comments\n",
    "5. Readers of your code must copy and paste contents of the docstring if they wish to reproduce the examples."
   ]
  }
 ],
 "metadata": {
  "kernelspec": {
   "display_name": "python3",
   "language": "python",
   "name": "python3"
  }
 },
 "nbformat": 4,
 "nbformat_minor": 5
}
