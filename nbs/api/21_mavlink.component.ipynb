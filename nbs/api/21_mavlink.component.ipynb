{
 "cells": [
  {
   "cell_type": "markdown",
   "metadata": {},
   "source": []
  },
  {
   "cell_type": "code",
   "execution_count": null,
   "metadata": {},
   "outputs": [],
   "source": []
  },
  {
   "cell_type": "markdown",
   "metadata": {},
   "source": [
    "# Mavlink Component\n",
    "> Mavlink  base class for Client and server.\n",
    "> Theserver is on the companion computer and the client is on the ground station PC.\n",
    "\n",
    "[https://mavlink.io/en/mavgen_python/](https://mavlink.io/en/mavgen_python/)\n",
    "[https://www.ardusub.com/developers/pymavlink.html](https://www.ardusub.com/developers/pymavlink.html)\n",
    "\n",
    "https://mavlink.io/en/messages/common.html\n",
    "https://mavlink.io/en/messages/common.html#MAV_TYPE\n"
   ]
  },
  {
   "cell_type": "code",
   "execution_count": null,
   "metadata": {},
   "outputs": [],
   "source": [
    "#| default_exp mavlink.test_component"
   ]
  },
  {
   "cell_type": "code",
   "execution_count": null,
   "metadata": {},
   "outputs": [
    {
     "name": "stdout",
     "output_type": "stream",
     "text": [
      "The autoreload extension is already loaded. To reload it, use:\n",
      "  %reload_ext autoreload\n"
     ]
    }
   ],
   "source": [
    "#| hide\n",
    "%load_ext autoreload\n",
    "%autoreload 2"
   ]
  },
  {
   "cell_type": "code",
   "execution_count": null,
   "metadata": {},
   "outputs": [],
   "source": [
    "#| hide\n",
    "# skip_showdoc: true to avoid running cells when rendering docs, and \n",
    "# skip_exec: true to skip this notebook when running tests. \n",
    "# this should be a raw cell "
   ]
  },
  {
   "cell_type": "code",
   "execution_count": null,
   "metadata": {},
   "outputs": [],
   "source": []
  },
  {
   "cell_type": "raw",
   "metadata": {},
   "source": [
    "---\n",
    "skip_showdoc: true\n",
    "skip_exec: true\n",
    "---"
   ]
  },
  {
   "cell_type": "code",
   "execution_count": null,
   "metadata": {},
   "outputs": [],
   "source": [
    "import time, os, sys\n",
    "\n",
    "from mavcom.logging import logging\n",
    "from mavcom.utils.general import LeakyQueue\n",
    "\n",
    "# os.environ['MAVLINK20'] == '1' should be placed in mavcom.__init__.py\n",
    "assert os.environ[\n",
    "           'MAVLINK20'] == '1', \"Set the environment variable before from pymavlink import mavutil  library is imported\"\n",
    "\n"
   ]
  },
  {
   "cell_type": "code",
   "execution_count": null,
   "metadata": {},
   "outputs": [],
   "source": [
    "#| export\n",
    "import os\n",
    "\n",
    "# os.environ['MAVLINK20'] == '1' should be placed in mavcom.__init__.py\n",
    "assert os.environ[\n",
    "           'MAVLINK20'] == '1', \"Set the environment variable before from pymavlink import mavutil  library is imported\"\n",
    "\n",
    "from nbdev.showdoc import *\n",
    "from fastcore.test import *\n"
   ]
  },
  {
   "cell_type": "code",
   "execution_count": null,
   "metadata": {},
   "outputs": [],
   "source": [
    "#| exports\n",
    "\n",
    "from mavcom.mavlink.component import *"
   ]
  },
  {
   "cell_type": "code",
   "execution_count": null,
   "metadata": {},
   "outputs": [
    {
     "data": {
      "text/markdown": "---\n\n[source](https://github.com/johnnewto/UAV/blob/main/UAV/mavlink/component.py#LNone){target=\"_blank\" style=\"float:right; font-size:smaller\"}\n\n### mavlink_command_to_string\n\n>      mavlink_command_to_string (command_id)",
      "text/plain": "---\n\n[source](https://github.com/johnnewto/UAV/blob/main/UAV/mavlink/component.py#LNone){target=\"_blank\" style=\"float:right; font-size:smaller\"}\n\n### mavlink_command_to_string\n\n>      mavlink_command_to_string (command_id)"
     },
     "execution_count": null,
     "metadata": {},
     "output_type": "execute_result"
    }
   ],
   "source": [
    "show_doc(mavlink_command_to_string)"
   ]
  },
  {
   "cell_type": "code",
   "execution_count": null,
   "metadata": {},
   "outputs": [
    {
     "data": {
      "text/markdown": "---\n\n[source](https://github.com/johnnewto/UAV/blob/main/UAV/mavlink/component.py#LNone){target=\"_blank\" style=\"float:right; font-size:smaller\"}\n\n### Component\n\n>      Component (source_component, mav_type, debug)\n\nCreate a mavlink Component with an ID  for MAV_COMPONENT\n\n|    | **Details** |\n| -- | ----------- |\n| source_component | used for component indication |\n| mav_type | used for heartbeat MAV_TYPE indication |\n| debug | logging level |",
      "text/plain": "---\n\n[source](https://github.com/johnnewto/UAV/blob/main/UAV/mavlink/component.py#LNone){target=\"_blank\" style=\"float:right; font-size:smaller\"}\n\n### Component\n\n>      Component (source_component, mav_type, debug)\n\nCreate a mavlink Component with an ID  for MAV_COMPONENT\n\n|    | **Details** |\n| -- | ----------- |\n| source_component | used for component indication |\n| mav_type | used for heartbeat MAV_TYPE indication |\n| debug | logging level |"
     },
     "execution_count": null,
     "metadata": {},
     "output_type": "execute_result"
    }
   ],
   "source": [
    "from nbdev import show_doc\n",
    "show_doc(Component)"
   ]
  },
  {
   "cell_type": "code",
   "execution_count": null,
   "metadata": {},
   "outputs": [],
   "source": [
    "#| Hide\n",
    "# assert False, \"Stop here\""
   ]
  },
  {
   "cell_type": "code",
   "execution_count": null,
   "metadata": {},
   "outputs": [
    {
     "data": {
      "text/markdown": "---\n\n[source](https://github.com/johnnewto/UAV/blob/main/UAV/mavlink/component.py#LNone){target=\"_blank\" style=\"float:right; font-size:smaller\"}\n\n### Component.set_source_compenent\n\n>      Component.set_source_compenent ()\n\nSet the source component for the master.mav",
      "text/plain": "---\n\n[source](https://github.com/johnnewto/UAV/blob/main/UAV/mavlink/component.py#LNone){target=\"_blank\" style=\"float:right; font-size:smaller\"}\n\n### Component.set_source_compenent\n\n>      Component.set_source_compenent ()\n\nSet the source component for the master.mav"
     },
     "execution_count": null,
     "metadata": {},
     "output_type": "execute_result"
    }
   ],
   "source": [
    "from nbdev import show_doc\n",
    "show_doc(Component.set_source_compenent)"
   ]
  },
  {
   "cell_type": "code",
   "execution_count": null,
   "metadata": {},
   "outputs": [
    {
     "data": {
      "text/markdown": "---\n\n[source](https://github.com/johnnewto/UAV/blob/main/UAV/mavlink/component.py#LNone){target=\"_blank\" style=\"float:right; font-size:smaller\"}\n\n### Component.send_heartbeat\n\n>      Component.send_heartbeat ()\n\nSend a heartbeat message to indicate the server is alive.",
      "text/plain": "---\n\n[source](https://github.com/johnnewto/UAV/blob/main/UAV/mavlink/component.py#LNone){target=\"_blank\" style=\"float:right; font-size:smaller\"}\n\n### Component.send_heartbeat\n\n>      Component.send_heartbeat ()\n\nSend a heartbeat message to indicate the server is alive."
     },
     "execution_count": null,
     "metadata": {},
     "output_type": "execute_result"
    }
   ],
   "source": [
    "show_doc(Component.send_heartbeat)"
   ]
  },
  {
   "cell_type": "code",
   "execution_count": null,
   "metadata": {},
   "outputs": [
    {
     "data": {
      "text/markdown": "---\n\n[source](https://github.com/johnnewto/UAV/blob/main/UAV/mavlink/component.py#LNone){target=\"_blank\" style=\"float:right; font-size:smaller\"}\n\n### Component.set_message_callback\n\n>      Component.set_message_callback (callback:Callable)\n\nSet the callback function for when a command is received.",
      "text/plain": "---\n\n[source](https://github.com/johnnewto/UAV/blob/main/UAV/mavlink/component.py#LNone){target=\"_blank\" style=\"float:right; font-size:smaller\"}\n\n### Component.set_message_callback\n\n>      Component.set_message_callback (callback:Callable)\n\nSet the callback function for when a command is received."
     },
     "execution_count": null,
     "metadata": {},
     "output_type": "execute_result"
    }
   ],
   "source": [
    "show_doc(Component.set_message_callback)"
   ]
  },
  {
   "cell_type": "code",
   "execution_count": null,
   "metadata": {},
   "outputs": [
    {
     "data": {
      "text/markdown": "---\n\n[source](https://github.com/johnnewto/UAV/blob/main/UAV/mavlink/component.py#LNone){target=\"_blank\" style=\"float:right; font-size:smaller\"}\n\n### Component._on_message_rcvd\n\n>      Component._on_message_rcvd (msg)",
      "text/plain": "---\n\n[source](https://github.com/johnnewto/UAV/blob/main/UAV/mavlink/component.py#LNone){target=\"_blank\" style=\"float:right; font-size:smaller\"}\n\n### Component._on_message_rcvd\n\n>      Component._on_message_rcvd (msg)"
     },
     "execution_count": null,
     "metadata": {},
     "output_type": "execute_result"
    }
   ],
   "source": [
    "show_doc(Component._on_message_rcvd)"
   ]
  },
  {
   "cell_type": "code",
   "execution_count": null,
   "metadata": {},
   "outputs": [
    {
     "data": {
      "text/markdown": "---\n\n[source](https://github.com/johnnewto/UAV/blob/main/UAV/mavlink/component.py#LNone){target=\"_blank\" style=\"float:right; font-size:smaller\"}\n\n### Component.send_command\n\n>      Component.send_command (target_system:int, target_component:int,\n>                              command_id:int, params:list, timeout=0.5)\n\n|    | **Type** | **Default** | **Details** |\n| -- | -------- | ----------- | ----------- |\n| target_system | int |  | target system |\n| target_component | int |  | target component |\n| command_id | int |  | mavutil.mavlink.MAV_CMD.... |\n| params | list |  | list of parameters |\n| timeout | float | 0.5 | seconds |",
      "text/plain": "---\n\n[source](https://github.com/johnnewto/UAV/blob/main/UAV/mavlink/component.py#LNone){target=\"_blank\" style=\"float:right; font-size:smaller\"}\n\n### Component.send_command\n\n>      Component.send_command (target_system:int, target_component:int,\n>                              command_id:int, params:list, timeout=0.5)\n\n|    | **Type** | **Default** | **Details** |\n| -- | -------- | ----------- | ----------- |\n| target_system | int |  | target system |\n| target_component | int |  | target component |\n| command_id | int |  | mavutil.mavlink.MAV_CMD.... |\n| params | list |  | list of parameters |\n| timeout | float | 0.5 | seconds |"
     },
     "execution_count": null,
     "metadata": {},
     "output_type": "execute_result"
    }
   ],
   "source": [
    "show_doc(Component.send_command)"
   ]
  },
  {
   "cell_type": "code",
   "execution_count": null,
   "metadata": {},
   "outputs": [
    {
     "data": {
      "text/markdown": "---\n\n[source](https://github.com/johnnewto/UAV/blob/main/UAV/mavlink/component.py#LNone){target=\"_blank\" style=\"float:right; font-size:smaller\"}\n\n### Component.wait_heartbeat\n\n>      Component.wait_heartbeat (remote_mav_type=None, target_system=None,\n>                                target_component=None, timeout:int=1,\n>                                tries:int=3)\n\nWait for a heartbeat from target_system and target_component.\n\n|    | **Type** | **Default** | **Details** |\n| -- | -------- | ----------- | ----------- |\n| remote_mav_type | NoneType | None | type of remote system |\n| target_system | NoneType | None | target system |\n| target_component | NoneType | None | target component |\n| timeout | int | 1 | seconds |\n| tries | int | 3 |  |\n| **Returns** | **bool** |  | **number of tries** |",
      "text/plain": "---\n\n[source](https://github.com/johnnewto/UAV/blob/main/UAV/mavlink/component.py#LNone){target=\"_blank\" style=\"float:right; font-size:smaller\"}\n\n### Component.wait_heartbeat\n\n>      Component.wait_heartbeat (remote_mav_type=None, target_system=None,\n>                                target_component=None, timeout:int=1,\n>                                tries:int=3)\n\nWait for a heartbeat from target_system and target_component.\n\n|    | **Type** | **Default** | **Details** |\n| -- | -------- | ----------- | ----------- |\n| remote_mav_type | NoneType | None | type of remote system |\n| target_system | NoneType | None | target system |\n| target_component | NoneType | None | target component |\n| timeout | int | 1 | seconds |\n| tries | int | 3 |  |\n| **Returns** | **bool** |  | **number of tries** |"
     },
     "execution_count": null,
     "metadata": {},
     "output_type": "execute_result"
    }
   ],
   "source": [
    "show_doc(Component.wait_heartbeat)"
   ]
  },
  {
   "cell_type": "code",
   "execution_count": null,
   "metadata": {},
   "outputs": [
    {
     "data": {
      "text/markdown": "---\n\n[source](https://github.com/johnnewto/UAV/blob/main/UAV/mavlink/component.py#LNone){target=\"_blank\" style=\"float:right; font-size:smaller\"}\n\n### Component.wait_ack\n\n>      Component.wait_ack (target_system, target_component, command_id=None,\n>                          timeout=0.1)\n\nWait for an ack from target_system and target_component.",
      "text/plain": "---\n\n[source](https://github.com/johnnewto/UAV/blob/main/UAV/mavlink/component.py#LNone){target=\"_blank\" style=\"float:right; font-size:smaller\"}\n\n### Component.wait_ack\n\n>      Component.wait_ack (target_system, target_component, command_id=None,\n>                          timeout=0.1)\n\nWait for an ack from target_system and target_component."
     },
     "execution_count": null,
     "metadata": {},
     "output_type": "execute_result"
    }
   ],
   "source": [
    "show_doc(Component.wait_ack)"
   ]
  },
  {
   "cell_type": "code",
   "execution_count": null,
   "metadata": {},
   "outputs": [
    {
     "data": {
      "text/markdown": "---\n\n[source](https://github.com/johnnewto/UAV/blob/main/UAV/mavlink/component.py#LNone){target=\"_blank\" style=\"float:right; font-size:smaller\"}\n\n### Component.send_ping\n\n>      Component.send_ping (target_system:int, target_component:int,\n>                           ping_num:int=None)\n\nSend self.max_pings * ping messages to test if the server is alive.",
      "text/plain": "---\n\n[source](https://github.com/johnnewto/UAV/blob/main/UAV/mavlink/component.py#LNone){target=\"_blank\" style=\"float:right; font-size:smaller\"}\n\n### Component.send_ping\n\n>      Component.send_ping (target_system:int, target_component:int,\n>                           ping_num:int=None)\n\nSend self.max_pings * ping messages to test if the server is alive."
     },
     "execution_count": null,
     "metadata": {},
     "output_type": "execute_result"
    }
   ],
   "source": [
    "show_doc(Component.send_ping)"
   ]
  },
  {
   "cell_type": "markdown",
   "metadata": {},
   "source": [
    "## Test locally using UDP ports\n",
    "#### Starting a client and server\n",
    " > on the same machine using UDP ports `14445`  with `server_system_ID=111, client_system_ID=222`"
   ]
  },
  {
   "cell_type": "code",
   "execution_count": null,
   "metadata": {},
   "outputs": [
    {
     "name": "stderr",
     "output_type": "stream",
     "text": [
      "\u001b[32mINFO   | mavcom.MAVCom      | 12.366 |  mavcom.py:396 | Thread-37 (listen) | MAVLink Mav2: True, source_system: 111\u001b[0m\n",
      "\u001b[32mINFO   | mavcom.MAVCom      | 12.468 |  mavcom.py:396 | Thread-38 (listen) | MAVLink Mav2: True, source_system: 222\u001b[0m\n",
      "\u001b[32mINFO   | mavcom.Cli         | 12.471 | component.py:127 | MainThread         | Component Started self.source_component = 11, self.mav_type = 6, self.source_system = 111\u001b[0m\n",
      "\u001b[32mINFO   | mavcom.Cam1        | 12.472 | component.py:127 | MainThread         | Component Started self.source_component = 22, self.mav_type = 30, self.source_system = 222\u001b[0m\n",
      "\u001b[32mINFO   | mavcom.Cam1        | 12.474 | component.py:127 | MainThread         | Component Started self.source_component = 23, self.mav_type = 30, self.source_system = 222\u001b[0m\n"
     ]
    },
    {
     "name": "stdout",
     "output_type": "stream",
     "text": [
      "set_mav_connection Cli component.py:123 self.mav_connection = <MAVCom>\n",
      "set_mav_connection Cam1 component.py:123 self.mav_connection = <MAVCom>\n",
      "set_mav_connection Cam1 component.py:123 self.mav_connection = <MAVCom>\n",
      "*** Received heartbeat **** \n"
     ]
    },
    {
     "name": "stderr",
     "output_type": "stream",
     "text": [
      "\u001b[33mWARNIN | mavcom.Cli         | 12.976 | component.py:352 | MainThread         | **No ACK: 222/22 MAV_CMD_DO_DIGICAM_CONTROL:203\u001b[0m\n",
      "\u001b[33mWARNIN | mavcom.Cli         | 13.477 | component.py:352 | MainThread         | **No ACK: 222/23 MAV_CMD_DO_DIGICAM_CONTROL:203\u001b[0m\n",
      "\u001b[33mWARNIN | mavcom.Cli         | 13.979 | component.py:352 | MainThread         | **No ACK: 222/22 MAV_CMD_DO_DIGICAM_CONTROL:203\u001b[0m\n",
      "\u001b[33mWARNIN | mavcom.Cli         | 14.481 | component.py:352 | MainThread         | **No ACK: 222/23 MAV_CMD_DO_DIGICAM_CONTROL:203\u001b[0m\n",
      "\u001b[31mERROR  | mavcom.MAVCom      | 14.482 |  mavcom.py:419 | Thread-38 (listen) |  Component 24 does not exist? ; Exception: 24\u001b[0m\n",
      "\u001b[33mWARNIN | mavcom.Cli         | 14.982 | component.py:352 | MainThread         | **No ACK: 222/24 MAV_CMD_DO_DIGICAM_CONTROL:203\u001b[0m\n",
      "\u001b[32mINFO   | mavcom.Cam1        | 15.476 | component.py:382 | MainThread         | Cam1 closed\u001b[0m\n",
      "\u001b[32mINFO   | mavcom.Cam1        | 15.477 | component.py:382 | MainThread         | Cam1 closed\u001b[0m\n",
      "\u001b[32mINFO   | mavcom.MAVCom      | 15.479 |  mavcom.py:447 | MainThread         | MAVCom  closed\u001b[0m\n"
     ]
    },
    {
     "name": "stdout",
     "output_type": "stream",
     "text": [
      "server.source_system = 222;  server.message_cnts = {111: {'COMMAND_LONG': 5, 'HEARTBEAT': 3}}\n",
      "client.source_system = 111;  client.message_cnts = {222: {'HEARTBEAT': 6}}\n",
      "\n",
      "client.source_system = 111 \n",
      " - comp.source_component = 11\n",
      " - comp.num_msgs_rcvd = 6\n",
      " - comp.num_cmds_sent = 5\n",
      " - comp.num_cmds_rcvd = 0\n",
      " - comp.num_acks_rcvd = 0\n",
      " - comp.num_acks_sent = 0\n",
      " - comp.num_acks_drop = 5\n",
      " - comp.message_cnts = {222: {'HEARTBEAT': 6}} \n",
      "\n",
      "server.source_system = 222 \n",
      " - comp.source_component = 22\n",
      " - comp.num_msgs_rcvd = 4\n",
      " - comp.num_cmds_sent = 0\n",
      " - comp.num_cmds_rcvd = 2\n",
      " - comp.num_acks_rcvd = 0\n",
      " - comp.num_acks_sent = 0\n",
      " - comp.num_acks_drop = 0\n",
      " - comp.message_cnts = {111: {'COMMAND_LONG': 2, 'HEARTBEAT': 2}}\n",
      " - comp.source_component = 23\n",
      " - comp.num_msgs_rcvd = 4\n",
      " - comp.num_cmds_sent = 0\n",
      " - comp.num_cmds_rcvd = 2\n",
      " - comp.num_acks_rcvd = 0\n",
      " - comp.num_acks_sent = 0\n",
      " - comp.num_acks_drop = 0\n",
      " - comp.message_cnts = {111: {'COMMAND_LONG': 2, 'HEARTBEAT': 2}} \n"
     ]
    },
    {
     "name": "stderr",
     "output_type": "stream",
     "text": [
      "\u001b[32mINFO   | mavcom.Cli         | 17.475 | component.py:382 | MainThread         | Cli closed\u001b[0m\n",
      "\u001b[32mINFO   | mavcom.MAVCom      | 17.477 |  mavcom.py:447 | MainThread         | MAVCom  closed\u001b[0m\n"
     ]
    },
    {
     "ename": "AssertionError",
     "evalue": "",
     "output_type": "error",
     "traceback": [
      "\u001b[0;31m---------------------------------------------------------------------------\u001b[0m",
      "\u001b[0;31mAssertionError\u001b[0m                            Traceback (most recent call last)",
      "Cell \u001b[0;32mIn[81], line 53\u001b[0m\n\u001b[1;32m     50\u001b[0m         \u001b[38;5;28;01massert\u001b[39;00m server\u001b[38;5;241m.\u001b[39mcomponent[\u001b[38;5;241m22\u001b[39m]\u001b[38;5;241m.\u001b[39mnum_cmds_rcvd \u001b[38;5;241m==\u001b[39m NUM_TO_SEND\n\u001b[1;32m     51\u001b[0m         \u001b[38;5;28;01massert\u001b[39;00m server\u001b[38;5;241m.\u001b[39mcomponent[\u001b[38;5;241m23\u001b[39m]\u001b[38;5;241m.\u001b[39mnum_cmds_rcvd \u001b[38;5;241m==\u001b[39m NUM_TO_SEND\n\u001b[0;32m---> 53\u001b[0m \u001b[43mtest_ack\u001b[49m\u001b[43m(\u001b[49m\u001b[43m)\u001b[49m\n",
      "Cell \u001b[0;32mIn[81], line 48\u001b[0m, in \u001b[0;36mtest_ack\u001b[0;34m()\u001b[0m\n\u001b[1;32m     45\u001b[0m \u001b[38;5;28mprint\u001b[39m(\u001b[38;5;124mf\u001b[39m\u001b[38;5;124m\"\u001b[39m\u001b[38;5;132;01m{\u001b[39;00mserver\u001b[38;5;241m.\u001b[39msource_system\u001b[38;5;250m \u001b[39m\u001b[38;5;132;01m= }\u001b[39;00m\u001b[38;5;124m \u001b[39m\u001b[38;5;130;01m\\n\u001b[39;00m\u001b[38;5;132;01m{\u001b[39;00mserver\u001b[38;5;241m.\u001b[39msummary()\u001b[38;5;132;01m}\u001b[39;00m\u001b[38;5;124m \u001b[39m\u001b[38;5;130;01m\\n\u001b[39;00m\u001b[38;5;124m\"\u001b[39m)\n\u001b[1;32m     47\u001b[0m \u001b[38;5;28;01massert\u001b[39;00m client\u001b[38;5;241m.\u001b[39mcomponent[\u001b[38;5;241m11\u001b[39m]\u001b[38;5;241m.\u001b[39mnum_cmds_sent \u001b[38;5;241m==\u001b[39m NUM_TO_SEND \u001b[38;5;241m*\u001b[39m \u001b[38;5;241m2\u001b[39m \u001b[38;5;241m+\u001b[39m \u001b[38;5;241m1\u001b[39m\n\u001b[0;32m---> 48\u001b[0m \u001b[38;5;28;01massert\u001b[39;00m client\u001b[38;5;241m.\u001b[39mcomponent[\u001b[38;5;241m11\u001b[39m]\u001b[38;5;241m.\u001b[39mnum_acks_rcvd \u001b[38;5;241m==\u001b[39m NUM_TO_SEND \u001b[38;5;241m*\u001b[39m \u001b[38;5;241m2\u001b[39m\n\u001b[1;32m     49\u001b[0m \u001b[38;5;28;01massert\u001b[39;00m client\u001b[38;5;241m.\u001b[39mcomponent[\u001b[38;5;241m11\u001b[39m]\u001b[38;5;241m.\u001b[39mnum_acks_drop \u001b[38;5;241m==\u001b[39m \u001b[38;5;241m1\u001b[39m\n\u001b[1;32m     50\u001b[0m \u001b[38;5;28;01massert\u001b[39;00m server\u001b[38;5;241m.\u001b[39mcomponent[\u001b[38;5;241m22\u001b[39m]\u001b[38;5;241m.\u001b[39mnum_cmds_rcvd \u001b[38;5;241m==\u001b[39m NUM_TO_SEND\n",
      "\u001b[0;31mAssertionError\u001b[0m: "
     ]
    }
   ],
   "source": [
    "# | exports\n",
    "\n",
    "from mavcom.mavlink.component import Component, mavutil\n",
    "from mavcom.mavlink.mavcom import MAVCom\n",
    "\n",
    "MAV_TYPE_GCS = mavutil.mavlink.MAV_TYPE_GCS\n",
    "MAV_TYPE_CAMERA = mavutil.mavlink.MAV_TYPE_CAMERA\n",
    "\n",
    "class Cam1(Component):\n",
    "    def __init__(self, source_component, mav_type, debug=False):\n",
    "        super().__init__(source_component=source_component, mav_type=mav_type,\n",
    "                         debug=debug)\n",
    "\n",
    "class Cam2(Component):\n",
    "    def __init__(self, source_component, mav_type, debug=False):\n",
    "        super().__init__(source_component=source_component, mav_type=mav_type,\n",
    "                         debug=debug)\n",
    "class Cli(Component):\n",
    "    def __init__(self, source_component, mav_type, debug=False):\n",
    "        super().__init__(source_component=source_component, mav_type=mav_type,\n",
    "                         debug=debug)\n",
    "\n",
    "def test_ack():\n",
    "    \"\"\"Test sending a command and receiving an ack from client to server\"\"\"\n",
    "    with MAVCom(\"udpin:localhost:14445\", source_system=111, debug=False) as client:\n",
    "        with MAVCom(\"udpout:localhost:14445\", source_system=222, debug=False) as server:\n",
    "            client.add_component(Cli(mav_type=MAV_TYPE_GCS, source_component = 11, debug=False))\n",
    "            server.add_component(Cam1(mav_type=MAV_TYPE_CAMERA, source_component = 22, debug=False))\n",
    "            server.add_component(Cam1(mav_type=MAV_TYPE_CAMERA, source_component = 23, debug=False))\n",
    "            \n",
    "            for key, comp in client.component.items():\n",
    "                if comp.wait_heartbeat(target_system=222, target_component=22, timeout=0.1):\n",
    "                    print (\"*** Received heartbeat **** \" )\n",
    "            NUM_TO_SEND = 2\n",
    "            for i in range(NUM_TO_SEND):\n",
    "                client.component[11]._test_command(222, 22, 1)\n",
    "                client.component[11]._test_command(222, 23, 1)\n",
    "                \n",
    "            client.component[11]._test_command(222, 24, 1)\n",
    "    \n",
    "        print(f\"{server.source_system = };  {server.message_cnts = }\")\n",
    "        print(f\"{client.source_system = };  {client.message_cnts = }\")\n",
    "        print()\n",
    "        print(f\"{client.source_system = } \\n{client.summary()} \\n\")\n",
    "        print(f\"{server.source_system = } \\n{server.summary()} \\n\")\n",
    "    \n",
    "        assert client.component[11].num_cmds_sent == NUM_TO_SEND * 2 + 1\n",
    "        assert client.component[11].num_acks_rcvd == NUM_TO_SEND * 2\n",
    "        assert client.component[11].num_acks_drop == 1\n",
    "        assert server.component[22].num_cmds_rcvd == NUM_TO_SEND\n",
    "        assert server.component[23].num_cmds_rcvd == NUM_TO_SEND\n",
    "        \n",
    "test_ack()"
   ]
  },
  {
   "cell_type": "markdown",
   "metadata": {},
   "source": [
    "#### Test with Serial ports\n",
    "Test using a Pixhawk connected via telemetry 2 and USB serial ports.\n",
    "CamClient is set to udpin:localhost:14445 and CamServer is set to udpout:localhost:14435 udpin is so that the client can receive UDP from the mavproxy server at localhost:14445\n",
    "mavproxy.py --master=/dev/ttyACM1 --baudrate 57600 --out udpout:localhost:14445 mavproxy.py --master=/dev/ttyACM3 --baudrate 57600 --out udpout:localhost:14435"
   ]
  },
  {
   "cell_type": "markdown",
   "metadata": {},
   "source": [
    "> For debugging help see http://localhost:3000/tutorials/mavlink_doc&debug.html and http://localhost:3000/tutorials/mavlink_doc&debug.html#debugging"
   ]
  },
  {
   "cell_type": "markdown",
   "metadata": {},
   "source": []
  },
  {
   "cell_type": "code",
   "execution_count": null,
   "metadata": {},
   "outputs": [],
   "source": [
    "#| hide\n",
    "# from nbdev import nbdev_export\n",
    "# nbdev_export()"
   ]
  }
 ],
 "metadata": {
  "kernelspec": {
   "display_name": "python3",
   "language": "python",
   "name": "python3"
  }
 },
 "nbformat": 4,
 "nbformat_minor": 4
}
