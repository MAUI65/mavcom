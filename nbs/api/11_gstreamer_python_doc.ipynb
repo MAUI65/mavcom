{
 "cells": [
  {
   "cell_type": "code",
   "execution_count": null,
   "metadata": {},
   "outputs": [],
   "source": [
    "#| hide\n",
    "# no export documentation only   "
   ]
  },
  {
   "cell_type": "markdown",
   "metadata": {},
   "source": [
    "\n",
    "# Gstreamer Python Documentation\n",
    "> Gstreamer python library Docs\n",
    "> Documenting use of [this](https://github.com/johnnewto/gstreamer-python) repo\n",
    "> Forked from [this](https://github.com/jackersson/gstreamer-python) repo\n"
   ]
  },
  {
   "cell_type": "code",
   "execution_count": null,
   "metadata": {},
   "outputs": [],
   "source": [
    "#| hide\n",
    "%load_ext autoreload\n",
    "%autoreload 2"
   ]
  },
  {
   "cell_type": "code",
   "execution_count": null,
   "metadata": {},
   "outputs": [],
   "source": [
    "#| hide\n",
    "# skip_showdoc: true to avoid running cells when rendering docs, and skip_exec: true to skip this notebook when running tests. \n",
    "# this should be a raw cell "
   ]
  },
  {
   "cell_type": "raw",
   "metadata": {},
   "source": [
    "---\n",
    "skip_showdoc: true\n",
    "skip_exec: true\n",
    "---"
   ]
  },
  {
   "cell_type": "code",
   "execution_count": null,
   "metadata": {},
   "outputs": [],
   "source": [
    "%%capture\n",
    "from mavcom.imports import *   # TODO why is this relative import on nbdev_export?\n",
    "import cv2\n",
    "import gi\n",
    "import numpy as np\n",
    "from imutils import resize\n",
    "\n",
    "from PIL import Image\n",
    "\n",
    "\n",
    "import time\n",
    "# from dataloader import LoadImages, resize\n",
    "from pathlib import Path\n",
    "# import logging\n",
    "\n",
    "# gi.require_version('Gst', '1.0')\n"
   ]
  },
  {
   "cell_type": "code",
   "execution_count": null,
   "metadata": {},
   "outputs": [],
   "source": [
    "\n",
    "from gstreamer import GstPipeline, GstContext, GstVidSrcValve, GstApp, Gst, GstVideo\n",
    "import gstreamer.utils as gst_utils\n",
    "from mavcom.utils import *\n",
    "from mavcom.imports import *   # TODO why is this relative import on nbdev_export?\n",
    "import time\n",
    "\n"
   ]
  },
  {
   "cell_type": "code",
   "execution_count": null,
   "metadata": {},
   "outputs": [],
   "source": [
    "#| hide\n",
    "from fastcore.utils import *\n",
    "from nbdev.showdoc import *\n",
    "from fastcore.test import *"
   ]
  },
  {
   "cell_type": "code",
   "execution_count": null,
   "metadata": {},
   "outputs": [
    {
     "data": {
      "text/markdown": "---\n\n### GstVidSrcValve\n\n>      GstVidSrcValve (command:str, leaky:bool=False, max_buffers_size:int=100,\n>                      loglevel:gstreamer.gst_tools.LogLevels=20)\n\nGstVideoSourceValve is a wrapper around a GStreamer pipeline that provides get and set methods for valve states.\n\n|    | **Type** | **Default** | **Details** |\n| -- | -------- | ----------- | ----------- |\n| command | str |  | Gst_launch string |\n| leaky | bool | False | If True -> use LeakyQueue |\n| max_buffers_size | int | 100 | Max queue size |\n| loglevel | LogLevels | 20 |  |",
      "text/plain": "---\n\n### GstVidSrcValve\n\n>      GstVidSrcValve (command:str, leaky:bool=False, max_buffers_size:int=100,\n>                      loglevel:gstreamer.gst_tools.LogLevels=20)\n\nGstVideoSourceValve is a wrapper around a GStreamer pipeline that provides get and set methods for valve states.\n\n|    | **Type** | **Default** | **Details** |\n| -- | -------- | ----------- | ----------- |\n| command | str |  | Gst_launch string |\n| leaky | bool | False | If True -> use LeakyQueue |\n| max_buffers_size | int | 100 | Max queue size |\n| loglevel | LogLevels | 20 |  |"
     },
     "execution_count": null,
     "metadata": {},
     "output_type": "execute_result"
    }
   ],
   "source": [
    "show_doc(GstVidSrcValve)"
   ]
  },
  {
   "cell_type": "markdown",
   "metadata": {},
   "source": [
    "### Setup the pipeline commands\n",
    "The valve is used to pause the video, this way we can multiplex the video stream so to conserve bandwidth\n"
   ]
  },
  {
   "cell_type": "code",
   "execution_count": null,
   "metadata": {},
   "outputs": [
    {
     "data": {
      "text/markdown": "---\n\n### GstVidSrcValve.set_valve_state\n\n>      GstVidSrcValve.set_valve_state (valve_name:str, dropstate:bool)\n\nSet the state of a valve in the pipeline\n\n|    | **Type** | **Details** |\n| -- | -------- | ----------- |\n| valve_name | str | Name of the valve in the pipeline |\n| dropstate | bool | True = drop, False = pass |",
      "text/plain": "---\n\n### GstVidSrcValve.set_valve_state\n\n>      GstVidSrcValve.set_valve_state (valve_name:str, dropstate:bool)\n\nSet the state of a valve in the pipeline\n\n|    | **Type** | **Details** |\n| -- | -------- | ----------- |\n| valve_name | str | Name of the valve in the pipeline |\n| dropstate | bool | True = drop, False = pass |"
     },
     "execution_count": null,
     "metadata": {},
     "output_type": "execute_result"
    }
   ],
   "source": [
    "show_doc(GstVidSrcValve.set_valve_state)"
   ]
  },
  {
   "cell_type": "markdown",
   "metadata": {},
   "source": [
    "The valve is used to pause the video, this way we can multiplex the video stream so to conserve bandwidth"
   ]
  },
  {
   "cell_type": "code",
   "execution_count": null,
   "metadata": {},
   "outputs": [
    {
     "data": {
      "text/markdown": "---\n\n### GstVidSrcValve.get_valve_state\n\n>      GstVidSrcValve.get_valve_state (valve_name:str)\n\nGet the state of a valve in the pipeline\n\n|    | **Type** | **Details** |\n| -- | -------- | ----------- |\n| valve_name | str | Name of the valve in the pipeline |",
      "text/plain": "---\n\n### GstVidSrcValve.get_valve_state\n\n>      GstVidSrcValve.get_valve_state (valve_name:str)\n\nGet the state of a valve in the pipeline\n\n|    | **Type** | **Details** |\n| -- | -------- | ----------- |\n| valve_name | str | Name of the valve in the pipeline |"
     },
     "execution_count": null,
     "metadata": {},
     "output_type": "execute_result"
    }
   ],
   "source": [
    "show_doc(GstVidSrcValve.get_valve_state)"
   ]
  },
  {
   "cell_type": "code",
   "execution_count": null,
   "metadata": {},
   "outputs": [],
   "source": [
    "DEFAULT_PIPELINE = gst_utils.to_gst_string([\n",
    "            'videotestsrc pattern=ball is-live=true num-buffers=1000 ! tee name=t',\n",
    "            't.',\n",
    "            'queue leaky=2 ! valve name=myvalve drop=False ! video/x-raw,format=I420,width=640,height=480',\n",
    "            'videoconvert',\n",
    "            # 'x264enc tune=zerolatency noise-reduction=10000 bitrate=2048 speed-preset=superfast',\n",
    "            'x264enc tune=zerolatency',\n",
    "            'rtph264pay ! udpsink host=127.0.0.1 port=5000',\n",
    "            't.',\n",
    "            'queue leaky=2 ! videoconvert ! videorate drop-only=true ! video/x-raw,framerate=5/1,format=(string)BGR',\n",
    "            'videoconvert ! appsink name=mysink emit-signals=true  sync=false async=false  max-buffers=2 drop=true ',\n",
    "        ])"
   ]
  },
  {
   "cell_type": "code",
   "execution_count": null,
   "metadata": {},
   "outputs": [
    {
     "name": "stdout",
     "output_type": "stream",
     "text": [
      " dropstate = True, count = 10\n",
      " dropstate = False, count = 20\n",
      " dropstate = True, count = 30\n",
      " dropstate = False, count = 40\n",
      "Got: 40 buffers\n"
     ]
    },
    {
     "data": {
      "image/png": "[encoded data removed]",
      "text/plain": "<Figure size 1200x1000 with 4 Axes>"
     },
     "metadata": {},
     "output_type": "display_data"
    }
   ],
   "source": [
    "command = DEFAULT_PIPELINE\n",
    "width, height, num_buffers = 1920, 1080, 40\n",
    "with GstVidSrcValve(command, leaky=True) as pipeline:\n",
    "    buffers = []\n",
    "    count = 0\n",
    "    dropstate = False\n",
    "    while len(buffers) < num_buffers:\n",
    "        time.sleep(0.1)\n",
    "        count += 1\n",
    "        if count % 10 == 0:\n",
    "            dropstate = not dropstate\n",
    "            pipeline.set_valve_state(\"myvalve\", dropstate)\n",
    "            print(f' {dropstate = }, {count = }')\n",
    "        buffer = pipeline.pop()\n",
    "        if buffer:\n",
    "            buffers.append(buffer)\n",
    "            # if len(buffers) % 10 == 0:\n",
    "            #     print(f'Got: {len(buffers)} buffers of {pipeline.queue_size}')\n",
    "    print('Got: {} buffers'.format(len(buffers)))\n",
    "    \n",
    "_,axs = plt.subplots(2,2,figsize=(12,10))\n",
    "for i,ax in enumerate(axs.flatten()): show_image(buffers[i*5].data, ax=ax, title=f'image {i*5}')"
   ]
  },
  {
   "cell_type": "markdown",
   "metadata": {},
   "source": [
    "### Show the video on screen using two pipelines"
   ]
  },
  {
   "cell_type": "code",
   "execution_count": null,
   "metadata": {},
   "outputs": [
    {
     "name": "stdout",
     "output_type": "stream",
     "text": [
      "videotestsrc pattern=ball is-live=true num-buffers=1000 ! video/x-raw,framerate=5/1 !  tee name=t t. ! queue leaky=2 ! valve name=myvalve drop=False ! video/x-raw,format=I420,width=640,height=480 ! videoconvert ! x264enc tune=zerolatency ! rtph264pay ! udpsink host=127.0.0.1 port=5000 t. ! queue leaky=2 ! videoconvert ! videorate drop-only=true ! video/x-raw,framerate=5/1,format=(string)BGR ! videoconvert ! appsink name=mysink emit-signals=true  sync=false async=false  max-buffers=2 drop=true \n"
     ]
    }
   ],
   "source": [
    "SRC_PIPELINE = gst_utils.to_gst_string([\n",
    "            'videotestsrc pattern=ball is-live=true num-buffers=1000 ! video/x-raw,framerate=5/1 !  tee name=t',\n",
    "            't.',\n",
    "            'queue leaky=2 ! valve name=myvalve drop=False ! video/x-raw,format=I420,width=640,height=480',\n",
    "            # 'textoverlay text=\"Frame: \" valignment=top halignment=left shaded-background=true',\n",
    "            # 'timeoverlay valignment=top halignment=right shaded-background=true',\n",
    "\n",
    "            'videoconvert',\n",
    "            # 'x264enc tune=zerolatency noise-reduction=10000 bitrate=2048 speed-preset=superfast',\n",
    "            'x264enc tune=zerolatency',\n",
    "            'rtph264pay ! udpsink host=127.0.0.1 port=5000',\n",
    "            't.',\n",
    "            'queue leaky=2 ! videoconvert ! videorate drop-only=true ! video/x-raw,framerate=5/1,format=(string)BGR',\n",
    "            'videoconvert ! appsink name=mysink emit-signals=true  sync=false async=false  max-buffers=2 drop=true ',\n",
    "        ])\n",
    "print(SRC_PIPELINE)\n",
    "SINK_PIPELINE = gst_utils.to_gst_string([\n",
    "            'udpsrc port=5000 ! application/x-rtp, media=(string)video, clock-rate=(int)90000, encoding-name=(string)H264, payload=(int)96',\n",
    "            'rtph264depay ! avdec_h264',\n",
    "            'fpsdisplaysink',\n",
    "            # 'autovideosink',\n",
    "        ])"
   ]
  },
  {
   "cell_type": "code",
   "execution_count": null,
   "metadata": {},
   "outputs": [
    {
     "name": "stdout",
     "output_type": "stream",
     "text": [
      "Count = : 10\n",
      "Got: 10 buffers of 0\n",
      "Count = : 20\n",
      "Got: 20 buffers of 0\n",
      "Count = : 30\n",
      "Got: 30 buffers of 0\n",
      "Count = : 40\n",
      "Got: 40 buffers of 0\n",
      "Got: 40 buffers\n"
     ]
    }
   ],
   "source": [
    "num_buffers = 40\n",
    "with GstPipeline(SINK_PIPELINE) as rcv_pipeline:\n",
    "    with GstVidSrcValve(SRC_PIPELINE, leaky=True) as pipeline:\n",
    "        buffers = []\n",
    "        count = 0\n",
    "        dropstate = False\n",
    "        while len(buffers) < num_buffers:\n",
    "            time.sleep(0.1)\n",
    "            count += 1\n",
    "            if count % 10 == 0:\n",
    "                print(f'Count = : {count}')\n",
    "                dropstate = not dropstate\n",
    "                pipeline.set_valve_state(\"myvalve\", dropstate)\n",
    "            buffer = pipeline.pop()\n",
    "            if buffer:\n",
    "\n",
    "                buffers.append(buffer)\n",
    "                if len(buffers) % 10 == 0:\n",
    "                    print(f'Got: {len(buffers)} buffers of {pipeline.queue_size}')\n",
    "        print('Got: {} buffers'.format(len(buffers)))"
   ]
  },
  {
   "cell_type": "code",
   "execution_count": null,
   "metadata": {},
   "outputs": [],
   "source": [
    "# assert False, 'stop here'"
   ]
  },
  {
   "cell_type": "code",
   "execution_count": null,
   "metadata": {},
   "outputs": [],
   "source": [
    "#| hide\n",
    "# from nbdev import nbdev_export\n",
    "# nbdev_export()"
   ]
  }
 ],
 "metadata": {
  "kernelspec": {
   "display_name": "python3",
   "language": "python",
   "name": "python3"
  }
 },
 "nbformat": 4,
 "nbformat_minor": 4
}
