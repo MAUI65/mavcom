{
 "cells": [
  {
   "cell_type": "markdown",
   "metadata": {},
   "source": []
  },
  {
   "cell_type": "markdown",
   "metadata": {},
   "source": [
    "# Mavlink  MavCom\n",
    "> Mavlink  base class for Client and server.\n",
    "> Theserver is on the companion computer and the client is on the ground station PC.\n",
    "\n",
    "[https://mavlink.io/en/mavgen_python/](https://mavlink.io/en/mavgen_python/)\n",
    "[https://www.ardusub.com/developers/pymavlink.html](https://www.ardusub.com/developers/pymavlink.html)\n",
    "\n",
    "https://mavlink.io/en/messages/common.html\n",
    "https://mavlink.io/en/messages/common.html#MAV_TYPE\n",
    "\n"
   ]
  },
  {
   "cell_type": "code",
   "execution_count": null,
   "metadata": {},
   "outputs": [],
   "source": [
    "#| default_exp mavlink.test_mavcom "
   ]
  },
  {
   "cell_type": "code",
   "execution_count": null,
   "metadata": {},
   "outputs": [
    {
     "name": "stdout",
     "output_type": "stream",
     "text": [
      "The autoreload extension is already loaded. To reload it, use:\n",
      "  %reload_ext autoreload\n"
     ]
    }
   ],
   "source": [
    "#| hide\n",
    "%load_ext autoreload\n",
    "%autoreload 2"
   ]
  },
  {
   "cell_type": "code",
   "execution_count": null,
   "metadata": {},
   "outputs": [],
   "source": [
    "#| hide\n",
    "# skip_showdoc: true to avoid running cells when rendering docs, and \n",
    "# skip_exec: true to skip this notebook when running tests. \n",
    "# this should be a raw cell "
   ]
  },
  {
   "cell_type": "code",
   "execution_count": null,
   "metadata": {},
   "outputs": [],
   "source": []
  },
  {
   "cell_type": "raw",
   "metadata": {},
   "source": [
    "---\n",
    "skip_showdoc: true\n",
    "skip_exec: true\n",
    "---"
   ]
  },
  {
   "cell_type": "code",
   "execution_count": null,
   "metadata": {},
   "outputs": [],
   "source": [
    "#| export\n",
    "import time, os, sys\n",
    "\n",
    "from mavcom.logging import logging\n",
    "from mavcom.utils.general import LeakyQueue\n",
    "\n",
    "# os.environ['MAVLINK20'] == '1' should be placed in mavcom.__init__.py\n",
    "assert os.environ[\n",
    "           'MAVLINK20'] == '1', \"Set the environment variable before from pymavlink import mavutil  library is imported\"\n",
    "\n",
    "# logging.getLogger(\"uav\").setLevel(logging.DEBUG)\n",
    "# logging.root.setLevel(logging.INFO)\n",
    "import threading\n",
    "import queue\n",
    "import typing as typ\n",
    "from pathlib import Path\n",
    "from inspect import currentframe, getframeinfo\n",
    "from pymavlink import mavutil\n",
    "from mavcom.mavlink import Component, MAVCom\n",
    "from mavcom.mavlink.mavcom import *\n",
    "from fastcore.test import *\n",
    "# from mavcom.imports import *   # TODO why is this relative import on nbdev_export?\n"
   ]
  },
  {
   "cell_type": "code",
   "execution_count": null,
   "metadata": {},
   "outputs": [],
   "source": [
    "# logging.getLogger(\"uav\").setLevel(logging.INFO)"
   ]
  },
  {
   "cell_type": "code",
   "execution_count": null,
   "metadata": {},
   "outputs": [],
   "source": [
    "#| hide\n",
    "from fastcore.utils import *\n",
    "from nbdev.showdoc import *\n",
    "from fastcore.test import *"
   ]
  },
  {
   "cell_type": "code",
   "execution_count": null,
   "metadata": {},
   "outputs": [],
   "source": []
  },
  {
   "cell_type": "code",
   "execution_count": null,
   "metadata": {},
   "outputs": [
    {
     "data": {
      "text/markdown": "---\n\n[source](https://github.com/johnnewto/UAV/blob/main/UAV/mavlink/mavcom.py#LNone){target=\"_blank\" style=\"float:right; font-size:smaller\"}\n\n### get_linenumber\n\n>      get_linenumber ()",
      "text/plain": "---\n\n[source](https://github.com/johnnewto/UAV/blob/main/UAV/mavlink/mavcom.py#LNone){target=\"_blank\" style=\"float:right; font-size:smaller\"}\n\n### get_linenumber\n\n>      get_linenumber ()"
     },
     "execution_count": null,
     "metadata": {},
     "output_type": "execute_result"
    }
   ],
   "source": [
    "show_doc(get_linenumber)"
   ]
  },
  {
   "cell_type": "code",
   "execution_count": null,
   "metadata": {},
   "outputs": [],
   "source": [
    "\n",
    "MAV_SYSTEM_GCS_CLIENT = 200  # GCS type client (TODO its not clear if this is correct,  255 = GCS)\n",
    "MAV_TYPE_GCS = mavutil.mavlink.MAV_TYPE_GCS\n",
    "MAV_SYSTEM_VEHICLE = 111  # 1 = vehicle\n",
    "MAV_TYPE_CAMERA = mavutil.mavlink.MAV_TYPE_CAMERA\n",
    "MAV_COMP_ID_CAMERA = mavutil.mavlink.MAV_COMP_ID_CAMERA\n",
    "MAV_COMP_ID_USER1 = mavutil.mavlink.MAV_COMP_ID_USER1"
   ]
  },
  {
   "cell_type": "code",
   "execution_count": null,
   "metadata": {},
   "outputs": [
    {
     "data": {
      "text/markdown": "---\n\n[source](https://github.com/johnnewto/UAV/blob/main/UAV/mavlink/mavcom.py#LNone){target=\"_blank\" style=\"float:right; font-size:smaller\"}\n\n### BaseComponent\n\n>      BaseComponent (mav_connection, source_component, mav_type, debug)\n\nCreate a mavlink Component with an ID  for MAV_COMPONENT\n\n|    | **Details** |\n| -- | ----------- |\n| mav_connection | MavLinkBase connection |\n| source_component | used for component indication |\n| mav_type | used for heartbeat MAV_TYPE indication |\n| debug | logging level |",
      "text/plain": "---\n\n[source](https://github.com/johnnewto/UAV/blob/main/UAV/mavlink/mavcom.py#LNone){target=\"_blank\" style=\"float:right; font-size:smaller\"}\n\n### BaseComponent\n\n>      BaseComponent (mav_connection, source_component, mav_type, debug)\n\nCreate a mavlink Component with an ID  for MAV_COMPONENT\n\n|    | **Details** |\n| -- | ----------- |\n| mav_connection | MavLinkBase connection |\n| source_component | used for component indication |\n| mav_type | used for heartbeat MAV_TYPE indication |\n| debug | logging level |"
     },
     "execution_count": null,
     "metadata": {},
     "output_type": "execute_result"
    }
   ],
   "source": [
    "show_doc(Component)"
   ]
  },
  {
   "cell_type": "code",
   "execution_count": null,
   "metadata": {},
   "outputs": [
    {
     "data": {
      "text/markdown": "---\n\n[source](https://github.com/johnnewto/UAV/blob/main/UAV/mavlink/mavcom.py#LNone){target=\"_blank\" style=\"float:right; font-size:smaller\"}\n\n### MAVCom\n\n>      MAVCom (connection_string, baudrate=57600, source_system=111,\n>              debug=False)\n\nMavlink Base to set up a mavlink_connection for send and receive messages to and from a remote system.\n\n|    | **Type** | **Default** | **Details** |\n| -- | -------- | ----------- | ----------- |\n| connection_string |  |  | \"udpin:localhost:14550\" |\n| baudrate | int | 57600 | baud rate of the serial port |\n| source_system | int | 111 | remote or air uav system   1 = vehicle |\n| debug | bool | False | logging level |",
      "text/plain": "---\n\n[source](https://github.com/johnnewto/UAV/blob/main/UAV/mavlink/mavcom.py#LNone){target=\"_blank\" style=\"float:right; font-size:smaller\"}\n\n### MAVCom\n\n>      MAVCom (connection_string, baudrate=57600, source_system=111,\n>              debug=False)\n\nMavlink Base to set up a mavlink_connection for send and receive messages to and from a remote system.\n\n|    | **Type** | **Default** | **Details** |\n| -- | -------- | ----------- | ----------- |\n| connection_string |  |  | \"udpin:localhost:14550\" |\n| baudrate | int | 57600 | baud rate of the serial port |\n| source_system | int | 111 | remote or air uav system   1 = vehicle |\n| debug | bool | False | logging level |"
     },
     "execution_count": null,
     "metadata": {},
     "output_type": "execute_result"
    }
   ],
   "source": [
    "show_doc(MAVCom)"
   ]
  },
  {
   "cell_type": "code",
   "execution_count": null,
   "metadata": {},
   "outputs": [],
   "source": [
    "# | hide\n",
    "# assert False, \"Stop here\""
   ]
  },
  {
   "cell_type": "code",
   "execution_count": null,
   "metadata": {},
   "outputs": [],
   "source": [
    "# show_doc(MavLinkBase)"
   ]
  },
  {
   "cell_type": "markdown",
   "metadata": {},
   "source": [
    "#### Test locally using UDP ports"
   ]
  },
  {
   "cell_type": "markdown",
   "metadata": {},
   "source": [
    "#### Starting a client and server\n",
    " > on the same machine using UDP ports `14445`  with `server_system_ID=111, client_system_ID=222`"
   ]
  },
  {
   "cell_type": "code",
   "execution_count": null,
   "metadata": {},
   "outputs": [
    {
     "name": "stderr",
     "output_type": "stream",
     "text": [
      "\u001B[32mINFO   | mavcom.MAVCom      | 53.341 |  mavcom.py:393 | Thread-7 (listen)  | MAVLink Mav2: True, source_system: 111\u001B[0m\n",
      "\u001B[32mINFO   | mavcom.MAVCom      | 53.443 |  mavcom.py:393 | Thread-8 (listen)  | MAVLink Mav2: True, source_system: 222\u001B[0m\n",
      "\u001B[32mINFO   | mavcom.MAVCom      | 53.443 |  mavcom.py:441 | MainThread         | MAVCom  closed\u001B[0m\n",
      "\u001B[32mINFO   | mavcom.MAVCom      | 54.343 |  mavcom.py:441 | MainThread         | MAVCom  closed\u001B[0m\n"
     ]
    },
    {
     "ename": "AttributeError",
     "evalue": "'NoneType' object has no attribute 'source_system'",
     "output_type": "error",
     "traceback": [
      "\u001B[0;31m---------------------------------------------------------------------------\u001B[0m",
      "\u001B[0;31mAttributeError\u001B[0m                            Traceback (most recent call last)",
      "Cell \u001B[0;32mIn[35], line 21\u001B[0m\n\u001B[1;32m     18\u001B[0m     test_eq(client\u001B[38;5;241m.\u001B[39mmessage_cnts[\u001B[38;5;241m222\u001B[39m][\u001B[38;5;124m'\u001B[39m\u001B[38;5;124mPING\u001B[39m\u001B[38;5;124m'\u001B[39m], MAX_PINGS)\n\u001B[1;32m     19\u001B[0m     test_eq(client\u001B[38;5;241m.\u001B[39mmessage_cnts[\u001B[38;5;241m222\u001B[39m][\u001B[38;5;124m'\u001B[39m\u001B[38;5;124mHEARTBEAT\u001B[39m\u001B[38;5;124m'\u001B[39m]\u001B[38;5;241m>\u001B[39m\u001B[38;5;241m0\u001B[39m, \u001B[38;5;28;01mTrue\u001B[39;00m)\n\u001B[0;32m---> 21\u001B[0m \u001B[43mtest_MAVCom\u001B[49m\u001B[43m(\u001B[49m\u001B[43m)\u001B[49m\n",
      "Cell \u001B[0;32mIn[35], line 6\u001B[0m, in \u001B[0;36mtest_MAVCom\u001B[0;34m()\u001B[0m\n\u001B[1;32m      4\u001B[0m \u001B[38;5;28;01mwith\u001B[39;00m MAVCom(\u001B[38;5;124m\"\u001B[39m\u001B[38;5;124mudpin:localhost:14445\u001B[39m\u001B[38;5;124m\"\u001B[39m, source_system\u001B[38;5;241m=\u001B[39m\u001B[38;5;241m111\u001B[39m, debug\u001B[38;5;241m=\u001B[39m\u001B[38;5;28;01mFalse\u001B[39;00m) \u001B[38;5;28;01mas\u001B[39;00m client:\n\u001B[1;32m      5\u001B[0m     \u001B[38;5;28;01mwith\u001B[39;00m MAVCom(\u001B[38;5;124m\"\u001B[39m\u001B[38;5;124mudpout:localhost:14445\u001B[39m\u001B[38;5;124m\"\u001B[39m, source_system\u001B[38;5;241m=\u001B[39m\u001B[38;5;241m222\u001B[39m, debug\u001B[38;5;241m=\u001B[39m\u001B[38;5;28;01mFalse\u001B[39;00m) \u001B[38;5;28;01mas\u001B[39;00m server:\n\u001B[0;32m----> 6\u001B[0m         server\u001B[38;5;241m.\u001B[39madd_component(\u001B[43mBaseComponent\u001B[49m\u001B[43m(\u001B[49m\u001B[43mserver\u001B[49m\u001B[43m,\u001B[49m\u001B[43m \u001B[49m\u001B[43mmav_type\u001B[49m\u001B[38;5;241;43m=\u001B[39;49m\u001B[43mMAV_TYPE_CAMERA\u001B[49m\u001B[43m,\u001B[49m\u001B[43m \u001B[49m\u001B[43msource_component\u001B[49m\u001B[43m \u001B[49m\u001B[38;5;241;43m=\u001B[39;49m\u001B[43m \u001B[49m\u001B[38;5;241;43m22\u001B[39;49m\u001B[43m,\u001B[49m\u001B[43m \u001B[49m\u001B[43mdebug\u001B[49m\u001B[38;5;241;43m=\u001B[39;49m\u001B[38;5;28;43;01mFalse\u001B[39;49;00m\u001B[43m)\u001B[49m)\n\u001B[1;32m      7\u001B[0m         client\u001B[38;5;241m.\u001B[39madd_component(BaseComponent(client, mav_type\u001B[38;5;241m=\u001B[39mMAV_TYPE_GCS, source_component \u001B[38;5;241m=\u001B[39m \u001B[38;5;241m11\u001B[39m, debug\u001B[38;5;241m=\u001B[39m\u001B[38;5;28;01mFalse\u001B[39;00m))\n\u001B[1;32m      9\u001B[0m         MAX_PINGS \u001B[38;5;241m=\u001B[39m \u001B[38;5;241m4\u001B[39m\n",
      "File \u001B[0;32m~/PycharmProjects/UAV/UAV/mavlink/mavcom.py:87\u001B[0m, in \u001B[0;36mBaseComponent.__init__\u001B[0;34m(self, mav_connection, source_component, mav_type, debug)\u001B[0m\n\u001B[1;32m     85\u001B[0m \u001B[38;5;28mself\u001B[39m\u001B[38;5;241m.\u001B[39mmaster \u001B[38;5;241m=\u001B[39m \u001B[38;5;28;01mNone\u001B[39;00m\n\u001B[1;32m     86\u001B[0m \u001B[38;5;28mself\u001B[39m\u001B[38;5;241m.\u001B[39mmav_type \u001B[38;5;241m=\u001B[39m mav_type\n\u001B[0;32m---> 87\u001B[0m \u001B[38;5;28mself\u001B[39m\u001B[38;5;241m.\u001B[39msource_system \u001B[38;5;241m=\u001B[39m \u001B[38;5;28;43mself\u001B[39;49m\u001B[38;5;241;43m.\u001B[39;49m\u001B[43mmav_connection\u001B[49m\u001B[38;5;241;43m.\u001B[39;49m\u001B[43msource_system\u001B[49m\n\u001B[1;32m     88\u001B[0m \u001B[38;5;28mself\u001B[39m\u001B[38;5;241m.\u001B[39msource_component \u001B[38;5;241m=\u001B[39m source_component\n\u001B[1;32m     91\u001B[0m \u001B[38;5;28mself\u001B[39m\u001B[38;5;241m.\u001B[39m_log \u001B[38;5;241m=\u001B[39m logging\u001B[38;5;241m.\u001B[39mgetLogger(\u001B[38;5;124m\"\u001B[39m\u001B[38;5;124mmavcom.\u001B[39m\u001B[38;5;132;01m{}\u001B[39;00m\u001B[38;5;124m\"\u001B[39m\u001B[38;5;241m.\u001B[39mformat(\u001B[38;5;28mself\u001B[39m\u001B[38;5;241m.\u001B[39m\u001B[38;5;18m__class__\u001B[39m\u001B[38;5;241m.\u001B[39m\u001B[38;5;18m__name__\u001B[39m))\n",
      "\u001B[0;31mAttributeError\u001B[0m: 'NoneType' object has no attribute 'source_system'"
     ]
    }
   ],
   "source": [
    "\n",
    "#|exports\n",
    "def test_MAVCom():\n",
    "    \"\"\"Test MAVCom with a client and server on the same machine using UDP ports `14445`  with `server_system_ID=111, client_system_ID=222`\"\"\"\n",
    "    with MAVCom(\"udpin:localhost:14445\", source_system=111, debug=False) as client:\n",
    "        with MAVCom(\"udpout:localhost:14445\", source_system=222, debug=False) as server:\n",
    "            server.add_component(Component(server, mav_type=MAV_TYPE_CAMERA, source_component = 22, debug=False))\n",
    "            client.add_component(Component(client, mav_type=MAV_TYPE_GCS, source_component = 11, debug=False))\n",
    "    \n",
    "            MAX_PINGS = 4\n",
    "            client.component[11].send_ping(222, 22, max_pings=MAX_PINGS)\n",
    "            time.sleep(0.5)\n",
    "    \n",
    "    print(f\"{server.source_system = };  {server.message_cnts = }\")\n",
    "    print(f\"{client.source_system = };  {client.message_cnts = }\")\n",
    "    \n",
    "    test_eq(server.message_cnts[111]['PING'], MAX_PINGS)\n",
    "    test_eq(server.message_cnts[111]['HEARTBEAT']>0, True) \n",
    "    test_eq(client.message_cnts[222]['PING'], MAX_PINGS)\n",
    "    test_eq(client.message_cnts[222]['HEARTBEAT']>0, True)\n",
    "    \n",
    "test_MAVCom()"
   ]
  },
  {
   "cell_type": "code",
   "execution_count": null,
   "metadata": {},
   "outputs": [],
   "source": [
    "#| Hide\n",
    "# assert False, \"Stop here\""
   ]
  },
  {
   "cell_type": "code",
   "execution_count": null,
   "metadata": {},
   "outputs": [],
   "source": [
    "show_doc(MAVCom.add_component)"
   ]
  },
  {
   "cell_type": "code",
   "execution_count": null,
   "metadata": {},
   "outputs": [],
   "source": [
    "show_doc(MAVCom.close)"
   ]
  },
  {
   "cell_type": "markdown",
   "metadata": {},
   "source": []
  },
  {
   "cell_type": "markdown",
   "metadata": {},
   "source": [
    "This will show on wireshark as follows:\n",
    "> Using the display filte string `not icmp  && udp.port eq 14445 && mavlink_proto`\n",
    "\n",
    "![](images/wireshark_udp:14445.png)"
   ]
  },
  {
   "cell_type": "markdown",
   "metadata": {},
   "source": [
    "For debugging help see [http://localhost:3000/tutorials/mavlink_doc&debug.html](http://localhost:3000/tutorials/mavlink_doc&debug.html)\n",
    " and [http://localhost:3000/tutorials/mavlink_doc&debug.html#debugging](http://localhost:3000/tutorials/mavlink_doc&debug.html#debugging)"
   ]
  },
  {
   "cell_type": "code",
   "execution_count": null,
   "metadata": {},
   "outputs": [],
   "source": [
    "#| hide\n",
    "# from nbdev import nbdev_export\n",
    "# nbdev_export()"
   ]
  }
 ],
 "metadata": {
  "kernelspec": {
   "display_name": "python3",
   "language": "python",
   "name": "python3"
  }
 },
 "nbformat": 4,
 "nbformat_minor": 4
}
