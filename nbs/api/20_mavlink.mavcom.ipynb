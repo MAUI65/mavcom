{
 "cells": [
  {
   "cell_type": "markdown",
   "metadata": {},
   "source": []
  },
  {
   "cell_type": "markdown",
   "metadata": {},
   "source": [
    "# Mavlink  MavCom\n",
    "> Mavlink  base class for Client and server.\n",
    "> Theserver is on the companion computer and the client is on the ground station PC.\n",
    "\n",
    "[https://mavlink.io/en/mavgen_python/](https://mavlink.io/en/mavgen_python/)\n",
    "[https://www.ardusub.com/developers/pymavlink.html](https://www.ardusub.com/developers/pymavlink.html)\n",
    "\n",
    "https://mavlink.io/en/messages/common.html\n",
    "https://mavlink.io/en/messages/common.html#MAV_TYPE\n",
    "\n"
   ]
  },
  {
   "cell_type": "code",
   "execution_count": 14,
   "metadata": {
    "ExecuteTime": {
     "end_time": "2023-12-13T08:24:23.239882142Z",
     "start_time": "2023-12-13T08:24:23.209664658Z"
    }
   },
   "outputs": [],
   "source": [
    "#| default_exp mavlink.test_mavcom "
   ]
  },
  {
   "cell_type": "code",
   "execution_count": 15,
   "metadata": {
    "ExecuteTime": {
     "end_time": "2023-12-13T08:24:23.241753912Z",
     "start_time": "2023-12-13T08:24:23.240617110Z"
    }
   },
   "outputs": [
    {
     "name": "stdout",
     "output_type": "stream",
     "text": [
      "The autoreload extension is already loaded. To reload it, use:\n",
      "  %reload_ext autoreload\n"
     ]
    }
   ],
   "source": [
    "#| hide\n",
    "%load_ext autoreload\n",
    "%autoreload 2"
   ]
  },
  {
   "cell_type": "code",
   "execution_count": 16,
   "metadata": {
    "ExecuteTime": {
     "end_time": "2023-12-13T08:24:23.249982402Z",
     "start_time": "2023-12-13T08:24:23.242297651Z"
    }
   },
   "outputs": [],
   "source": [
    "#| hide\n",
    "# skip_showdoc: true to avoid running cells when rendering docs, and \n",
    "# skip_exec: true to skip this notebook when running tests. \n",
    "# this should be a raw cell "
   ]
  },
  {
   "cell_type": "code",
   "execution_count": 16,
   "metadata": {
    "ExecuteTime": {
     "end_time": "2023-12-13T08:24:23.252432057Z",
     "start_time": "2023-12-13T08:24:23.250139764Z"
    }
   },
   "outputs": [],
   "source": []
  },
  {
   "cell_type": "raw",
   "metadata": {},
   "source": [
    "---\n",
    "skip_showdoc: true\n",
    "skip_exec: true\n",
    "---"
   ]
  },
  {
   "cell_type": "code",
   "execution_count": 17,
   "metadata": {
    "ExecuteTime": {
     "end_time": "2023-12-13T08:24:23.300902519Z",
     "start_time": "2023-12-13T08:24:23.252834679Z"
    }
   },
   "outputs": [],
   "source": [
    "#| export\n",
    "import time, os, sys\n",
    "\n",
    "from mavcom.logging import logging\n",
    "from mavcom.utils.general import LeakyQueue\n",
    "\n",
    "# os.environ['MAVLINK20'] == '1' should be placed in mavcom.__init__.py\n",
    "assert os.environ[\n",
    "           'MAVLINK20'] == '1', \"Set the environment variable before from pymavlink import mavutil  library is imported\"\n",
    "\n",
    "# logging.getLogger(\"uav\").setLevel(logging.DEBUG)\n",
    "# logging.root.setLevel(logging.INFO)\n",
    "import threading\n",
    "import queue\n",
    "import typing as typ\n",
    "from pathlib import Path\n",
    "from inspect import currentframe, getframeinfo\n",
    "from pymavlink import mavutil\n",
    "from mavcom.mavlink import Component, MAVCom, mavlink\n",
    "\n",
    "from mavcom.logging import LogLevels\n",
    "from fastcore.test import *\n",
    "# from mavcom.imports import *   # TODO why is this relative import on nbdev_export?\n"
   ]
  },
  {
   "cell_type": "code",
   "execution_count": 18,
   "metadata": {
    "ExecuteTime": {
     "end_time": "2023-12-13T08:24:23.312258875Z",
     "start_time": "2023-12-13T08:24:23.265769315Z"
    }
   },
   "outputs": [],
   "source": [
    "# logging.getLogger(\"uav\").setLevel(logging.INFO)"
   ]
  },
  {
   "cell_type": "code",
   "execution_count": 19,
   "metadata": {
    "ExecuteTime": {
     "end_time": "2023-12-13T08:24:23.312794763Z",
     "start_time": "2023-12-13T08:24:23.301672800Z"
    }
   },
   "outputs": [],
   "source": [
    "#| hide\n",
    "from fastcore.utils import *\n",
    "from nbdev.showdoc import *\n",
    "from fastcore.test import *"
   ]
  },
  {
   "cell_type": "code",
   "execution_count": 19,
   "metadata": {
    "ExecuteTime": {
     "end_time": "2023-12-13T08:24:23.313164631Z",
     "start_time": "2023-12-13T08:24:23.301889051Z"
    }
   },
   "outputs": [],
   "source": []
  },
  {
   "cell_type": "code",
   "execution_count": 20,
   "metadata": {
    "ExecuteTime": {
     "end_time": "2023-12-13T08:24:23.313503017Z",
     "start_time": "2023-12-13T08:24:23.302043930Z"
    }
   },
   "outputs": [],
   "source": [
    "\n",
    "MAV_SYSTEM_GCS_CLIENT = 200  # GCS type client (TODO its not clear if this is correct,  255 = GCS)\n",
    "MAV_TYPE_GCS = mavutil.mavlink.MAV_TYPE_GCS\n",
    "MAV_SYSTEM_VEHICLE = 111  # 1 = vehicle\n",
    "MAV_TYPE_CAMERA = mavutil.mavlink.MAV_TYPE_CAMERA\n",
    "MAV_COMP_ID_CAMERA = mavutil.mavlink.MAV_COMP_ID_CAMERA\n",
    "MAV_COMP_ID_USER1 = mavutil.mavlink.MAV_COMP_ID_USER1"
   ]
  },
  {
   "cell_type": "code",
   "execution_count": 21,
   "metadata": {
    "ExecuteTime": {
     "end_time": "2023-12-13T08:24:23.315400268Z",
     "start_time": "2023-12-13T08:24:23.302202181Z"
    }
   },
   "outputs": [
    {
     "data": {
      "text/plain": "---\n\n### Component\n\n>      Component (source_component:int, mav_type:int, loglevel:LogLevels|int=20)\n\nCreate a client component to send commands to a companion computer or GCS that will control a cameras via a CameraServer instance\n\n|    | **Type** | **Default** | **Details** |\n| -- | -------- | ----------- | ----------- |\n| source_component | int |  | used for component indication |\n| mav_type | int |  | used for heartbeat MAV_TYPE indication |\n| loglevel | LogLevels \\| int | 20 | logging level |",
      "text/markdown": "---\n\n### Component\n\n>      Component (source_component:int, mav_type:int, loglevel:LogLevels|int=20)\n\nCreate a client component to send commands to a companion computer or GCS that will control a cameras via a CameraServer instance\n\n|    | **Type** | **Default** | **Details** |\n| -- | -------- | ----------- | ----------- |\n| source_component | int |  | used for component indication |\n| mav_type | int |  | used for heartbeat MAV_TYPE indication |\n| loglevel | LogLevels \\| int | 20 | logging level |"
     },
     "execution_count": 21,
     "metadata": {},
     "output_type": "execute_result"
    }
   ],
   "source": [
    "show_doc(Component)"
   ]
  },
  {
   "cell_type": "code",
   "execution_count": 22,
   "metadata": {
    "ExecuteTime": {
     "end_time": "2023-12-13T08:24:23.358800653Z",
     "start_time": "2023-12-13T08:24:23.312964361Z"
    }
   },
   "outputs": [
    {
     "data": {
      "text/plain": "---\n\n### MAVCom\n\n>      MAVCom (connection_string:str, baudrate:int=57600, source_system:int=111,\n>              loglevel:LogLevels|int=20)\n\nMavlink Base to set up a mavlink_connection for send and receive messages to and from a remote system.\n\n|    | **Type** | **Default** | **Details** |\n| -- | -------- | ----------- | ----------- |\n| connection_string | str |  | \"udpin:localhost:14550\" |\n| baudrate | int | 57600 | baud rate of the serial port |\n| source_system | int | 111 | remote or air system   1 = vehicle |\n| loglevel | LogLevels \\| int | 20 | logging level |",
      "text/markdown": "---\n\n### MAVCom\n\n>      MAVCom (connection_string:str, baudrate:int=57600, source_system:int=111,\n>              loglevel:LogLevels|int=20)\n\nMavlink Base to set up a mavlink_connection for send and receive messages to and from a remote system.\n\n|    | **Type** | **Default** | **Details** |\n| -- | -------- | ----------- | ----------- |\n| connection_string | str |  | \"udpin:localhost:14550\" |\n| baudrate | int | 57600 | baud rate of the serial port |\n| source_system | int | 111 | remote or air system   1 = vehicle |\n| loglevel | LogLevels \\| int | 20 | logging level |"
     },
     "execution_count": 22,
     "metadata": {},
     "output_type": "execute_result"
    }
   ],
   "source": [
    "show_doc(MAVCom)"
   ]
  },
  {
   "cell_type": "code",
   "execution_count": 23,
   "metadata": {
    "ExecuteTime": {
     "end_time": "2023-12-13T08:24:23.359353685Z",
     "start_time": "2023-12-13T08:24:23.356691941Z"
    }
   },
   "outputs": [],
   "source": [
    "# | hide\n",
    "# assert False, \"Stop here\""
   ]
  },
  {
   "cell_type": "code",
   "execution_count": 24,
   "metadata": {
    "ExecuteTime": {
     "end_time": "2023-12-13T08:24:23.359725939Z",
     "start_time": "2023-12-13T08:24:23.356924732Z"
    }
   },
   "outputs": [],
   "source": [
    "# show_doc(MavLinkBase)"
   ]
  },
  {
   "cell_type": "markdown",
   "metadata": {},
   "source": [
    "#### Test locally using UDP ports"
   ]
  },
  {
   "cell_type": "markdown",
   "metadata": {},
   "source": [
    "#### Starting a client and server\n",
    " > on the same machine using UDP ports `14445`  with `server_system_ID=111, client_system_ID=222`"
   ]
  },
  {
   "cell_type": "code",
   "execution_count": 27,
   "metadata": {
    "ExecuteTime": {
     "end_time": "2023-12-13T08:37:09.427377784Z",
     "start_time": "2023-12-13T08:37:07.276263286Z"
    }
   },
   "outputs": [
    {
     "name": "stderr",
     "output_type": "stream",
     "text": [
      "\u001B[32mINFO |07.381| mavcom.MAVCom   | mavcom.py :386 |  Thread-17 | MainProces | MAVLink Mav2: True, source_system: 111\u001B[0m\n",
      "\u001B[32mINFO |07.484| mavcom.MAVCom   | mavcom.py :386 |  Thread-18 | MainProces | MAVLink Mav2: True, source_system: 222\u001B[0m\n",
      "\u001B[37mDEBUG|07.487| mavcom.Componen | basecompon:119 | MainThread | MainProces | set_mav_connection Component general.py:119 self.mav_com = <MAVCom>\u001B[0m\n",
      "\u001B[37mDEBUG|07.489| mavcom.Componen | basecompon:165 |  Thread-19 | MainProces | Starting heartbeat type: 30 to all Systems and Components\u001B[0m\n",
      "\u001B[37mDEBUG|07.490| mavcom.Componen | basecompon:168 |  Thread-19 | MainProces | Sent heartbeat 30 self.source_system = 222 self.source_component = <MAVCom>\u001B[0m\n",
      "Exception in thread Thread-19:\n",
      "Traceback (most recent call last):\n",
      "  File \"/usr/lib/python3.9/threading.py\", line 980, in _bootstrap_inner\n",
      "\u001B[37mDEBUG|07.491| mavcom.Componen | basecompon:127 | MainThread | MainProces | Called from Component.start_mav_connection(), override to add startup behaviour\u001B[0m\n",
      "\u001B[32mINFO |07.492| mavcom.Componen | basecompon:123 | MainThread | MainProces | Component Started self.source_component = <MAVCom>, self.mav_type = 30, self.source_system = 222\u001B[0m\n",
      "    self.run()\n",
      "  File \"/usr/lib/python3.9/threading.py\", line 917, in run\n",
      "\u001B[37mDEBUG|07.494| mavcom.Componen | basecompon:119 | MainThread | MainProces | set_mav_connection Component general.py:119 self.mav_com = <MAVCom>\u001B[0m\n",
      "    self._target(*self._args, **self._kwargs)\n",
      "  File \"/home/john/PycharmProjects/mavcom/mavcom/mavlink/basecomponent.py\", line 170, in _thread_send_heartbeat\n",
      "\u001B[37mDEBUG|07.496| mavcom.Componen | basecompon:165 |  Thread-21 | MainProces | Starting heartbeat type: 6 to all Systems and Components\u001B[0m\n",
      "    self.master.mav.heartbeat_send(\n",
      "  File \"/home/john/PycharmProjects/mavcom/venv/lib/python3.9/site-packages/pymavlink/dialects/v20/ardupilotmega.py\", line 30550, in heartbeat_send\n",
      "\u001B[37mDEBUG|07.501| mavcom.Componen | basecompon:127 | MainThread | MainProces | Called from Component.start_mav_connection(), override to add startup behaviour\u001B[0m\n",
      "    self.send(self.heartbeat_encode(type, autopilot, base_mode, custom_mode, system_status, mavlink_version), force_mavlink1=force_mavlink1)\n",
      "  File \"/home/john/PycharmProjects/mavcom/venv/lib/python3.9/site-packages/pymavlink/dialects/v20/ardupilotmega.py\", line 20228, in send\n",
      "\u001B[37mDEBUG|07.501| mavcom.Componen | basecompon:168 |  Thread-21 | MainProces | Sent heartbeat 6 self.source_system = 111 self.source_component = <MAVCom>\u001B[0m\n",
      "    buf = mavmsg.pack(self, force_mavlink1=force_mavlink1)\n",
      "  File \"/home/john/PycharmProjects/mavcom/venv/lib/python3.9/site-packages/pymavlink/dialects/v20/ardupilotmega.py\", line 19808, in pack\n",
      "    return self._pack(mav, self.crc_extra, self.unpacker.pack(self.custom_mode, self.type, self.autopilot, self.base_mode, self.system_status, self.mavlink_version), force_mavlink1=force_mavlink1)\n",
      "  File \"/home/john/PycharmProjects/mavcom/venv/lib/python3.9/site-packages/pymavlink/dialects/v20/ardupilotmega.py\", line 272, in _pack\n",
      "    self._msgbuf = bytearray(self._header.pack(force_mavlink1=force_mavlink1))\n",
      "  File \"/home/john/PycharmProjects/mavcom/venv/lib/python3.9/site-packages/pymavlink/dialects/v20/ardupilotmega.py\", line 88, in pack\n",
      "    return struct.pack(\n",
      "struct.error: required argument is not an integer\n",
      "Exception in thread Thread-21:\n",
      "Traceback (most recent call last):\n",
      "  File \"/usr/lib/python3.9/threading.py\", line 980, in _bootstrap_inner\n",
      "\u001B[32mINFO |07.508| mavcom.Componen | basecompon:123 | MainThread | MainProces | Component Started self.source_component = <MAVCom>, self.mav_type = 6, self.source_system = 111\u001B[0m\n",
      "    self.run()\n",
      "  File \"/usr/lib/python3.9/threading.py\", line 917, in run\n",
      "    self._target(*self._args, **self._kwargs)\n",
      "  File \"/home/john/PycharmProjects/mavcom/mavcom/mavlink/basecomponent.py\", line 170, in _thread_send_heartbeat\n",
      "    self.master.mav.heartbeat_send(\n",
      "  File \"/home/john/PycharmProjects/mavcom/venv/lib/python3.9/site-packages/pymavlink/dialects/v20/ardupilotmega.py\", line 30550, in heartbeat_send\n",
      "    self.send(self.heartbeat_encode(type, autopilot, base_mode, custom_mode, system_status, mavlink_version), force_mavlink1=force_mavlink1)\n",
      "  File \"/home/john/PycharmProjects/mavcom/venv/lib/python3.9/site-packages/pymavlink/dialects/v20/ardupilotmega.py\", line 20228, in send\n",
      "    buf = mavmsg.pack(self, force_mavlink1=force_mavlink1)\n",
      "  File \"/home/john/PycharmProjects/mavcom/venv/lib/python3.9/site-packages/pymavlink/dialects/v20/ardupilotmega.py\", line 19808, in pack\n",
      "    return self._pack(mav, self.crc_extra, self.unpacker.pack(self.custom_mode, self.type, self.autopilot, self.base_mode, self.system_status, self.mavlink_version), force_mavlink1=force_mavlink1)\n",
      "  File \"/home/john/PycharmProjects/mavcom/venv/lib/python3.9/site-packages/pymavlink/dialects/v20/ardupilotmega.py\", line 272, in _pack\n",
      "    self._msgbuf = bytearray(self._header.pack(force_mavlink1=force_mavlink1))\n",
      "  File \"/home/john/PycharmProjects/mavcom/venv/lib/python3.9/site-packages/pymavlink/dialects/v20/ardupilotmega.py\", line 88, in pack\n",
      "    return struct.pack(\n",
      "struct.error: required argument is not an integer\n",
      "\u001B[32mINFO |08.489| mavcom.Componen | basecompon:417 | MainThread | MainProces | Component closed (not waiting for _t_heartbeat daemon thread)\u001B[0m\n",
      "\u001B[32mINFO |08.490| mavcom.MAVCom   | mavcom.py :442 | MainThread | MainProces | MAVCom  closed\u001B[0m\n",
      "\u001B[32mINFO |09.387| mavcom.Componen | basecompon:417 | MainThread | MainProces | Component closed (not waiting for _t_heartbeat daemon thread)\u001B[0m\n",
      "\u001B[32mINFO |09.389| mavcom.MAVCom   | mavcom.py :442 | MainThread | MainProces | MAVCom  closed\u001B[0m\n"
     ]
    },
    {
     "ename": "KeyError",
     "evalue": "11",
     "output_type": "error",
     "traceback": [
      "\u001B[0;31m---------------------------------------------------------------------------\u001B[0m",
      "\u001B[0;31mKeyError\u001B[0m                                  Traceback (most recent call last)",
      "Cell \u001B[0;32mIn[27], line 21\u001B[0m\n\u001B[1;32m     18\u001B[0m     test_eq(client\u001B[38;5;241m.\u001B[39mmessage_cnts[\u001B[38;5;241m222\u001B[39m][\u001B[38;5;124m'\u001B[39m\u001B[38;5;124mPING\u001B[39m\u001B[38;5;124m'\u001B[39m], MAX_PINGS)\n\u001B[1;32m     19\u001B[0m     test_eq(client\u001B[38;5;241m.\u001B[39mmessage_cnts[\u001B[38;5;241m222\u001B[39m][\u001B[38;5;124m'\u001B[39m\u001B[38;5;124mHEARTBEAT\u001B[39m\u001B[38;5;124m'\u001B[39m]\u001B[38;5;241m>\u001B[39m\u001B[38;5;241m0\u001B[39m, \u001B[38;5;28;01mTrue\u001B[39;00m)\n\u001B[0;32m---> 21\u001B[0m \u001B[43mtest_MAVCom\u001B[49m\u001B[43m(\u001B[49m\u001B[43m)\u001B[49m\n",
      "Cell \u001B[0;32mIn[27], line 10\u001B[0m, in \u001B[0;36mtest_MAVCom\u001B[0;34m()\u001B[0m\n\u001B[1;32m      7\u001B[0m         client\u001B[38;5;241m.\u001B[39madd_component(Component(client, mav_type\u001B[38;5;241m=\u001B[39mmavlink\u001B[38;5;241m.\u001B[39mMAV_TYPE_GCS, loglevel\u001B[38;5;241m=\u001B[39mLogLevels\u001B[38;5;241m.\u001B[39mDEBUG))\n\u001B[1;32m      9\u001B[0m         MAX_PINGS \u001B[38;5;241m=\u001B[39m \u001B[38;5;241m4\u001B[39m\n\u001B[0;32m---> 10\u001B[0m         \u001B[43mclient\u001B[49m\u001B[38;5;241;43m.\u001B[39;49m\u001B[43mcomponent\u001B[49m\u001B[43m[\u001B[49m\u001B[38;5;241;43m11\u001B[39;49m\u001B[43m]\u001B[49m\u001B[38;5;241m.\u001B[39msend_ping(\u001B[38;5;241m222\u001B[39m, \u001B[38;5;241m22\u001B[39m, max_pings\u001B[38;5;241m=\u001B[39mMAX_PINGS)\n\u001B[1;32m     11\u001B[0m         time\u001B[38;5;241m.\u001B[39msleep(\u001B[38;5;241m0.5\u001B[39m)\n\u001B[1;32m     13\u001B[0m \u001B[38;5;28mprint\u001B[39m(\u001B[38;5;124mf\u001B[39m\u001B[38;5;124m\"\u001B[39m\u001B[38;5;132;01m{\u001B[39;00mserver\u001B[38;5;241m.\u001B[39msource_system\u001B[38;5;250m \u001B[39m\u001B[38;5;132;01m= }\u001B[39;00m\u001B[38;5;124m;  \u001B[39m\u001B[38;5;132;01m{\u001B[39;00mserver\u001B[38;5;241m.\u001B[39mmessage_cnts\u001B[38;5;250m \u001B[39m\u001B[38;5;132;01m= }\u001B[39;00m\u001B[38;5;124m\"\u001B[39m)\n",
      "\u001B[0;31mKeyError\u001B[0m: 11"
     ]
    }
   ],
   "source": [
    "\n",
    "#|exports\n",
    "def test_MAVCom():\n",
    "    \"\"\"Test MAVCom with a client and server on the same machine using UDP ports `14445`  with `server_system_ID=111, client_system_ID=222`\"\"\"\n",
    "    with MAVCom(\"udpin:localhost:14445\", source_system=111, loglevel=LogLevels.DEBUG) as client:\n",
    "        with MAVCom(\"udpout:localhost:14445\", source_system=222, loglevel=LogLevels.DEBUG) as server:\n",
    "            server.add_component(Component(server, mav_type=mavlink.MAV_TYPE_CAMERA, loglevel=LogLevels.DEBUG))\n",
    "            client.add_component(Component(client, mav_type=mavlink.MAV_TYPE_GCS, loglevel=LogLevels.DEBUG))\n",
    "    \n",
    "            MAX_PINGS = 4\n",
    "            client.component[11].send_ping(222, 22, max_pings=MAX_PINGS)\n",
    "            time.sleep(0.5)\n",
    "    \n",
    "    print(f\"{server.source_system = };  {server.message_cnts = }\")\n",
    "    print(f\"{client.source_system = };  {client.message_cnts = }\")\n",
    "    \n",
    "    test_eq(server.message_cnts[111]['PING'], MAX_PINGS)\n",
    "    test_eq(server.message_cnts[111]['HEARTBEAT']>0, True) \n",
    "    test_eq(client.message_cnts[222]['PING'], MAX_PINGS)\n",
    "    test_eq(client.message_cnts[222]['HEARTBEAT']>0, True)\n",
    "    \n",
    "test_MAVCom()"
   ]
  },
  {
   "cell_type": "code",
   "execution_count": null,
   "metadata": {
    "ExecuteTime": {
     "start_time": "2023-12-13T08:10:46.749356195Z"
    }
   },
   "outputs": [],
   "source": [
    "#| Hide\n",
    "# assert False, \"Stop here\""
   ]
  },
  {
   "cell_type": "code",
   "execution_count": null,
   "metadata": {
    "ExecuteTime": {
     "start_time": "2023-12-13T08:10:46.749445767Z"
    }
   },
   "outputs": [],
   "source": [
    "show_doc(MAVCom.add_component)"
   ]
  },
  {
   "cell_type": "code",
   "execution_count": null,
   "metadata": {
    "ExecuteTime": {
     "start_time": "2023-12-13T08:10:46.749504613Z"
    }
   },
   "outputs": [],
   "source": [
    "show_doc(MAVCom.close)"
   ]
  },
  {
   "cell_type": "markdown",
   "metadata": {},
   "source": []
  },
  {
   "cell_type": "markdown",
   "metadata": {},
   "source": [
    "This will show on wireshark as follows:\n",
    "> Using the display filte string `not icmp  && udp.port eq 14445 && mavlink_proto`\n",
    "\n",
    "![](images/wireshark_udp:14445.png)"
   ]
  },
  {
   "cell_type": "markdown",
   "metadata": {},
   "source": [
    "For debugging help see [http://localhost:3000/tutorials/mavlink_doc&debug.html](http://localhost:3000/tutorials/mavlink_doc&debug.html)\n",
    " and [http://localhost:3000/tutorials/mavlink_doc&debug.html#debugging](http://localhost:3000/tutorials/mavlink_doc&debug.html#debugging)"
   ]
  },
  {
   "cell_type": "code",
   "execution_count": null,
   "metadata": {
    "ExecuteTime": {
     "start_time": "2023-12-13T08:10:46.752854079Z"
    }
   },
   "outputs": [],
   "source": [
    "#| hide\n",
    "# from nbdev import nbdev_export\n",
    "# nbdev_export()"
   ]
  }
 ],
 "metadata": {
  "kernelspec": {
   "display_name": "python3",
   "language": "python",
   "name": "python3"
  }
 },
 "nbformat": 4,
 "nbformat_minor": 4
}
