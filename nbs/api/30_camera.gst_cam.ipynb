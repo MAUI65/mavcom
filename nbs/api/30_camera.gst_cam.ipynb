{
 "cells": [
  {
   "cell_type": "code",
   "execution_count": null,
   "metadata": {},
   "outputs": [],
   "source": [
    "#| default_exp camera.test_fake_cam"
   ]
  },
  {
   "cell_type": "markdown",
   "metadata": {},
   "source": [
    "\n",
    "# Camera Fake \n",
    "> Opencv and GST Fake cameras for testing \n"
   ]
  },
  {
   "cell_type": "markdown",
   "metadata": {},
   "source": [
    "https://mavlink.io/en/services/camera.html\n",
    "https://github.com/mavlink/mavlink-camera-manager\n"
   ]
  },
  {
   "cell_type": "code",
   "execution_count": null,
   "metadata": {},
   "outputs": [
    {
     "name": "stdout",
     "output_type": "stream",
     "text": [
      "The autoreload extension is already loaded. To reload it, use:\n",
      "  %reload_ext autoreload\n"
     ]
    }
   ],
   "source": [
    "#| hide\n",
    "%load_ext autoreload\n",
    "%autoreload 2"
   ]
  },
  {
   "cell_type": "code",
   "execution_count": null,
   "metadata": {},
   "outputs": [],
   "source": [
    "#| hide\n",
    "# skip_showdoc: true to avoid running cells when rendering docs, and \n",
    "# skip_exec: true to skip this notebook when running tests. \n",
    "# this should be a raw cell "
   ]
  },
  {
   "cell_type": "raw",
   "metadata": {},
   "source": [
    "---\n",
    "skip_showdoc: true\n",
    "skip_exec: true\n",
    "---"
   ]
  },
  {
   "cell_type": "code",
   "execution_count": null,
   "metadata": {},
   "outputs": [],
   "source": [
    "#| export\n",
    "import time, os, sys\n",
    "\n",
    "from mavcom.logging import logging\n",
    "from mavcom.mavlink.mavcom import MAVCom, time_since_boot_ms, time_UTC_usec, date_time_str\n",
    "from mavcom.mavlink.component import Component, mavutil, mavlink, MAVLink\n",
    "\n",
    "import cv2\n",
    "\n",
    "from mavcom.utils.general import boot_time_str, With, find_config_dir, read_camera_dict_from_toml\n",
    "from mavcom.camera.gst_cam import *"
   ]
  },
  {
   "cell_type": "code",
   "execution_count": null,
   "metadata": {},
   "outputs": [],
   "source": [
    "#| hide\n",
    "from fastcore.utils import *\n",
    "from nbdev.showdoc import *\n",
    "from fastcore.test import *"
   ]
  },
  {
   "cell_type": "code",
   "execution_count": null,
   "metadata": {},
   "outputs": [],
   "source": [
    "# show_doc(create_toml_file)"
   ]
  },
  {
   "cell_type": "code",
   "execution_count": null,
   "metadata": {},
   "outputs": [],
   "source": [
    "import types\n",
    "\n",
    "\n",
    "def get_all_methods(cls):\n",
    "    methods = []\n",
    "    for name in dir(cls):\n",
    "        attr = getattr(cls, name)\n",
    "        if isinstance(attr, types.FunctionType):\n",
    "            methods.append(name)\n",
    "    return methods"
   ]
  },
  {
   "cell_type": "code",
   "execution_count": null,
   "metadata": {},
   "outputs": [
    {
     "name": "stdout",
     "output_type": "stream",
     "text": [
      "['__enter__', '__exit__', '__init__', '__repr__', '__str__', '_open', 'calculate_memory_usage', 'camera_capture_status_send', 'camera_image_captured_send', 'camera_information_send', 'camera_settings_send', 'close', 'get_camera_info', 'image_capture_thread_is_running', 'image_start_capture', 'image_stop_capture', 'list_files', 'load_image_from_memoryfs', 'on_capture_image', 'on_start_image_capture', 'on_status_video_capture', 'on_stop_image_capture', 'on_video_callback', 'pause', 'play', 'save_image_to_memoryfs', 'set_source_compenent', 'show_image', 'storage_information_send', 'time_UTC_usec', 'video_start_capture', 'video_start_streaming', 'video_stop_capture', 'video_stop_streaming']\n"
     ]
    }
   ],
   "source": [
    "methods = get_all_methods(GSTCamera)\n",
    "print (methods)"
   ]
  },
  {
   "cell_type": "code",
   "execution_count": null,
   "metadata": {},
   "outputs": [
    {
     "name": "stdout",
     "output_type": "stream",
     "text": [
      "GSTCamera.__enter__\n",
      "GSTCamera.__exit__\n",
      "GSTCamera.__init__\n",
      "GSTCamera.__repr__\n",
      "GSTCamera.__str__\n",
      "GSTCamera._open\n",
      "GSTCamera.calculate_memory_usage\n",
      "GSTCamera.camera_capture_status_send\n",
      "GSTCamera.camera_image_captured_send\n",
      "GSTCamera.camera_information_send\n",
      "GSTCamera.camera_settings_send\n",
      "GSTCamera.close\n",
      "GSTCamera.get_camera_info\n",
      "GSTCamera.image_capture_thread_is_running\n",
      "GSTCamera.image_start_capture\n",
      "GSTCamera.image_stop_capture\n",
      "GSTCamera.list_files\n",
      "GSTCamera.load_image_from_memoryfs\n",
      "GSTCamera.on_capture_image\n",
      "GSTCamera.on_start_image_capture\n",
      "GSTCamera.on_status_video_capture\n",
      "GSTCamera.on_stop_image_capture\n",
      "GSTCamera.on_video_callback\n",
      "GSTCamera.pause\n",
      "GSTCamera.play\n",
      "GSTCamera.save_image_to_memoryfs\n",
      "GSTCamera.set_source_compenent\n",
      "GSTCamera.show_image\n",
      "GSTCamera.storage_information_send\n",
      "GSTCamera.time_UTC_usec\n",
      "GSTCamera.video_start_capture\n",
      "GSTCamera.video_start_streaming\n",
      "GSTCamera.video_stop_capture\n",
      "GSTCamera.video_stop_streaming\n"
     ]
    }
   ],
   "source": [
    "for method in methods:\n",
    "    s = f\"GSTCamera.{method}\"\n",
    "    print (s)\n",
    "    show_doc(s)"
   ]
  },
  {
   "cell_type": "code",
   "execution_count": null,
   "metadata": {},
   "outputs": [
    {
     "data": {
      "text/markdown": "---\n\n### GSTCamera.save_image_to_memoryfs\n\n>      GSTCamera.save_image_to_memoryfs (data:bytes, filename:str)\n\nSave image to memory filesystem.\n\n|    | **Type** | **Details** |\n| -- | -------- | ----------- |\n| data | bytes | jpeg encoded image to save |\n| filename | str | filename to save image |",
      "text/plain": "---\n\n### GSTCamera.save_image_to_memoryfs\n\n>      GSTCamera.save_image_to_memoryfs (data:bytes, filename:str)\n\nSave image to memory filesystem.\n\n|    | **Type** | **Details** |\n| -- | -------- | ----------- |\n| data | bytes | jpeg encoded image to save |\n| filename | str | filename to save image |"
     },
     "execution_count": null,
     "metadata": {},
     "output_type": "execute_result"
    }
   ],
   "source": [
    "show_doc(GSTCamera.save_image_to_memoryfs)"
   ]
  },
  {
   "cell_type": "code",
   "execution_count": null,
   "metadata": {},
   "outputs": [
    {
     "name": "stdout",
     "output_type": "stream",
     "text": [
      "method_a\n",
      "method_b\n"
     ]
    }
   ],
   "source": [
    "import inspect\n",
    "from nbdev.showdoc import show_doc\n",
    "\n",
    "class Example:\n",
    "    def method_a(self):\n",
    "        \"This is method A\"\n",
    "        pass\n",
    "    \n",
    "    def method_b(self):\n",
    "        \"This is method B\"\n",
    "        pass\n",
    "\n",
    "# To show docs for all methods in a class\n",
    "for name, func in inspect.getmembers(Example, inspect.isfunction):\n",
    "    print(name)\n",
    "    show_doc(func)\n"
   ]
  },
  {
   "cell_type": "code",
   "execution_count": null,
   "metadata": {},
   "outputs": [],
   "source": [
    "from nbdev.doclinks import NbdevLookup\n",
    "from nbdev.showdoc import _fmt_sig\n",
    "\n",
    "\n",
    "def _html_link(url, txt): return f'{txt}'\n",
    "\n",
    "class BasicHtmlRenderer(ShowDocRenderer):\n",
    "    \"Simple HTML renderer for `show_doc`\"\n",
    "    def _repr_html_(self):\n",
    "        doc = '\\n'\n",
    "        doc += f'{self.nm}\\n'\n",
    "        doc += f'{self.nm}{_fmt_sig(self.sig)}'\n",
    "        if self.docs: doc += f\"{self.docs}\"\n",
    "        return doc\n",
    "\n",
    "    def doc(self):\n",
    "        \"Show `show_doc` info along with link to docs\"\n",
    "        from IPython.display import display,HTML\n",
    "        res = self._repr_html_()\n",
    "        docs = NbdevLookup().doc(self.fn)\n",
    "        if docs is not None: res += '\\n' +_html_link(docs, \"Show in docs\") + ''\n",
    "        display(HTML(res))"
   ]
  },
  {
   "cell_type": "code",
   "execution_count": null,
   "metadata": {},
   "outputs": [],
   "source": [
    "\n",
    "def doc(elt):\n",
    "    \"Show `show_doc` info along with link to docs\"\n",
    "    BasicHtmlRenderer(elt).doc()"
   ]
  },
  {
   "cell_type": "code",
   "execution_count": null,
   "metadata": {},
   "outputs": [
    {
     "data": {
      "text/html": "\nGSTCamera.save_image_to_memoryfs\nGSTCamera.save_image_to_memoryfs(data:bytes, filename:str)Save image to memory filesystem.",
      "text/plain": "<IPython.core.display.HTML object>"
     },
     "metadata": {},
     "output_type": "display_data"
    }
   ],
   "source": [
    "doc(GSTCamera.save_image_to_memoryfs)\n"
   ]
  },
  {
   "cell_type": "code",
   "execution_count": null,
   "metadata": {},
   "outputs": [
    {
     "data": {
      "text/markdown": "---\n\n### GSTCamera.save_image_to_memoryfs\n\n>      GSTCamera.save_image_to_memoryfs (data:bytes, filename:str)\n\nSave image to memory filesystem.\n\n|    | **Type** | **Details** |\n| -- | -------- | ----------- |\n| data | bytes | jpeg encoded image to save |\n| filename | str | filename to save image |",
      "text/plain": "---\n\n### GSTCamera.save_image_to_memoryfs\n\n>      GSTCamera.save_image_to_memoryfs (data:bytes, filename:str)\n\nSave image to memory filesystem.\n\n|    | **Type** | **Details** |\n| -- | -------- | ----------- |\n| data | bytes | jpeg encoded image to save |\n| filename | str | filename to save image |"
     },
     "execution_count": null,
     "metadata": {},
     "output_type": "execute_result"
    }
   ],
   "source": [
    "show_doc(GSTCamera.save_image_to_memoryfs)"
   ]
  },
  {
   "cell_type": "code",
   "execution_count": null,
   "metadata": {},
   "outputs": [],
   "source": []
  },
  {
   "cell_type": "code",
   "execution_count": null,
   "metadata": {},
   "outputs": [],
   "source": [
    "\n"
   ]
  },
  {
   "cell_type": "code",
   "execution_count": null,
   "metadata": {},
   "outputs": [],
   "source": [
    "\n"
   ]
  },
  {
   "cell_type": "code",
   "execution_count": null,
   "metadata": {},
   "outputs": [],
   "source": [
    "# config_path = Path(\"../../config\")\n",
    "# create_toml_file(find_config_dir()/\"____test_camera_info.toml\")"
   ]
  },
  {
   "cell_type": "code",
   "execution_count": null,
   "metadata": {},
   "outputs": [],
   "source": [
    "# assert False, \"stop here\""
   ]
  },
  {
   "cell_type": "code",
   "execution_count": null,
   "metadata": {},
   "outputs": [],
   "source": [
    "# assert False, \"stop here\""
   ]
  },
  {
   "cell_type": "code",
   "execution_count": null,
   "metadata": {},
   "outputs": [],
   "source": [
    "\n",
    "from gstreamer import GstVidSrcValve,  GstVideoSave, GstJpegEnc\n",
    "import gstreamer.utils as gst_utils"
   ]
  },
  {
   "cell_type": "code",
   "execution_count": null,
   "metadata": {},
   "outputs": [
    {
     "data": {
      "text/markdown": "---\n\n### GSTCamera\n\n>      GSTCamera (camera_dict=None, udp_encoder='H264', loglevel=20)\n\nCreate a fake camera component for testing using GStreamer\n\n|    | **Type** | **Default** | **Details** |\n| -- | -------- | ----------- | ----------- |\n| camera_dict | NoneType | None | camera_info dict |\n| udp_encoder | str | H264 | encoder for video streaming |\n| loglevel | int | 20 | log flag |",
      "text/plain": "---\n\n### GSTCamera\n\n>      GSTCamera (camera_dict=None, udp_encoder='H264', loglevel=20)\n\nCreate a fake camera component for testing using GStreamer\n\n|    | **Type** | **Default** | **Details** |\n| -- | -------- | ----------- | ----------- |\n| camera_dict | NoneType | None | camera_info dict |\n| udp_encoder | str | H264 | encoder for video streaming |\n| loglevel | int | 20 | log flag |"
     },
     "execution_count": null,
     "metadata": {},
     "output_type": "execute_result"
    }
   ],
   "source": [
    "show_doc(GSTCamera)"
   ]
  },
  {
   "cell_type": "code",
   "execution_count": null,
   "metadata": {},
   "outputs": [
    {
     "data": {
      "text/markdown": "---\n\n### GSTCamera.image_start_capture\n\n>      GSTCamera.image_start_capture (interval, count)\n\nStart image capture sequence.\n\n|    | **Details** |\n| -- | ----------- |\n| interval | Image capture interval |\n| count | Number of images to capture (0 for unlimited) |",
      "text/plain": "---\n\n### GSTCamera.image_start_capture\n\n>      GSTCamera.image_start_capture (interval, count)\n\nStart image capture sequence.\n\n|    | **Details** |\n| -- | ----------- |\n| interval | Image capture interval |\n| count | Number of images to capture (0 for unlimited) |"
     },
     "execution_count": null,
     "metadata": {},
     "output_type": "execute_result"
    }
   ],
   "source": [
    "show_doc(GSTCamera.image_start_capture)"
   ]
  },
  {
   "cell_type": "code",
   "execution_count": null,
   "metadata": {},
   "outputs": [
    {
     "data": {
      "text/markdown": "---\n\n### BaseCamera.camera_information_send\n\n>      BaseCamera.camera_information_send ()\n\nInformation about a camera. Can be requested with a\nMAV_CMD_REQUEST_MESSAGE command.",
      "text/plain": "---\n\n### BaseCamera.camera_information_send\n\n>      BaseCamera.camera_information_send ()\n\nInformation about a camera. Can be requested with a\nMAV_CMD_REQUEST_MESSAGE command."
     },
     "execution_count": null,
     "metadata": {},
     "output_type": "execute_result"
    }
   ],
   "source": [
    "show_doc(GSTCamera.camera_information_send)"
   ]
  },
  {
   "cell_type": "code",
   "execution_count": null,
   "metadata": {},
   "outputs": [
    {
     "data": {
      "text/markdown": "---\n\n### CV2Camera.camera_settings_send\n\n>      CV2Camera.camera_settings_send ()\n\nInformation about a camera. Can be requested with a\nMAV_CMD_REQUEST_MESSAGE command.",
      "text/plain": "---\n\n### CV2Camera.camera_settings_send\n\n>      CV2Camera.camera_settings_send ()\n\nInformation about a camera. Can be requested with a\nMAV_CMD_REQUEST_MESSAGE command."
     },
     "execution_count": null,
     "metadata": {},
     "output_type": "execute_result"
    }
   ],
   "source": [
    "show_doc(GSTCamera.camera_settings_send)"
   ]
  },
  {
   "cell_type": "code",
   "execution_count": null,
   "metadata": {},
   "outputs": [
    {
     "data": {
      "text/markdown": "---\n\n### read_camera_dict_from_toml\n\n>      read_camera_dict_from_toml (toml_file_path)\n\nRead MAVLink camera info from a TOML file.\n\n|    | **Type** | **Details** |\n| -- | -------- | ----------- |\n| toml_file_path |  | path to TOML file |\n| **Returns** | **dict** | **camera_info dict** |",
      "text/plain": "---\n\n### read_camera_dict_from_toml\n\n>      read_camera_dict_from_toml (toml_file_path)\n\nRead MAVLink camera info from a TOML file.\n\n|    | **Type** | **Details** |\n| -- | -------- | ----------- |\n| toml_file_path |  | path to TOML file |\n| **Returns** | **dict** | **camera_info dict** |"
     },
     "execution_count": null,
     "metadata": {},
     "output_type": "execute_result"
    }
   ],
   "source": [
    "show_doc(read_camera_dict_from_toml)"
   ]
  },
  {
   "cell_type": "code",
   "execution_count": null,
   "metadata": {},
   "outputs": [],
   "source": [
    "# with GstContext(loglevel=LogLevels.CRITICAL):  # GST main loop in thread\n",
    "#     with GstPipeline(command_h264_display, loglevel=LogLevels.INFO) as disp_pipeline:\n",
    "#         with GstPipeline(command_src, loglevel=10) as src_pipeline:\n",
    "#             with GstJpegEnc(command_jpg, max_count=5, on_jpeg_capture=on_capture, loglevel=LogLevels.INFO) as jpg_pipeline:\n",
    "#                 while not jpg_pipeline.is_done:\n",
    "#                     time.sleep(.1)\n",
    "# \n",
    "#             with GstStreamUDP(command_udp, on_callback=on_video_callback, loglevel=LogLevels.INFO) as udp_pipeline:\n",
    "#                 time.sleep(5)"
   ]
  },
  {
   "cell_type": "code",
   "execution_count": null,
   "metadata": {},
   "outputs": [
    {
     "name": "stderr",
     "output_type": "stream",
     "text": [
      "\u001b[32mINFO   | mavcom.GSTCamera   | 29.670 | gst_cam.py:350 | MainThread         | GSTCamera Started\u001b[0m\n",
      "\u001b[32mINFO   | pygst.GstPipeli | 29.673 | gst_tools.py:223 | MainThread         | Starting GstPipeline: videotestsrc pattern=ball is-live=true ! capsfilter caps=video/x-raw,format=RGB,width=640,height=480,framerate=10/1 ! tee name=t t. ! queue ! videoconvert ! autovideosink t. ! queue leaky=2 ! intervideosink channel=channel_0  sync=false t. ! queue leaky=2 ! intervideosink channel=channel_1  sync=false t. ! queue leaky=2 ! intervideosink channel=channel_2  sync=false\u001b[0m\n",
      "\u001b[32mINFO   | pygst.GstJpegEn | 29.686 | gst_tools.py:223 | MainThread         | Starting GstJpegEnc: intervideosrc channel=channel_1   ! videoconvert ! videoscale ! video/x-raw,width=640,height=480,framerate=10/1 ! queue ! jpegenc quality=85 ! appsink name=mysink emit-signals=True max-buffers=1 drop=True\u001b[0m\n",
      "\u001b[32mINFO   | mavcom.GSTCamera   | 29.710 | gst_cam.py:577 | Thread-13 (_launch | Image saved to memory filesystem with name: 2023-10-21|10:37:29_0000.jpg\u001b[0m\n",
      "\u001b[32mINFO   | mavcom.GSTCamera   | 29.810 | gst_cam.py:577 | Thread-13 (_launch | Image saved to memory filesystem with name: 2023-10-21|10:37:29_0001.jpg\u001b[0m\n"
     ]
    },
    {
     "name": "stdout",
     "output_type": "stream",
     "text": [
      "boot_time_str ='2023-10-21|10:29:09'\n",
      "John Doe                        \n"
     ]
    },
    {
     "name": "stderr",
     "output_type": "stream",
     "text": [
      "\u001b[32mINFO   | mavcom.GSTCamera   | 29.910 | gst_cam.py:577 | Thread-13 (_launch | Image saved to memory filesystem with name: 2023-10-21|10:37:29_0002.jpg\u001b[0m\n",
      "\u001b[32mINFO   | mavcom.GSTCamera   | 30.011 | gst_cam.py:577 | Thread-13 (_launch | Image saved to memory filesystem with name: 2023-10-21|10:37:30_0003.jpg\u001b[0m\n",
      "\u001b[32mINFO   | mavcom.GSTCamera   | 30.110 | gst_cam.py:577 | Thread-13 (_launch | Image saved to memory filesystem with name: 2023-10-21|10:37:30_0004.jpg\u001b[0m\n",
      "\u001b[32mINFO   | pygst.GstJpegEn | 30.111 | gst_tools.py:884 | Thread-13 (_launch | Sending EOS event, to trigger shutdown of pipeline\u001b[0m\n",
      "\u001b[32mINFO   | pygst.GstPipeli | 30.829 | gst_tools.py:306 | MainThread         | GstPipeline Shutdown\u001b[0m\n",
      "\u001b[32mINFO   | mavcom.GSTCamera   | 30.830 | gst_cam.py:518 | MainThread         | GSTCamera closed\u001b[0m\n"
     ]
    }
   ],
   "source": [
    "print (f\"{boot_time_str =}\")\n",
    "# connection_string = 'udp:127.0.0.1:14550'\n",
    "# mav = mavutil.mavlink_connection(connection_string)\n",
    "\n",
    "\n",
    "with  GSTCamera( camera_dict=read_camera_dict_from_toml(find_config_dir()/\"test_camera_info.toml\")) as cam_gst_1:\n",
    "    cam_gst_1.image_start_capture(interval=.1, count=5)\n",
    "    time.sleep(1)\n",
    "    # while cam_gst_1.pipeline.is_done is False:\n",
    "    #     # if cam_gst_1.last_image is not None:\n",
    "    #     time.sleep(0.1)\n",
    "            # cv2.imshow('image', cam_gst_1.last_image)\n",
    "            # cam_gst_1.last_image = None\n",
    "            # cv2.waitKey(10)\n",
    "            \n",
    "    # cv2.waitKey(500)\n",
    "    # cv2.destroyAllWindows()\n"
   ]
  },
  {
   "cell_type": "code",
   "execution_count": null,
   "metadata": {},
   "outputs": [],
   "source": []
  },
  {
   "cell_type": "code",
   "execution_count": null,
   "metadata": {},
   "outputs": [],
   "source": [
    "#| hide\n",
    "# from nbdev import nbdev_export\n",
    "# nbdev_export()"
   ]
  }
 ],
 "metadata": {
  "kernelspec": {
   "display_name": "python3",
   "language": "python",
   "name": "python3"
  }
 },
 "nbformat": 4,
 "nbformat_minor": 4
}
