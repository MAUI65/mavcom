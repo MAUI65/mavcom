{
 "cells": [
  {
   "cell_type": "markdown",
   "metadata": {},
   "source": [
    "# Utils.General\n",
    "\n",
    "> Fill in a module description here\n"
   ]
  },
  {
   "cell_type": "code",
   "execution_count": null,
   "metadata": {},
   "outputs": [],
   "source": [
    "#| default_exp utils.test_general"
   ]
  },
  {
   "cell_type": "raw",
   "metadata": {},
   "source": [
    "---\n",
    "skip_showdoc: true\n",
    "skip_exec: true\n",
    "---"
   ]
  },
  {
   "cell_type": "code",
   "execution_count": null,
   "metadata": {},
   "outputs": [],
   "source": [
    "#| hide\n",
    "from nbdev.showdoc import *\n",
    "from nbdev.showdoc import *\n",
    "from fastcore.test import *\n"
   ]
  },
  {
   "cell_type": "code",
   "execution_count": null,
   "metadata": {},
   "outputs": [],
   "source": [
    "#| export\n",
    "from fastcore.utils import *\n",
    "from fastcore.utils import *\n",
    "import numpy as np # Scientific computing library for Python\n",
    "import queue\n",
    "import typing as typ\n",
    "from mavcom.utils.general import *"
   ]
  },
  {
   "cell_type": "code",
   "execution_count": null,
   "metadata": {},
   "outputs": [
    {
     "data": {
      "text/markdown": "---\n\n[source](https://github.com/johnnewto/UAV/blob/main/UAV/utils/general.py#LNone){target=\"_blank\" style=\"float:right; font-size:smaller\"}\n\n### LeakyQueue\n\n>      LeakyQueue (maxsize:int=100, on_drop:Optional[Callable[[ForwardRef('Leaky\n>                  Queue'),ForwardRef('object')],NoneType]]=None)\n\nQueue that contains only the last actual items and drops the oldest one.",
      "text/plain": "---\n\n[source](https://github.com/johnnewto/UAV/blob/main/UAV/utils/general.py#LNone){target=\"_blank\" style=\"float:right; font-size:smaller\"}\n\n### LeakyQueue\n\n>      LeakyQueue (maxsize:int=100, on_drop:Optional[Callable[[ForwardRef('Leaky\n>                  Queue'),ForwardRef('object')],NoneType]]=None)\n\nQueue that contains only the last actual items and drops the oldest one."
     },
     "execution_count": null,
     "metadata": {},
     "output_type": "execute_result"
    }
   ],
   "source": [
    "show_doc(LeakyQueue)"
   ]
  },
  {
   "cell_type": "code",
   "execution_count": null,
   "metadata": {},
   "outputs": [
    {
     "data": {
      "text/markdown": "---\n\n[source](https://github.com/johnnewto/UAV/blob/main/UAV/utils/general.py#LNone){target=\"_blank\" style=\"float:right; font-size:smaller\"}\n\n### euler_to_quaternion\n\n>      euler_to_quaternion (roll:float, pitch:float, yaw:float)\n\nConvert an Euler angle to a quaternion.\n\n|    | **Type** | **Details** |\n| -- | -------- | ----------- |\n| roll | float | roll (rotation around x-axis)  angle in radians |\n| pitch | float | attitude (rotation around y-axis) angle in radians |\n| yaw | float | direction (rotation around z-axis) angle in radians |\n| **Returns** | **list** | **orientation in quaternion [x,y,z,w] format** |",
      "text/plain": "---\n\n[source](https://github.com/johnnewto/UAV/blob/main/UAV/utils/general.py#LNone){target=\"_blank\" style=\"float:right; font-size:smaller\"}\n\n### euler_to_quaternion\n\n>      euler_to_quaternion (roll:float, pitch:float, yaw:float)\n\nConvert an Euler angle to a quaternion.\n\n|    | **Type** | **Details** |\n| -- | -------- | ----------- |\n| roll | float | roll (rotation around x-axis)  angle in radians |\n| pitch | float | attitude (rotation around y-axis) angle in radians |\n| yaw | float | direction (rotation around z-axis) angle in radians |\n| **Returns** | **list** | **orientation in quaternion [x,y,z,w] format** |"
     },
     "execution_count": null,
     "metadata": {},
     "output_type": "execute_result"
    }
   ],
   "source": [
    "show_doc(euler_to_quaternion)"
   ]
  },
  {
   "cell_type": "markdown",
   "metadata": {},
   "source": [
    "**Run some tests**"
   ]
  },
  {
   "cell_type": "code",
   "execution_count": null,
   "metadata": {},
   "outputs": [],
   "source": [
    "#| hide\n",
    "# import nbdev; nbdev.nbdev_export()"
   ]
  }
 ],
 "metadata": {
  "kernelspec": {
   "display_name": "python3",
   "language": "python",
   "name": "python3"
  }
 },
 "nbformat": 4,
 "nbformat_minor": 4
}
