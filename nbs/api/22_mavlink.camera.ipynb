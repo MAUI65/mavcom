{
 "cells": [
  {
   "cell_type": "markdown",
   "metadata": {},
   "source": []
  },
  {
   "cell_type": "markdown",
   "metadata": {},
   "source": [
    "# Mavlink Camera\n",
    "> Mavlink Camera Component for sending commands to a camera on a companion computer or GCS\n",
    "> The server is on the companion computer and the client is on the ground station PC."
   ]
  },
  {
   "cell_type": "code",
   "execution_count": null,
   "metadata": {},
   "outputs": [],
   "source": [
    "#| default_exp mavlink.test_camera"
   ]
  },
  {
   "cell_type": "code",
   "execution_count": null,
   "metadata": {},
   "outputs": [
    {
     "name": "stdout",
     "output_type": "stream",
     "text": [
      "The autoreload extension is already loaded. To reload it, use:\n",
      "  %reload_ext autoreload\n"
     ]
    }
   ],
   "source": [
    "#| hide\n",
    "%load_ext autoreload\n",
    "%autoreload 2"
   ]
  },
  {
   "cell_type": "code",
   "execution_count": null,
   "metadata": {},
   "outputs": [],
   "source": [
    "#| hide\n",
    "# skip_showdoc: true to avoid running cells when rendering docs, and \n",
    "# skip_exec: true to skip this notebook when running tests. \n",
    "# this should be a raw cell "
   ]
  },
  {
   "cell_type": "raw",
   "metadata": {},
   "source": [
    "---\n",
    "skip_showdoc: true\n",
    "skip_exec: true\n",
    "---"
   ]
  },
  {
   "cell_type": "code",
   "execution_count": null,
   "metadata": {},
   "outputs": [],
   "source": [
    "#| export\n",
    "import time\n",
    "from mavcom.mavlink.mavcom import MAVCom, time_since_boot_ms, time_UTC_usec, date_time_str\n",
    "from mavcom.mavlink.component import Component, mavutil, mavlink, MAVLink\n",
    "\n",
    "from mavcom.mavlink.camera_client import *\n",
    "from mavcom.mavlink.camera_server import *\n",
    "from mavcom.utils.display import *\n",
    "from fastcore.test import *"
   ]
  },
  {
   "cell_type": "code",
   "execution_count": null,
   "metadata": {},
   "outputs": [],
   "source": [
    "#| hide\n",
    "from fastcore.utils import *\n",
    "from nbdev.showdoc import *\n"
   ]
  },
  {
   "cell_type": "markdown",
   "metadata": {},
   "source": [
    "### Implementation of these commands:\n",
    ">\n",
    "> [MAV_CMD_REQUEST_CAMERA_CAPTURE_STATUS = 527](https://mavlink.io/en/messages/common.html#MAV_CMD_REQUEST_CAMERA_CAPTURE_STATUS)\n",
    "[MAV_CMD_REQUEST_CAMERA_INFORMATION = 523](https://mavlink.io/en/messages/common.html#MAV_CMD_REQUEST_CAMERA_INFORMATION)\n",
    "[MAV_CMD_REQUEST_CAMERA_SETTINGS = 524](https://mavlink.io/en/messages/common.html#MAV_CMD_REQUEST_CAMERA_SETTINGS)\n",
    "[MAV_CMD_REQUEST_STORAGE_INFORMATION = 525](https://mavlink.io/en/messages/common.html#MAV_CMD_REQUEST_STORAGE_INFORMATION)\n",
    "[MAV_CMD_STORAGE_FORMAT = 526](https://mavlink.io/en/messages/common.html#MAV_CMD_STORAGE_FORMAT)\n",
    "[MAV_CMD_SET_CAMERA_ZOOM = 531](https://mavlink.io/en/messages/common.html#MAV_CMD_SET_CAMERA_ZOOM)\n",
    "[MAV_CMD_SET_CAMERA_FOCUS = 532](https://mavlink.io/en/messages/common.html#MAV_CMD_SET_CAMERA_FOCUS)\n",
    "[MAV_CMD_IMAGE_START_CAPTURE = 2000](https://mavlink.io/en/messages/common.html#MAV_CMD_IMAGE_START_CAPTURE)\n",
    "[MAV_CMD_IMAGE_STOP_CAPTURE = 2001](https://mavlink.io/en/messages/common.html#MAV_CMD_IMAGE_STOP_CAPTURE)\n",
    "> \n",
    "> [MAV_CMD_REQUEST_VIDEO_STREAM_INFORMATION = 2504](https://mavlink.io/en/messages/common.html#MAV_CMD_REQUEST_VIDEO_STREAM_INFORMATION)\n",
    "[MAV_CMD_REQUEST_VIDEO_STREAM_STATUS = 2505](https://mavlink.io/en/messages/common.html#MAV_CMD_REQUEST_VIDEO_STREAM_STATUS)\n",
    "[MAV_CMD_VIDEO_START_CAPTURE = 2500](https://mavlink.io/en/messages/common.html#MAV_CMD_VIDEO_START_CAPTURE)\n",
    "[MAV_CMD_VIDEO_STOP_CAPTURE = 2501](https://mavlink.io/en/messages/common.html#MAV_CMD_VIDEO_STOP_CAPTURE)\n",
    "[MAV_CMD_SET_CAMERA_MODE = 530](https://mavlink.io/en/messages/common.html#MAV_CMD_SET_CAMERA_MODE)\n",
    "> \n",
    "**Note**\n",
    "The simulated camera is implemented in PX4 [gazebo_camera_manager_plugin.cpp](https://github.com/PX4/PX4-SITL_gazebo-classic/blob/main/src/gazebo_camera_manager_plugin.cpp).\n"
   ]
  },
  {
   "cell_type": "code",
   "execution_count": null,
   "metadata": {},
   "outputs": [],
   "source": [
    "#| exports\n",
    "# from pymavlink.dialects.v20 import ardupilotmega as mav\n",
    "# from pymavlink.dialects.v20.ardupilotmega import MAVLink\n",
    "\n",
    "\n",
    "NAN = float(\"nan\")\n",
    "\n",
    "\"\"\"\n",
    "MAV_CMD_REQUEST_CAMERA_CAPTURE_STATUS = 527 # https://mavlink.io/en/messages/common.html#MAV_CMD_REQUEST_CAMERA_CAPTURE_STATUS\n",
    "MAV_CMD_REQUEST_CAMERA_INFORMATION = 521 # https://mavlink.io/en/messages/common.html#MAV_CMD_REQUEST_CAMERA_INFORMATION\n",
    "MAV_CMD_REQUEST_CAMERA_SETTINGS = 522 # https://mavlink.io/en/messages/common.html#MAV_CMD_REQUEST_CAMERA_SETTINGS\n",
    "MAV_CMD_REQUEST_STORAGE_INFORMATION = 525 # https://mavlink.io/en/messages/common.html#MAV_CMD_REQUEST_STORAGE_INFORMATION\n",
    "MAV_CMD_STORAGE_FORMAT = 526 # https://mavlink.io/en/messages/common.html#MAV_CMD_STORAGE_FORMAT\n",
    "MAV_CMD_SET_CAMERA_ZOOM = 531 # https://mavlink.io/en/messages/common.html#MAV_CMD_SET_CAMERA_ZOOM\n",
    "MAV_CMD_SET_CAMERA_FOCUS = 532 # https://mavlink.io/en/messages/common.html#MAV_CMD_SET_CAMERA_FOCUS\n",
    "MAV_CMD_IMAGE_START_CAPTURE = 2000  # https://mavlink.io/en/messages/common.html#MAV_CMD_IMAGE_START_CAPTURE\n",
    "MAV_CMD_IMAGE_STOP_CAPTURE = 2001  # https://mavlink.io/en/messages/common.html#MAV_CMD_IMAGE_STOP_CAPTURE\n",
    "MAV_CMD_REQUEST_VIDEO_STREAM_INFORMATION = 2504 # https://mavlink.io/en/messages/common.html#MAV_CMD_REQUEST_VIDEO_STREAM_INFORMATION\n",
    "MAV_CMD_REQUEST_VIDEO_STREAM_STATUS = 2505 # https://mavlink.io/en/messages/common.html#MAV_CMD_REQUEST_VIDEO_STREAM_STATUS\n",
    "MAV_CMD_VIDEO_START_CAPTURE = 2500 # https://mavlink.io/en/messages/common.html#MAV_CMD_VIDEO_START_CAPTURE\n",
    "MAV_CMD_VIDEO_STOP_CAPTURE = 2501 # https://mavlink.io/en/messages/common.html#MAV_CMD_VIDEO_STOP_CAPTURE\n",
    "MAV_CMD_SET_CAMERA_MODE = 530 # https://mavlink.io/en/messages/common.html#MAV_CMD_SET_CAMERA_MODE\n",
    "\n",
    "\"\"\"\n",
    "CAMERA_INFORMATION = mavlink.MAVLINK_MSG_ID_CAMERA_INFORMATION # https://mavlink.io/en/messages/common.html#CAMERA_INFORMATION\n",
    "CAMERA_SETTINGS = mavlink.MAVLINK_MSG_ID_CAMERA_SETTINGS # https://mavlink.io/en/messages/common.html#CAMERA_SETTINGS\n",
    "STORAGE_INFORMATION = mavlink.MAVLINK_MSG_ID_STORAGE_INFORMATION # https://mavlink.io/en/messages/common.html#STORAGE_INFORMATION\n",
    "CAMERA_CAPTURE_STATUS = mavlink.MAVLINK_MSG_ID_CAMERA_CAPTURE_STATUS # https://mavlink.io/en/messages/common.html#CAMERA_CAPTURE_STATUS\n",
    "CAMERA_IMAGE_CAPTURED = mavlink.MAVLINK_MSG_ID_CAMERA_IMAGE_CAPTURED # https://mavlink.io/en/messages/common.html#CAMERA_IMAGE_CAPTURED\n"
   ]
  },
  {
   "cell_type": "markdown",
   "metadata": {},
   "source": [
    "### Camera Server \n",
    "> The server is on the companion computer and is used to receive commands from the camera on the ground station PC."
   ]
  },
  {
   "cell_type": "code",
   "execution_count": null,
   "metadata": {},
   "outputs": [
    {
     "data": {
      "text/markdown": "---\n\n### CameraServer\n\n>      CameraServer (source_component=100, mav_type=30, camera=None,\n>                    loglevel=20)\n\nCreate a mavlink Camera server Component, camera argument will normally be a  gstreamer pipeline\n\n|    | **Type** | **Default** | **Details** |\n| -- | -------- | ----------- | ----------- |\n| source_component | int | 100 | used for component indication |\n| mav_type | int | 30 | used for heartbeat MAV_TYPE indication |\n| camera | NoneType | None | camera  (or FakeCamera for testing) |\n| loglevel | int | 20 | logging level |",
      "text/plain": "---\n\n### CameraServer\n\n>      CameraServer (source_component=100, mav_type=30, camera=None,\n>                    loglevel=20)\n\nCreate a mavlink Camera server Component, camera argument will normally be a  gstreamer pipeline\n\n|    | **Type** | **Default** | **Details** |\n| -- | -------- | ----------- | ----------- |\n| source_component | int | 100 | used for component indication |\n| mav_type | int | 30 | used for heartbeat MAV_TYPE indication |\n| camera | NoneType | None | camera  (or FakeCamera for testing) |\n| loglevel | int | 20 | logging level |"
     },
     "execution_count": null,
     "metadata": {},
     "output_type": "execute_result"
    }
   ],
   "source": [
    "show_doc(CameraServer)"
   ]
  },
  {
   "cell_type": "code",
   "execution_count": null,
   "metadata": {},
   "outputs": [
    {
     "name": "stderr",
     "output_type": "stream",
     "text": [
      "\u001b[32mINFO   | mavcom.MAVCom      | 40.097 |  mavcom.py:379 | Thread-63 (listen) | MAVLink Mav2: True, source_system: 222\u001b[0m\n",
      "\u001b[33mWARNIN | mavcom.CameraServe | 40.099 | camera_server.py:110 | MainThread         | Component has no camera object\u001b[0m\n",
      "\u001b[32mINFO   | mavcom.CameraServe | 40.100 | component.py:135 | MainThread         | Component Started self.source_component = 100, self.mav_type = 30, self.source_system = 222\u001b[0m\n",
      "\u001b[33mWARNIN | mavcom.CameraServe | 40.102 | camera_server.py:110 | MainThread         | Component has no camera object\u001b[0m\n",
      "\u001b[32mINFO   | mavcom.CameraServe | 40.103 | component.py:135 | MainThread         | Component Started self.source_component = 101, self.mav_type = 30, self.source_system = 222\u001b[0m\n",
      "\u001b[33mWARNIN | mavcom.CameraServe | 40.104 | camera_server.py:110 | MainThread         | Component has no camera object\u001b[0m\n",
      "\u001b[32mINFO   | mavcom.CameraServe | 40.105 | component.py:135 | MainThread         | Component Started self.source_component = 102, self.mav_type = 30, self.source_system = 222\u001b[0m\n"
     ]
    },
    {
     "name": "stdout",
     "output_type": "stream",
     "text": [
      "UAV                             \n",
      "UAV                             \n",
      "UAV                             \n"
     ]
    },
    {
     "name": "stderr",
     "output_type": "stream",
     "text": [
      "\u001b[32mINFO   | mavcom.CameraServe | 42.101 | component.py:401 | MainThread         | CameraServer closed\u001b[0m\n",
      "\u001b[32mINFO   | mavcom.CameraServe | 42.104 | component.py:401 | MainThread         | CameraServer closed\u001b[0m\n",
      "\u001b[32mINFO   | mavcom.CameraServe | 42.106 | component.py:401 | MainThread         | CameraServer closed\u001b[0m\n",
      "\u001b[32mINFO   | mavcom.MAVCom      | 42.106 |  mavcom.py:428 | MainThread         | MAVCom  closed\u001b[0m\n"
     ]
    }
   ],
   "source": [
    "# run a server that can receive commands from a client\n",
    "from mavcom.logging import LogLevels\n",
    "\n",
    "# start a mavlink server that can receive commands from a client\n",
    "with MAVCom(\"udpout:localhost:14445\", source_system=222, loglevel=LogLevels.DEBUG) as UAV_server:\n",
    "    # add the camera server components to the server\n",
    "    UAV_server.add_component(CameraServer(mav_type=mavlink.MAV_TYPE_CAMERA, source_component=mavlink.MAV_COMP_ID_CAMERA, camera=None))\n",
    "    UAV_server.add_component(CameraServer(mavlink.MAV_COMP_ID_CAMERA2))\n",
    "    UAV_server.add_component(CameraServer(mavlink.MAV_COMP_ID_CAMERA3))\n",
    "    \n",
    "    time.sleep(1)\n"
   ]
  },
  {
   "cell_type": "code",
   "execution_count": null,
   "metadata": {},
   "outputs": [
    {
     "name": "stdout",
     "output_type": "stream",
     "text": [
      "Supported Commands: https://mavlink.io/en/messages/common.html#mav_commands\n",
      " Cmd = MAV_CMD_REQUEST_MESSAGE: 512 \n",
      " Cmd = MAV_CMD_STORAGE_FORMAT: 526 \n",
      " Cmd = MAV_CMD_SET_CAMERA_ZOOM: 531 \n",
      " Cmd = MAV_CMD_IMAGE_START_CAPTURE: 2000 \n",
      " Cmd = MAV_CMD_IMAGE_STOP_CAPTURE: 2001 \n",
      " Cmd = MAV_CMD_VIDEO_START_CAPTURE: 2500 \n",
      " Cmd = MAV_CMD_VIDEO_STOP_CAPTURE: 2501 \n",
      " Cmd = MAV_CMD_SET_CAMERA_MODE: 530 \n",
      " Cmd = MAV_CMD_VIDEO_START_STREAMING: 2502 \n",
      " Cmd = MAV_CMD_VIDEO_STOP_STREAMING: 2503 \n",
      "Supported Message Requests:  https://mavlink.io/en/messages/common.html#messages\n",
      "\n",
      "MAVLINK_MSG_ID_CAMERA_INFORMATION:  259\n",
      "MAVLINK_MSG_ID_CAMERA_SETTINGS:  260\n",
      "MAVLINK_MSG_ID_STORAGE_INFORMATION:  261\n",
      "MAVLINK_MSG_ID_CAMERA_CAPTURE_STATUS:  262\n",
      "MAVLINK_MSG_ID_CAMERA_IMAGE_CAPTURED:  263\n",
      "MAVLINK_MSG_ID_VIDEO_STREAM_INFORMATION:  269\n",
      "MAVLINK_MSG_ID_VIDEO_STREAM_STATUS:  270\n"
     ]
    }
   ],
   "source": [
    "CameraServer().list_commands()"
   ]
  },
  {
   "cell_type": "code",
   "execution_count": null,
   "metadata": {},
   "outputs": [
    {
     "data": {
      "text/markdown": "---\n\n### CameraServer.close\n\n>      CameraServer.close ()\n\nClose the connection to the camera\n\n---\n\n### Component.count_message\n\n>      Component.count_message (msg)\n\nCount a message by adding it to the message_cnts dictionary. indexed by system and message type\n\n---\n\n### CameraServer.list_commands\n\n>      CameraServer.list_commands ()\n\nList the commands supported by the camera server\nhttps://mavlink.io/en/messages/common.html\nhttps://mavlink.io/en/messages/common.html#MAV_CMD_REQUEST_CAMERA_INFORMATION\nhttps://mavlink.io/en/messages/common.html#MAV_CMD_REQUEST_CAMERA_SETTINGS\nhttps://mavlink.io/en/messages/common.html#MAV_CMD_REQUEST_STORAGE_INFORMATION\nhttps://mavlink.io/en/messages/common.html#MAV_CMD_STORAGE_FORMAT\nhttps://mavlink.io/en/messages/common.html#MAV_CMD_SET_CAMERA_ZOOM\netc\n\n---\n\n### CameraServer.on_mav_connection\n\n>      CameraServer.on_mav_connection ()\n\nStart the mavlink connection\n\n---\n\n### CameraServer.on_message\n\n>      CameraServer.on_message\n>                               (msg:pymavlink.dialects.v20.ardupilotmega.MAVLin\n>                               k_command_long_message)\n\nCallback for a command received from the client\nThis will respond to the mavlink camera and storage focused commands:\n\n|    | **Type** | **Details** |\n| -- | -------- | ----------- |\n| msg | MAVLink_command_long_message | : mavlink  Message |\n| **Returns** | **bool** | **return True to indicate that the message has been handled** |\n\n---\n\n### Component.send_ack\n\n>      Component.send_ack (msg, ack_result:object=0)\n\nSend an ACK message to indicate a command was received.\n\n---\n\n### Component.send_command\n\n>      Component.send_command (target_system:int, target_component:int,\n>                              command_id:int, params:list, timeout=0.5)\n\n**Note: async function** \n\n\n\n---\n\n### Component.send_ping\n\n>      Component.send_ping (target_system:int, target_component:int,\n>                           ping_num:int=None)\n\nSend self.max_pings * ping messages to test if the server is alive.\n\n---\n\n### Component.set_log\n\n>      Component.set_log (loglevel)\n\n---\n\n### Component.set_mav_connection\n\n>      Component.set_mav_connection (mav_com:MAVCom)\n\nSet the mav_connection for the component\n\n---\n\n### Component.set_source_compenent\n\n>      Component.set_source_compenent ()\n\nSet the source component for the master.mav\n\n---\n\n### Component.set_target\n\n>      Component.set_target (target_system, target_component)\n\nSet the target system and component for the gimbal\n\n---\n\n### Component.wait_ack\n\n>      Component.wait_ack (target_system, target_component, command_id=None,\n>                          timeout=0.1)\n\nWait for an ack from target_system and target_component.\n\n**Note: async function** \n\n\n\n---\n\n### Component.wait_heartbeat\n\n>      Component.wait_heartbeat (remote_mav_type=None, target_system=None,\n>                                target_component=None, timeout:int=1)\n\nWait for a heartbeat from target_system and target_component.\n\n**Note: async function** \n\n\n\n",
      "text/plain": "---\n\n### CameraServer.close\n\n>      CameraServer.close ()\n\nClose the connection to the camera\n\n---\n\n### Component.count_message\n\n>      Component.count_message (msg)\n\nCount a message by adding it to the message_cnts dictionary. indexed by system and message type\n\n---\n\n### CameraServer.list_commands\n\n>      CameraServer.list_commands ()\n\nList the commands supported by the camera server\nhttps://mavlink.io/en/messages/common.html\nhttps://mavlink.io/en/messages/common.html#MAV_CMD_REQUEST_CAMERA_INFORMATION\nhttps://mavlink.io/en/messages/common.html#MAV_CMD_REQUEST_CAMERA_SETTINGS\nhttps://mavlink.io/en/messages/common.html#MAV_CMD_REQUEST_STORAGE_INFORMATION\nhttps://mavlink.io/en/messages/common.html#MAV_CMD_STORAGE_FORMAT\nhttps://mavlink.io/en/messages/common.html#MAV_CMD_SET_CAMERA_ZOOM\netc\n\n---\n\n### CameraServer.on_mav_connection\n\n>      CameraServer.on_mav_connection ()\n\nStart the mavlink connection\n\n---\n\n### CameraServer.on_message\n\n>      CameraServer.on_message\n>                               (msg:pymavlink.dialects.v20.ardupilotmega.MAVLin\n>                               k_command_long_message)\n\nCallback for a command received from the client\nThis will respond to the mavlink camera and storage focused commands:\n\n|    | **Type** | **Details** |\n| -- | -------- | ----------- |\n| msg | MAVLink_command_long_message | : mavlink  Message |\n| **Returns** | **bool** | **return True to indicate that the message has been handled** |\n\n---\n\n### Component.send_ack\n\n>      Component.send_ack (msg, ack_result:object=0)\n\nSend an ACK message to indicate a command was received.\n\n---\n\n### Component.send_command\n\n>      Component.send_command (target_system:int, target_component:int,\n>                              command_id:int, params:list, timeout=0.5)\n\n**Note: async function** \n\n\n\n---\n\n### Component.send_ping\n\n>      Component.send_ping (target_system:int, target_component:int,\n>                           ping_num:int=None)\n\nSend self.max_pings * ping messages to test if the server is alive.\n\n---\n\n### Component.set_log\n\n>      Component.set_log (loglevel)\n\n---\n\n### Component.set_mav_connection\n\n>      Component.set_mav_connection (mav_com:MAVCom)\n\nSet the mav_connection for the component\n\n---\n\n### Component.set_source_compenent\n\n>      Component.set_source_compenent ()\n\nSet the source component for the master.mav\n\n---\n\n### Component.set_target\n\n>      Component.set_target (target_system, target_component)\n\nSet the target system and component for the gimbal\n\n---\n\n### Component.wait_ack\n\n>      Component.wait_ack (target_system, target_component, command_id=None,\n>                          timeout=0.1)\n\nWait for an ack from target_system and target_component.\n\n**Note: async function** \n\n\n\n---\n\n### Component.wait_heartbeat\n\n>      Component.wait_heartbeat (remote_mav_type=None, target_system=None,\n>                                target_component=None, timeout:int=1)\n\nWait for a heartbeat from target_system and target_component.\n\n**Note: async function** \n\n\n"
     },
     "execution_count": null,
     "metadata": {},
     "output_type": "execute_result"
    }
   ],
   "source": [
    "doc_class(CameraServer)"
   ]
  },
  {
   "cell_type": "markdown",
   "metadata": {},
   "source": [
    "### Camera Client \n",
    "> The client is on the ground station PC and is used to send commands to the camera on the companion computer."
   ]
  },
  {
   "cell_type": "code",
   "execution_count": null,
   "metadata": {},
   "outputs": [
    {
     "data": {
      "text/markdown": "---\n\n### CameraClient\n\n>      CameraClient (source_component:int, mav_type:int,\n>                    loglevel:mavcom.logging.LogLevels|int=20)\n\nCreate a client component to send commands to a companion computer or GCS that will control a camera via a CameraServer instance\n\n|    | **Type** | **Default** | **Details** |\n| -- | -------- | ----------- | ----------- |\n| source_component | int |  | used for component indication |\n| mav_type | int |  | used for heartbeat MAV_TYPE indication |\n| loglevel | mavcom.logging.LogLevels \\| int | 20 | logging level |",
      "text/plain": "---\n\n### CameraClient\n\n>      CameraClient (source_component:int, mav_type:int,\n>                    loglevel:mavcom.logging.LogLevels|int=20)\n\nCreate a client component to send commands to a companion computer or GCS that will control a camera via a CameraServer instance\n\n|    | **Type** | **Default** | **Details** |\n| -- | -------- | ----------- | ----------- |\n| source_component | int |  | used for component indication |\n| mav_type | int |  | used for heartbeat MAV_TYPE indication |\n| loglevel | mavcom.logging.LogLevels \\| int | 20 | logging level |"
     },
     "execution_count": null,
     "metadata": {},
     "output_type": "execute_result"
    }
   ],
   "source": [
    "show_doc(CameraClient)"
   ]
  },
  {
   "cell_type": "markdown",
   "metadata": {},
   "source": [
    "#### Example: CameraClient"
   ]
  },
  {
   "cell_type": "code",
   "execution_count": null,
   "metadata": {},
   "outputs": [
    {
     "name": "stderr",
     "output_type": "stream",
     "text": [
      "\u001b[37mDEBUG  | mavcom.CameraClien | 42.274 | component.py:131 | MainThread         | set_mav_connection CameraClient component.py:131 self.mav_com = <MAVCom>\u001b[0m\n",
      "\u001b[37mDEBUG  | mavcom.CameraClien | 42.275 | component.py:175 | Thread-73 (_thread | Starting heartbeat type: 6 to all Systems and Components\u001b[0m\n",
      "\u001b[37mDEBUG  | mavcom.CameraClien | 42.276 | component.py:139 | MainThread         | Called from Component.start_mav_connection(), override to add startup behaviour\u001b[0m\n",
      "\u001b[32mINFO   | mavcom.CameraClien | 42.276 | component.py:135 | MainThread         | Component Started self.source_component = 11, self.mav_type = 6, self.source_system = 111\u001b[0m\n",
      "\u001b[32mINFO   | mavcom.CameraClien | 43.277 | component.py:401 | MainThread         | CameraClient closed\u001b[0m\n"
     ]
    }
   ],
   "source": [
    "# run a client that can send commands to a server\n",
    "with MAVCom(\"udpin:localhost:14445\", source_system=111, loglevel=LogLevels.CRITICAL) as client: \n",
    "    # add the camera client component to the client\n",
    "    gcs:CameraClient = client.add_component( CameraClient(mav_type=mavutil.mavlink.MAV_TYPE_GCS, source_component=11, loglevel=LogLevels.DEBUG) )\n"
   ]
  },
  {
   "cell_type": "code",
   "execution_count": null,
   "metadata": {},
   "outputs": [
    {
     "data": {
      "text/markdown": "---\n\n### Component.close\n\n>      Component.close ()\n\n---\n\n### Component.count_message\n\n>      Component.count_message (msg)\n\nCount a message by adding it to the message_cnts dictionary. indexed by system and message type\n\n---\n\n### CameraClient.image_start_capture\n\n>      CameraClient.image_start_capture (target_system=None,\n>                                        target_component=None, interval=0,\n>                                        count=1)\n\nStart image capture sequence.\n\n|    | **Type** | **Default** | **Details** |\n| -- | -------- | ----------- | ----------- |\n| target_system | NoneType | None |  |\n| target_component | NoneType | None |  |\n| interval | int | 0 | Image capture interval |\n| count | int | 1 | Number of images to capture (0 for unlimited) |\n\n---\n\n### CameraClient.image_stop_capture\n\n>      CameraClient.image_stop_capture (target_system=None,\n>                                       target_component=None)\n\nStop image capture sequence\n\n---\n\n### CameraClient.message_callback_cond\n\n>      CameraClient.message_callback_cond (msg_id, target_system,\n>                                          target_component, timeout=1)\n\nRegister a callback for a message received from the server\nReturns the message\n\n**Note: async function** \n\n\n\n---\n\n### CameraClient.on_mav_connection\n\n>      CameraClient.on_mav_connection ()\n\n---\n\n### CameraClient.on_message\n\n>      CameraClient.on_message\n>                               (msg:pymavlink.dialects.v20.ardupilotmega.MAVLin\n>                               k_message)\n\nCallback for a command received from the server\n\n---\n\n### CameraClient.request_message\n\n>      CameraClient.request_message (msg_id, params=None, target_system=None,\n>                                    target_component=None)\n\nRequest a message from the camera\n\n**Note: async function** \n\n\n\n---\n\n### Component.send_ack\n\n>      Component.send_ack (msg, ack_result:object=0)\n\nSend an ACK message to indicate a command was received.\n\n---\n\n### Component.send_command\n\n>      Component.send_command (target_system:int, target_component:int,\n>                              command_id:int, params:list, timeout=0.5)\n\n**Note: async function** \n\n\n\n---\n\n### CameraClient.send_message\n\n>      CameraClient.send_message (msg)\n\nSend a message to the camera\n\n---\n\n### Component.send_ping\n\n>      Component.send_ping (target_system:int, target_component:int,\n>                           ping_num:int=None)\n\nSend self.max_pings * ping messages to test if the server is alive.\n\n---\n\n### CameraClient.set_camera_mode\n\n>      CameraClient.set_camera_mode (target_system=None, target_component=None,\n>                                    mode_id=0)\n\nSet the camera mode\n\n|    | **Type** | **Default** | **Details** |\n| -- | -------- | ----------- | ----------- |\n| target_system | NoneType | None |  |\n| target_component | NoneType | None |  |\n| mode_id | int | 0 | https://mavlink.io/en/messages/common.html#CAMERA_MODE |\n\n---\n\n### CameraClient.set_camera_zoom\n\n>      CameraClient.set_camera_zoom (target_system=None, target_component=None,\n>                                    zoom_type=0, zoom_value=1)\n\nSet the camera zoom\n\n|    | **Type** | **Default** | **Details** |\n| -- | -------- | ----------- | ----------- |\n| target_system | NoneType | None |  |\n| target_component | NoneType | None |  |\n| zoom_type | int | 0 |  |\n| zoom_value | int | 1 | 0 to 100 zoom value |\n\n---\n\n### Component.set_log\n\n>      Component.set_log (loglevel)\n\n---\n\n### Component.set_mav_connection\n\n>      Component.set_mav_connection (mav_com:MAVCom)\n\nSet the mav_connection for the component\n\n---\n\n### CameraClient.set_message_callback_cond\n\n>      CameraClient.set_message_callback_cond (msg_id, target_system,\n>                                              target_component)\n\nRegister a callback condition for a message received from the server\n\n---\n\n### Component.set_source_compenent\n\n>      Component.set_source_compenent ()\n\nSet the source component for the master.mav\n\n---\n\n### Component.set_target\n\n>      Component.set_target (target_system, target_component)\n\nSet the target system and component for the gimbal\n\n---\n\n### CameraClient.storage_format\n\n>      CameraClient.storage_format (target_system=None, target_component=None)\n\nFormat storage (for cases where camera has storage)\n\n---\n\n### CameraClient.video_start_capture\n\n>      CameraClient.video_start_capture (target_system=None,\n>                                        target_component=None,\n>                                        video_stream_id=0, frequency=1)\n\nStart video capture\n\n|    | **Type** | **Default** | **Details** |\n| -- | -------- | ----------- | ----------- |\n| target_system | NoneType | None |  |\n| target_component | NoneType | None |  |\n| video_stream_id | int | 0 | Video stream id (0 for all streams) |\n| frequency | int | 1 | Frequency CAMERA_CAPTURE_STATUS messages should be sent while recording (0 for no messages, otherwise frequency in Hz) |\n\n---\n\n### CameraClient.video_start_streaming\n\n>      CameraClient.video_start_streaming (target_system=None,\n>                                          target_component=None,\n>                                          video_stream_id=0)\n\nStart video streaming\n\n|    | **Type** | **Default** | **Details** |\n| -- | -------- | ----------- | ----------- |\n| target_system | NoneType | None |  |\n| target_component | NoneType | None |  |\n| video_stream_id | int | 0 | Video Stream ID (0 for all streams) |\n\n---\n\n### CameraClient.video_stop_capture\n\n>      CameraClient.video_stop_capture (target_system=None,\n>                                       target_component=None,\n>                                       video_stream_id=0)\n\nStop video capture\n\n|    | **Type** | **Default** | **Details** |\n| -- | -------- | ----------- | ----------- |\n| target_system | NoneType | None |  |\n| target_component | NoneType | None |  |\n| video_stream_id | int | 0 | Video stream id (0 for all streams) |\n\n---\n\n### CameraClient.video_stop_streaming\n\n>      CameraClient.video_stop_streaming (target_system=None,\n>                                         target_component=None,\n>                                         video_stream_id=0)\n\nStop the video stream\n\n|    | **Type** | **Default** | **Details** |\n| -- | -------- | ----------- | ----------- |\n| target_system | NoneType | None |  |\n| target_component | NoneType | None |  |\n| video_stream_id | int | 0 | Video Stream ID (0 for all streams) |\n\n---\n\n### Component.wait_ack\n\n>      Component.wait_ack (target_system, target_component, command_id=None,\n>                          timeout=0.1)\n\nWait for an ack from target_system and target_component.\n\n**Note: async function** \n\n\n\n---\n\n### Component.wait_heartbeat\n\n>      Component.wait_heartbeat (remote_mav_type=None, target_system=None,\n>                                target_component=None, timeout:int=1)\n\nWait for a heartbeat from target_system and target_component.\n\n**Note: async function** \n\n\n\n---\n\n### CameraClient.wait_message_callback\n\n>      CameraClient.wait_message_callback (cond, timeout=1)\n\nWait for the callback for a message received from the server\n\n**Note: async function** \n\n\n\n",
      "text/plain": "---\n\n### Component.close\n\n>      Component.close ()\n\n---\n\n### Component.count_message\n\n>      Component.count_message (msg)\n\nCount a message by adding it to the message_cnts dictionary. indexed by system and message type\n\n---\n\n### CameraClient.image_start_capture\n\n>      CameraClient.image_start_capture (target_system=None,\n>                                        target_component=None, interval=0,\n>                                        count=1)\n\nStart image capture sequence.\n\n|    | **Type** | **Default** | **Details** |\n| -- | -------- | ----------- | ----------- |\n| target_system | NoneType | None |  |\n| target_component | NoneType | None |  |\n| interval | int | 0 | Image capture interval |\n| count | int | 1 | Number of images to capture (0 for unlimited) |\n\n---\n\n### CameraClient.image_stop_capture\n\n>      CameraClient.image_stop_capture (target_system=None,\n>                                       target_component=None)\n\nStop image capture sequence\n\n---\n\n### CameraClient.message_callback_cond\n\n>      CameraClient.message_callback_cond (msg_id, target_system,\n>                                          target_component, timeout=1)\n\nRegister a callback for a message received from the server\nReturns the message\n\n**Note: async function** \n\n\n\n---\n\n### CameraClient.on_mav_connection\n\n>      CameraClient.on_mav_connection ()\n\n---\n\n### CameraClient.on_message\n\n>      CameraClient.on_message\n>                               (msg:pymavlink.dialects.v20.ardupilotmega.MAVLin\n>                               k_message)\n\nCallback for a command received from the server\n\n---\n\n### CameraClient.request_message\n\n>      CameraClient.request_message (msg_id, params=None, target_system=None,\n>                                    target_component=None)\n\nRequest a message from the camera\n\n**Note: async function** \n\n\n\n---\n\n### Component.send_ack\n\n>      Component.send_ack (msg, ack_result:object=0)\n\nSend an ACK message to indicate a command was received.\n\n---\n\n### Component.send_command\n\n>      Component.send_command (target_system:int, target_component:int,\n>                              command_id:int, params:list, timeout=0.5)\n\n**Note: async function** \n\n\n\n---\n\n### CameraClient.send_message\n\n>      CameraClient.send_message (msg)\n\nSend a message to the camera\n\n---\n\n### Component.send_ping\n\n>      Component.send_ping (target_system:int, target_component:int,\n>                           ping_num:int=None)\n\nSend self.max_pings * ping messages to test if the server is alive.\n\n---\n\n### CameraClient.set_camera_mode\n\n>      CameraClient.set_camera_mode (target_system=None, target_component=None,\n>                                    mode_id=0)\n\nSet the camera mode\n\n|    | **Type** | **Default** | **Details** |\n| -- | -------- | ----------- | ----------- |\n| target_system | NoneType | None |  |\n| target_component | NoneType | None |  |\n| mode_id | int | 0 | https://mavlink.io/en/messages/common.html#CAMERA_MODE |\n\n---\n\n### CameraClient.set_camera_zoom\n\n>      CameraClient.set_camera_zoom (target_system=None, target_component=None,\n>                                    zoom_type=0, zoom_value=1)\n\nSet the camera zoom\n\n|    | **Type** | **Default** | **Details** |\n| -- | -------- | ----------- | ----------- |\n| target_system | NoneType | None |  |\n| target_component | NoneType | None |  |\n| zoom_type | int | 0 |  |\n| zoom_value | int | 1 | 0 to 100 zoom value |\n\n---\n\n### Component.set_log\n\n>      Component.set_log (loglevel)\n\n---\n\n### Component.set_mav_connection\n\n>      Component.set_mav_connection (mav_com:MAVCom)\n\nSet the mav_connection for the component\n\n---\n\n### CameraClient.set_message_callback_cond\n\n>      CameraClient.set_message_callback_cond (msg_id, target_system,\n>                                              target_component)\n\nRegister a callback condition for a message received from the server\n\n---\n\n### Component.set_source_compenent\n\n>      Component.set_source_compenent ()\n\nSet the source component for the master.mav\n\n---\n\n### Component.set_target\n\n>      Component.set_target (target_system, target_component)\n\nSet the target system and component for the gimbal\n\n---\n\n### CameraClient.storage_format\n\n>      CameraClient.storage_format (target_system=None, target_component=None)\n\nFormat storage (for cases where camera has storage)\n\n---\n\n### CameraClient.video_start_capture\n\n>      CameraClient.video_start_capture (target_system=None,\n>                                        target_component=None,\n>                                        video_stream_id=0, frequency=1)\n\nStart video capture\n\n|    | **Type** | **Default** | **Details** |\n| -- | -------- | ----------- | ----------- |\n| target_system | NoneType | None |  |\n| target_component | NoneType | None |  |\n| video_stream_id | int | 0 | Video stream id (0 for all streams) |\n| frequency | int | 1 | Frequency CAMERA_CAPTURE_STATUS messages should be sent while recording (0 for no messages, otherwise frequency in Hz) |\n\n---\n\n### CameraClient.video_start_streaming\n\n>      CameraClient.video_start_streaming (target_system=None,\n>                                          target_component=None,\n>                                          video_stream_id=0)\n\nStart video streaming\n\n|    | **Type** | **Default** | **Details** |\n| -- | -------- | ----------- | ----------- |\n| target_system | NoneType | None |  |\n| target_component | NoneType | None |  |\n| video_stream_id | int | 0 | Video Stream ID (0 for all streams) |\n\n---\n\n### CameraClient.video_stop_capture\n\n>      CameraClient.video_stop_capture (target_system=None,\n>                                       target_component=None,\n>                                       video_stream_id=0)\n\nStop video capture\n\n|    | **Type** | **Default** | **Details** |\n| -- | -------- | ----------- | ----------- |\n| target_system | NoneType | None |  |\n| target_component | NoneType | None |  |\n| video_stream_id | int | 0 | Video stream id (0 for all streams) |\n\n---\n\n### CameraClient.video_stop_streaming\n\n>      CameraClient.video_stop_streaming (target_system=None,\n>                                         target_component=None,\n>                                         video_stream_id=0)\n\nStop the video stream\n\n|    | **Type** | **Default** | **Details** |\n| -- | -------- | ----------- | ----------- |\n| target_system | NoneType | None |  |\n| target_component | NoneType | None |  |\n| video_stream_id | int | 0 | Video Stream ID (0 for all streams) |\n\n---\n\n### Component.wait_ack\n\n>      Component.wait_ack (target_system, target_component, command_id=None,\n>                          timeout=0.1)\n\nWait for an ack from target_system and target_component.\n\n**Note: async function** \n\n\n\n---\n\n### Component.wait_heartbeat\n\n>      Component.wait_heartbeat (remote_mav_type=None, target_system=None,\n>                                target_component=None, timeout:int=1)\n\nWait for a heartbeat from target_system and target_component.\n\n**Note: async function** \n\n\n\n---\n\n### CameraClient.wait_message_callback\n\n>      CameraClient.wait_message_callback (cond, timeout=1)\n\nWait for the callback for a message received from the server\n\n**Note: async function** \n\n\n"
     },
     "execution_count": null,
     "metadata": {},
     "output_type": "execute_result"
    }
   ],
   "source": [
    "doc_class(CameraClient)"
   ]
  },
  {
   "cell_type": "markdown",
   "metadata": {},
   "source": [
    "### Example: Test locally using UDP ports\n",
    "\n",
    "> on the same machine using UDP ports `14445`  with `server_system_ID=111, client_system_ID=222`\n",
    "> CameraClient is set to udpin:localhost:14445 and CameraServer is set to udpout:localhost:14445 udpin is so that the client can receive UDP from the mavproxy server at localhost:14445\n",
    "> CameraClient uses async/await to send commands to the CameraServer\n"
   ]
  },
  {
   "cell_type": "code",
   "execution_count": null,
   "metadata": {},
   "outputs": [
    {
     "name": "stderr",
     "output_type": "stream",
     "text": [
      "\u001b[32mINFO   | mavcom.MAVCom      | 43.433 |  mavcom.py:379 | Thread-75 (listen) | MAVLink Mav2: True, source_system: 111\u001b[0m\n",
      "\u001b[32mINFO   | mavcom.MAVCom      | 43.534 |  mavcom.py:379 | Thread-76 (listen) | MAVLink Mav2: True, source_system: 222\u001b[0m\n",
      "\u001b[32mINFO   | mavcom.CameraClien | 43.536 | component.py:135 | MainThread         | Component Started self.source_component = 11, self.mav_type = 6, self.source_system = 111\u001b[0m\n",
      "\u001b[33mWARNIN | mavcom.CameraServe | 43.537 | camera_server.py:110 | MainThread         | Component has no camera object\u001b[0m\n",
      "\u001b[32mINFO   | mavcom.CameraServe | 43.538 | component.py:135 | MainThread         | Component Started self.source_component = 22, self.mav_type = 30, self.source_system = 222\u001b[0m\n"
     ]
    },
    {
     "name": "stdout",
     "output_type": "stream",
     "text": [
      "UAV                             \n",
      "Heartbeat received ret = (222, 22)\n",
      "MAVLINK_MSG_ID_CAMERA_INFORMATION CAMERA_INFORMATION {time_boot_ms : 2248962, vendor_name : UAV, model_name : FakeCamera, firmware_version : 1, focal_length : 2.799999952316284, sensor_size_h : 3.200000047683716, sensor_size_v : 2.4000000953674316, resolution_h : 640, resolution_v : 480, lens_id : 0, flags : 0, cam_definition_version : 1, cam_definition_uri : , gimbal_device_id : 0}\n"
     ]
    },
    {
     "name": "stderr",
     "output_type": "stream",
     "text": [
      "\u001b[32mINFO   | mavcom.CameraServe | 45.539 | component.py:401 | MainThread         | CameraServer closed\u001b[0m\n",
      "\u001b[32mINFO   | mavcom.MAVCom      | 45.540 |  mavcom.py:428 | MainThread         | MAVCom  closed\u001b[0m\n",
      "\u001b[32mINFO   | mavcom.CameraClien | 46.539 | component.py:401 | MainThread         | CameraClient closed\u001b[0m\n",
      "\u001b[32mINFO   | mavcom.MAVCom      | 46.540 |  mavcom.py:428 | MainThread         | MAVCom  closed\u001b[0m\n"
     ]
    }
   ],
   "source": [
    "%autoawait asyncio\n",
    "import asyncio\n",
    "async def main():\n",
    "    MAV_TYPE_GCS = mavutil.mavlink.MAV_TYPE_GCS\n",
    "    MAV_TYPE_CAMERA = mavutil.mavlink.MAV_TYPE_CAMERA\n",
    "    \n",
    "    con1, con2 = \"udpin:localhost:14445\", \"udpout:localhost:14445\"\n",
    "    # con1, con2 = \"/dev/ttyACM0\", \"/dev/ttyUSB0\"\n",
    "    with MAVCom(con1, source_system=111) as client:\n",
    "        with MAVCom(con2, source_system=222) as server:\n",
    "            gcs:CameraClient = client.add_component(\n",
    "                CameraClient(mav_type=MAV_TYPE_GCS, source_component=11))\n",
    "            # server.add_component(CameraServer(mav_type=MAV_TYPE_CAMERA, source_component=22, camera=cam_fake1, debug=False))\n",
    "            server.add_component(CameraServer(mav_type=MAV_TYPE_CAMERA, source_component=22, camera=None))\n",
    "    \n",
    "            ret = await gcs.wait_heartbeat(remote_mav_type=mavlink.MAV_TYPE_CAMERA)\n",
    "            print(f\"Heartbeat received {ret = }\")\n",
    "    \n",
    "            msg = await gcs.request_message(mavlink.MAVLINK_MSG_ID_CAMERA_INFORMATION, target_system=222, target_component=22)\n",
    "\n",
    "            print( f\"MAVLINK_MSG_ID_CAMERA_INFORMATION {msg}\")\n",
    "            \n",
    "            # msg = await cam.request_storage_information()\n",
    "            # print (msg)\n",
    "            \n",
    "            time.sleep(1)\n",
    "            \n",
    "await main()"
   ]
  },
  {
   "cell_type": "code",
   "execution_count": null,
   "metadata": {},
   "outputs": [],
   "source": [
    "# | hide\n",
    "# assert False, \"Stop here\""
   ]
  },
  {
   "cell_type": "markdown",
   "metadata": {},
   "source": [
    "#### Starting a client and server\n",
    " > on the same machine using UDP ports `14445`  with `server_system_ID=111, client_system_ID=222`"
   ]
  },
  {
   "cell_type": "code",
   "execution_count": null,
   "metadata": {},
   "outputs": [],
   "source": [
    "#| exports\n",
    "from mavcom.mavlink.mavcom import MAVCom\n",
    "from mavcom.mavlink.component import Component, mavutil\n",
    "import time\n",
    "\n",
    "def on_message(message):\n",
    "    print(f\"on_message: {message}\")\n",
    "    return True # Return True to indicate that command was ok and send ack\n",
    "\n",
    "class Cam1(Component):\n",
    "    def __init__(self, source_component, mav_type, debug=False):\n",
    "        super().__init__(source_component=source_component, mav_type=mav_type)\n",
    "        self._set_message_callback(on_message)\n",
    "\n",
    "\n",
    "class Cam2(Component):\n",
    "    def __init__(self, source_component, mav_type, debug=False):\n",
    "        super().__init__(source_component=source_component, mav_type=mav_type)\n",
    "        self._set_message_callback(on_message)\n",
    "\n",
    "\n",
    "class Cli(Component):\n",
    "    def __init__(self, source_component, mav_type, debug=False):\n",
    "        super().__init__(source_component=source_component, mav_type=mav_type)\n",
    "        self._set_message_callback(on_message)"
   ]
  },
  {
   "cell_type": "code",
   "execution_count": null,
   "metadata": {},
   "outputs": [
    {
     "name": "stderr",
     "output_type": "stream",
     "text": [
      "\u001b[33mWARNIN | py.warnings     | 46.577 | warnings.py:109 | MainThread         | /tmp/ipykernel_9420/569135065.py:41: RuntimeWarning: coroutine 'test_client_server' was never awaited\n",
      "  pass\n",
      "\u001b[0m\n"
     ]
    }
   ],
   "source": [
    "#| exports\n",
    "\n",
    "async def test_client_server(con1=\"udpin:localhost:14445\", con2=\"udpout:localhost:14445\"):\n",
    "    with MAVCom(con1, source_system=111) as client:\n",
    "        with MAVCom(con2, source_system=222) as server:\n",
    "\n",
    "            client.add_component(Cli(mav_type=mavlink.MAV_TYPE_GCS, source_component=11))\n",
    "            server.add_component(Cam1(mav_type=mavlink.MAV_TYPE_CAMERA, source_component=22))\n",
    "            server.add_component(Cam1(mav_type=mavlink.MAV_TYPE_CAMERA, source_component=23))\n",
    "\n",
    "            for key, comp in client.component.items():\n",
    "                # result = await comp.wait_heartbeat(target_system=222, target_component=22)\n",
    "                result = await comp.wait_heartbeat(remote_mav_type=mavlink.MAV_TYPE_CAMERA, target_system=222, target_component=22)\n",
    "                print(f\"Component {comp}, Heartbeat: {result = }\")\n",
    "\n",
    "            Num_Iters = 3\n",
    "            for i in range(Num_Iters):\n",
    "                await client.component[11]._test_command(222, 22, 1)\n",
    "\n",
    "                await client.component[11]._test_command(222, 23, 1)\n",
    "\n",
    "            await client.component[11]._test_command(222, 24, 1)\n",
    "\n",
    "    print(f\"{server.source_system = };  {server.message_cnts = }\")\n",
    "    print(f\"{client.source_system = };  {client.message_cnts = }\")\n",
    "    print()\n",
    "    print(f\"{client.source_system = } \\n{client.summary()} \\n\")\n",
    "    print(f\"{server.source_system = } \\n{server.summary()} \\n\")\n",
    "    \n",
    "    assert client.component[11].num_cmds_sent == Num_Iters * 2 + 1\n",
    "    print(f\"{server.component[22].message_cnts[111]['COMMAND_LONG'] = }\")\n",
    "    assert server.component[22].message_cnts[111]['COMMAND_LONG'] == Num_Iters\n",
    "    assert client.component[11].num_acks_rcvd == Num_Iters * 2\n",
    "    assert client.component[11].num_acks_drop == 1\n",
    "    assert server.component[22].num_cmds_rcvd == Num_Iters\n",
    "    assert server.component[23].num_cmds_rcvd == Num_Iters\n",
    "\n",
    "try:     \n",
    "    import asyncio \n",
    "    # notebook does not run asyncio tasks\n",
    "    asyncio.run(test_client_server(con1=\"udpin:localhost:14445\", con2=\"udpout:localhost:14445\"))\n",
    "except: \n",
    "    pass"
   ]
  },
  {
   "cell_type": "code",
   "execution_count": null,
   "metadata": {},
   "outputs": [
    {
     "name": "stderr",
     "output_type": "stream",
     "text": [
      "\u001b[32mINFO   | mavcom.MAVCom      | 46.687 |  mavcom.py:379 | Thread-81 (listen) | MAVLink Mav2: True, source_system: 111\u001b[0m\n",
      "\u001b[32mINFO   | mavcom.MAVCom      | 46.788 |  mavcom.py:379 | Thread-82 (listen) | MAVLink Mav2: True, source_system: 222\u001b[0m\n",
      "\u001b[32mINFO   | mavcom.Cli         | 46.790 | component.py:135 | MainThread         | Component Started self.source_component = 11, self.mav_type = 6, self.source_system = 111\u001b[0m\n",
      "\u001b[32mINFO   | mavcom.Cam1        | 46.792 | component.py:135 | MainThread         | Component Started self.source_component = 22, self.mav_type = 30, self.source_system = 222\u001b[0m\n",
      "\u001b[32mINFO   | mavcom.Cam1        | 46.794 | component.py:135 | MainThread         | Component Started self.source_component = 23, self.mav_type = 30, self.source_system = 222\u001b[0m\n"
     ]
    },
    {
     "name": "stdout",
     "output_type": "stream",
     "text": [
      "Component Cli, Heartbeat: result = (222, 22)\n",
      "on_message: COMMAND_LONG {target_system : 222, target_component : 22, command : 203, confirmation : 0, param1 : 1.0, param2 : 1.0, param3 : 0.0, param4 : 0.0, param5 : 0.0, param6 : 0.0, param7 : 0.0}\n",
      "on_message: COMMAND_LONG {target_system : 222, target_component : 23, command : 203, confirmation : 0, param1 : 1.0, param2 : 1.0, param3 : 0.0, param4 : 0.0, param5 : 0.0, param6 : 0.0, param7 : 0.0}\n",
      "on_message: COMMAND_LONG {target_system : 222, target_component : 22, command : 203, confirmation : 0, param1 : 1.0, param2 : 1.0, param3 : 0.0, param4 : 0.0, param5 : 0.0, param6 : 0.0, param7 : 0.0}\n",
      "on_message: COMMAND_LONG {target_system : 222, target_component : 23, command : 203, confirmation : 0, param1 : 1.0, param2 : 1.0, param3 : 0.0, param4 : 0.0, param5 : 0.0, param6 : 0.0, param7 : 0.0}\n",
      "on_message: COMMAND_LONG {target_system : 222, target_component : 22, command : 203, confirmation : 0, param1 : 1.0, param2 : 1.0, param3 : 0.0, param4 : 0.0, param5 : 0.0, param6 : 0.0, param7 : 0.0}\n",
      "on_message: COMMAND_LONG {target_system : 222, target_component : 23, command : 203, confirmation : 0, param1 : 1.0, param2 : 1.0, param3 : 0.0, param4 : 0.0, param5 : 0.0, param6 : 0.0, param7 : 0.0}\n"
     ]
    },
    {
     "name": "stderr",
     "output_type": "stream",
     "text": [
      "\u001b[31mERROR  | mavcom.MAVCom      | 47.399 |  mavcom.py:402 | Thread-82 (listen) |  Component 24 does not exist? ; Exception: 24\u001b[0m\n",
      "\u001b[33mWARNIN | mavcom.Cli         | 47.900 | component.py:374 | MainThread         | **No ACK: 222/24 MAV_CMD_DO_DIGICAM_CONTROL:203\u001b[0m\n",
      "\u001b[32mINFO   | mavcom.Cam1        | 48.794 | component.py:401 | MainThread         | Cam1 closed\u001b[0m\n",
      "\u001b[32mINFO   | mavcom.Cam1        | 49.797 | component.py:401 | MainThread         | Cam1 closed\u001b[0m\n",
      "\u001b[32mINFO   | mavcom.MAVCom      | 49.797 |  mavcom.py:428 | MainThread         | MAVCom  closed\u001b[0m\n",
      "\u001b[32mINFO   | mavcom.Cli         | 51.796 | component.py:401 | MainThread         | Cli closed\u001b[0m\n",
      "\u001b[32mINFO   | mavcom.MAVCom      | 51.797 |  mavcom.py:428 | MainThread         | MAVCom  closed\u001b[0m\n"
     ]
    },
    {
     "name": "stdout",
     "output_type": "stream",
     "text": [
      "server.source_system = 222;  server.message_cnts = {111: {'COMMAND_LONG': 7, 'HEARTBEAT': 1}}\n",
      "client.source_system = 111;  client.message_cnts = {222: {'HEARTBEAT': 5, 'COMMAND_ACK': 6}}\n",
      "\n",
      "client.source_system = 111 \n",
      " - comp.source_component = 11\n",
      " - comp.num_msgs_rcvd = 11\n",
      " - comp.num_cmds_sent = 7\n",
      " - comp.num_cmds_rcvd = 0\n",
      " - comp.num_acks_rcvd = 6\n",
      " - comp.num_acks_sent = 0\n",
      " - comp.num_acks_drop = 1\n",
      " - comp.message_cnts = {222: {'HEARTBEAT': 5, 'COMMAND_ACK': 6}} \n",
      "\n",
      "server.source_system = 222 \n",
      " - comp.source_component = 22\n",
      " - comp.num_msgs_rcvd = 4\n",
      " - comp.num_cmds_sent = 0\n",
      " - comp.num_cmds_rcvd = 3\n",
      " - comp.num_acks_rcvd = 0\n",
      " - comp.num_acks_sent = 3\n",
      " - comp.num_acks_drop = 0\n",
      " - comp.message_cnts = {111: {'COMMAND_LONG': 3, 'HEARTBEAT': 1}}\n",
      " - comp.source_component = 23\n",
      " - comp.num_msgs_rcvd = 4\n",
      " - comp.num_cmds_sent = 0\n",
      " - comp.num_cmds_rcvd = 3\n",
      " - comp.num_acks_rcvd = 0\n",
      " - comp.num_acks_sent = 3\n",
      " - comp.num_acks_drop = 0\n",
      " - comp.message_cnts = {111: {'COMMAND_LONG': 3, 'HEARTBEAT': 1}} \n",
      "\n",
      "server.component[22].message_cnts[111]['COMMAND_LONG'] = 3\n"
     ]
    }
   ],
   "source": [
    "%autoawait asyncio\n",
    "await test_client_server()"
   ]
  },
  {
   "cell_type": "code",
   "execution_count": null,
   "metadata": {},
   "outputs": [],
   "source": []
  },
  {
   "cell_type": "code",
   "execution_count": null,
   "metadata": {},
   "outputs": [],
   "source": [
    "#| Hide\n",
    "# assert False, \"Stop here\""
   ]
  },
  {
   "cell_type": "markdown",
   "metadata": {},
   "source": [
    "#### Test with Serial ports\n",
    "Test using a Pixhawk connected via telemetry 2 and USB serial ports.\n",
    "CamClient is set to udpin:localhost:14445 and CamServer is set to udpout:localhost:14435 udpin is so that the client can receive UDP from the mavproxy server at localhost:14445\n",
    "mavproxy.py --master=/dev/ttyACM1 --baudrate 57600 --out udpout:localhost:14445 mavproxy.py --master=/dev/ttyACM3 --baudrate 57600 --out udpout:localhost:14435"
   ]
  },
  {
   "cell_type": "code",
   "execution_count": null,
   "metadata": {},
   "outputs": [
    {
     "ename": "SerialException",
     "evalue": "[Errno 2] could not open port /dev/ttyACM0: [Errno 2] No such file or directory: '/dev/ttyACM0'",
     "output_type": "error",
     "traceback": [
      "\u001b[0;31m---------------------------------------------------------------------------\u001b[0m",
      "\u001b[0;31mFileNotFoundError\u001b[0m                         Traceback (most recent call last)",
      "File \u001b[0;32m~/PycharmProjects/UAV/venv/lib/python3.10/site-packages/serial/serialposix.py:322\u001b[0m, in \u001b[0;36mSerial.open\u001b[0;34m(self)\u001b[0m\n\u001b[1;32m    321\u001b[0m \u001b[38;5;28;01mtry\u001b[39;00m:\n\u001b[0;32m--> 322\u001b[0m     \u001b[38;5;28mself\u001b[39m\u001b[38;5;241m.\u001b[39mfd \u001b[38;5;241m=\u001b[39m \u001b[43mos\u001b[49m\u001b[38;5;241;43m.\u001b[39;49m\u001b[43mopen\u001b[49m\u001b[43m(\u001b[49m\u001b[38;5;28;43mself\u001b[39;49m\u001b[38;5;241;43m.\u001b[39;49m\u001b[43mportstr\u001b[49m\u001b[43m,\u001b[49m\u001b[43m \u001b[49m\u001b[43mos\u001b[49m\u001b[38;5;241;43m.\u001b[39;49m\u001b[43mO_RDWR\u001b[49m\u001b[43m \u001b[49m\u001b[38;5;241;43m|\u001b[39;49m\u001b[43m \u001b[49m\u001b[43mos\u001b[49m\u001b[38;5;241;43m.\u001b[39;49m\u001b[43mO_NOCTTY\u001b[49m\u001b[43m \u001b[49m\u001b[38;5;241;43m|\u001b[39;49m\u001b[43m \u001b[49m\u001b[43mos\u001b[49m\u001b[38;5;241;43m.\u001b[39;49m\u001b[43mO_NONBLOCK\u001b[49m\u001b[43m)\u001b[49m\n\u001b[1;32m    323\u001b[0m \u001b[38;5;28;01mexcept\u001b[39;00m \u001b[38;5;167;01mOSError\u001b[39;00m \u001b[38;5;28;01mas\u001b[39;00m msg:\n",
      "\u001b[0;31mFileNotFoundError\u001b[0m: [Errno 2] No such file or directory: '/dev/ttyACM0'",
      "\nDuring handling of the above exception, another exception occurred:\n",
      "\u001b[0;31mSerialException\u001b[0m                           Traceback (most recent call last)",
      "Cell \u001b[0;32mIn[58], line 2\u001b[0m\n\u001b[1;32m      1\u001b[0m \u001b[38;5;66;03m# Test sending a command and receiving an ack from client to server\u001b[39;00m\n\u001b[0;32m----> 2\u001b[0m \u001b[38;5;28;01mwith\u001b[39;00m \u001b[43mMAVCom\u001b[49m\u001b[43m(\u001b[49m\u001b[38;5;124;43m\"\u001b[39;49m\u001b[38;5;124;43m/dev/ttyACM0\u001b[39;49m\u001b[38;5;124;43m\"\u001b[39;49m\u001b[43m,\u001b[49m\u001b[43m \u001b[49m\u001b[43msource_system\u001b[49m\u001b[38;5;241;43m=\u001b[39;49m\u001b[38;5;241;43m111\u001b[39;49m\u001b[43m)\u001b[49m \u001b[38;5;28;01mas\u001b[39;00m client:\n\u001b[1;32m      3\u001b[0m     \u001b[38;5;28;01mwith\u001b[39;00m MAVCom(\u001b[38;5;124m\"\u001b[39m\u001b[38;5;124m/dev/ttyUSB0\u001b[39m\u001b[38;5;124m\"\u001b[39m, source_system\u001b[38;5;241m=\u001b[39m\u001b[38;5;241m222\u001b[39m) \u001b[38;5;28;01mas\u001b[39;00m server:\n\u001b[1;32m      4\u001b[0m         client\u001b[38;5;241m.\u001b[39madd_component(Cli(client, mav_type\u001b[38;5;241m=\u001b[39mMAV_TYPE_GCS))\n",
      "File \u001b[0;32m~/PycharmProjects/UAV/UAV/mavlink/mavcom.py:287\u001b[0m, in \u001b[0;36mMAVCom.__init__\u001b[0;34m(self, connection_string, baudrate, source_system, loglevel)\u001b[0m\n\u001b[1;32m    285\u001b[0m \u001b[38;5;28mself\u001b[39m\u001b[38;5;241m.\u001b[39m_t_mav_listen \u001b[38;5;241m=\u001b[39m \u001b[38;5;28;01mNone\u001b[39;00m\n\u001b[1;32m    286\u001b[0m \u001b[38;5;28mself\u001b[39m\u001b[38;5;241m.\u001b[39mdo_ack \u001b[38;5;241m=\u001b[39m \u001b[38;5;28;01mTrue\u001b[39;00m\n\u001b[0;32m--> 287\u001b[0m \u001b[38;5;28;43mself\u001b[39;49m\u001b[38;5;241;43m.\u001b[39;49m\u001b[43mstart_mavlink\u001b[49m\u001b[43m(\u001b[49m\u001b[43m)\u001b[49m\n",
      "File \u001b[0;32m~/PycharmProjects/UAV/UAV/mavlink/mavcom.py:292\u001b[0m, in \u001b[0;36mMAVCom.start_mavlink\u001b[0;34m(self)\u001b[0m\n\u001b[1;32m    289\u001b[0m \u001b[38;5;28;01mdef\u001b[39;00m \u001b[38;5;21mstart_mavlink\u001b[39m(\u001b[38;5;28mself\u001b[39m):\n\u001b[1;32m    290\u001b[0m \u001b[38;5;250m    \u001b[39m\u001b[38;5;124;03m\"\"\"Start the MAVLink connection.\"\"\"\u001b[39;00m\n\u001b[0;32m--> 292\u001b[0m     \u001b[38;5;28mself\u001b[39m\u001b[38;5;241m.\u001b[39mmaster \u001b[38;5;241m=\u001b[39m \u001b[43mmavutil\u001b[49m\u001b[38;5;241;43m.\u001b[39;49m\u001b[43mmavlink_connection\u001b[49m\u001b[43m(\u001b[49m\u001b[38;5;28;43mself\u001b[39;49m\u001b[38;5;241;43m.\u001b[39;49m\u001b[43mconnection_string\u001b[49m\u001b[43m,\u001b[49m\u001b[43m  \u001b[49m\u001b[38;5;66;43;03m# \"udpin:localhost:14550\"\u001b[39;49;00m\n\u001b[1;32m    293\u001b[0m \u001b[43m                                             \u001b[49m\u001b[43mbaud\u001b[49m\u001b[38;5;241;43m=\u001b[39;49m\u001b[38;5;28;43mself\u001b[39;49m\u001b[38;5;241;43m.\u001b[39;49m\u001b[43mbaudrate\u001b[49m\u001b[43m,\u001b[49m\u001b[43m  \u001b[49m\u001b[38;5;66;43;03m# baud rate of the serial port\u001b[39;49;00m\n\u001b[1;32m    294\u001b[0m \u001b[43m                                             \u001b[49m\u001b[43msource_system\u001b[49m\u001b[38;5;241;43m=\u001b[39;49m\u001b[38;5;28;43mint\u001b[39;49m\u001b[43m(\u001b[49m\u001b[38;5;28;43mself\u001b[39;49m\u001b[38;5;241;43m.\u001b[39;49m\u001b[43msource_system\u001b[49m\u001b[43m)\u001b[49m\u001b[43m,\u001b[49m\u001b[43m  \u001b[49m\u001b[38;5;66;43;03m# source system\u001b[39;49;00m\n\u001b[1;32m    295\u001b[0m \u001b[43m                                             \u001b[49m\u001b[43m)\u001b[49m\n\u001b[1;32m    297\u001b[0m     \u001b[38;5;66;03m# self.log.info(f\"see https://mavlink.io/en/messages/common.html#MAV_COMPONENT\")\u001b[39;00m\n\u001b[1;32m    298\u001b[0m     time\u001b[38;5;241m.\u001b[39msleep(\u001b[38;5;241m0.1\u001b[39m)  \u001b[38;5;66;03m# Todo delay for connection to establish\u001b[39;00m\n",
      "File \u001b[0;32m~/PycharmProjects/UAV/venv/lib/python3.10/site-packages/pymavlink/mavutil.py:1818\u001b[0m, in \u001b[0;36mmavlink_connection\u001b[0;34m(device, baud, source_system, source_component, planner_format, write, append, robust_parsing, notimestamps, input, dialect, autoreconnect, zero_time_base, retries, use_native, force_connected, progress_callback, udp_timeout, **opts)\u001b[0m\n\u001b[1;32m   1814\u001b[0m     \u001b[38;5;28;01melse\u001b[39;00m:\n\u001b[1;32m   1815\u001b[0m         \u001b[38;5;28;01mreturn\u001b[39;00m mavlogfile(device, planner_format\u001b[38;5;241m=\u001b[39mplanner_format, write\u001b[38;5;241m=\u001b[39mwrite,\n\u001b[1;32m   1816\u001b[0m                           append\u001b[38;5;241m=\u001b[39mappend, robust_parsing\u001b[38;5;241m=\u001b[39mrobust_parsing, notimestamps\u001b[38;5;241m=\u001b[39mnotimestamps,\n\u001b[1;32m   1817\u001b[0m                           source_system\u001b[38;5;241m=\u001b[39msource_system, source_component\u001b[38;5;241m=\u001b[39msource_component, use_native\u001b[38;5;241m=\u001b[39muse_native)\n\u001b[0;32m-> 1818\u001b[0m \u001b[38;5;28;01mreturn\u001b[39;00m \u001b[43mmavserial\u001b[49m\u001b[43m(\u001b[49m\u001b[43mdevice\u001b[49m\u001b[43m,\u001b[49m\n\u001b[1;32m   1819\u001b[0m \u001b[43m                 \u001b[49m\u001b[43mbaud\u001b[49m\u001b[38;5;241;43m=\u001b[39;49m\u001b[43mbaud\u001b[49m\u001b[43m,\u001b[49m\n\u001b[1;32m   1820\u001b[0m \u001b[43m                 \u001b[49m\u001b[43msource_system\u001b[49m\u001b[38;5;241;43m=\u001b[39;49m\u001b[43msource_system\u001b[49m\u001b[43m,\u001b[49m\n\u001b[1;32m   1821\u001b[0m \u001b[43m                 \u001b[49m\u001b[43msource_component\u001b[49m\u001b[38;5;241;43m=\u001b[39;49m\u001b[43msource_component\u001b[49m\u001b[43m,\u001b[49m\n\u001b[1;32m   1822\u001b[0m \u001b[43m                 \u001b[49m\u001b[43mautoreconnect\u001b[49m\u001b[38;5;241;43m=\u001b[39;49m\u001b[43mautoreconnect\u001b[49m\u001b[43m,\u001b[49m\n\u001b[1;32m   1823\u001b[0m \u001b[43m                 \u001b[49m\u001b[43muse_native\u001b[49m\u001b[38;5;241;43m=\u001b[39;49m\u001b[43muse_native\u001b[49m\u001b[43m,\u001b[49m\n\u001b[1;32m   1824\u001b[0m \u001b[43m                 \u001b[49m\u001b[43mforce_connected\u001b[49m\u001b[38;5;241;43m=\u001b[39;49m\u001b[43mforce_connected\u001b[49m\u001b[43m)\u001b[49m\n",
      "File \u001b[0;32m~/PycharmProjects/UAV/venv/lib/python3.10/site-packages/pymavlink/mavutil.py:970\u001b[0m, in \u001b[0;36mmavserial.__init__\u001b[0;34m(self, device, baud, autoreconnect, source_system, source_component, use_native, force_connected)\u001b[0m\n\u001b[1;32m    968\u001b[0m \u001b[38;5;28;01mexcept\u001b[39;00m serial\u001b[38;5;241m.\u001b[39mSerialException \u001b[38;5;28;01mas\u001b[39;00m e:\n\u001b[1;32m    969\u001b[0m     \u001b[38;5;28;01mif\u001b[39;00m \u001b[38;5;129;01mnot\u001b[39;00m force_connected:\n\u001b[0;32m--> 970\u001b[0m         \u001b[38;5;28;01mraise\u001b[39;00m e\n\u001b[1;32m    971\u001b[0m     \u001b[38;5;28mself\u001b[39m\u001b[38;5;241m.\u001b[39mport \u001b[38;5;241m=\u001b[39m FakeSerial()\n\u001b[1;32m    973\u001b[0m \u001b[38;5;28;01mtry\u001b[39;00m:\n",
      "File \u001b[0;32m~/PycharmProjects/UAV/venv/lib/python3.10/site-packages/pymavlink/mavutil.py:966\u001b[0m, in \u001b[0;36mmavserial.__init__\u001b[0;34m(self, device, baud, autoreconnect, source_system, source_component, use_native, force_connected)\u001b[0m\n\u001b[1;32m    962\u001b[0m \u001b[38;5;66;03m# we rather strangely set the baudrate initially to 1200, then change to the desired\u001b[39;00m\n\u001b[1;32m    963\u001b[0m \u001b[38;5;66;03m# baudrate. This works around a kernel bug on some Linux kernels where the baudrate\u001b[39;00m\n\u001b[1;32m    964\u001b[0m \u001b[38;5;66;03m# is not set correctly\u001b[39;00m\n\u001b[1;32m    965\u001b[0m \u001b[38;5;28;01mtry\u001b[39;00m:\n\u001b[0;32m--> 966\u001b[0m     \u001b[38;5;28mself\u001b[39m\u001b[38;5;241m.\u001b[39mport \u001b[38;5;241m=\u001b[39m \u001b[43mserial\u001b[49m\u001b[38;5;241;43m.\u001b[39;49m\u001b[43mSerial\u001b[49m\u001b[43m(\u001b[49m\u001b[38;5;28;43mself\u001b[39;49m\u001b[38;5;241;43m.\u001b[39;49m\u001b[43mdevice\u001b[49m\u001b[43m,\u001b[49m\u001b[43m \u001b[49m\u001b[38;5;241;43m1200\u001b[39;49m\u001b[43m,\u001b[49m\u001b[43m \u001b[49m\u001b[43mtimeout\u001b[49m\u001b[38;5;241;43m=\u001b[39;49m\u001b[38;5;241;43m0\u001b[39;49m\u001b[43m,\u001b[49m\n\u001b[1;32m    967\u001b[0m \u001b[43m                              \u001b[49m\u001b[43mdsrdtr\u001b[49m\u001b[38;5;241;43m=\u001b[39;49m\u001b[38;5;28;43;01mFalse\u001b[39;49;00m\u001b[43m,\u001b[49m\u001b[43m \u001b[49m\u001b[43mrtscts\u001b[49m\u001b[38;5;241;43m=\u001b[39;49m\u001b[38;5;28;43;01mFalse\u001b[39;49;00m\u001b[43m,\u001b[49m\u001b[43m \u001b[49m\u001b[43mxonxoff\u001b[49m\u001b[38;5;241;43m=\u001b[39;49m\u001b[38;5;28;43;01mFalse\u001b[39;49;00m\u001b[43m)\u001b[49m\n\u001b[1;32m    968\u001b[0m \u001b[38;5;28;01mexcept\u001b[39;00m serial\u001b[38;5;241m.\u001b[39mSerialException \u001b[38;5;28;01mas\u001b[39;00m e:\n\u001b[1;32m    969\u001b[0m     \u001b[38;5;28;01mif\u001b[39;00m \u001b[38;5;129;01mnot\u001b[39;00m force_connected:\n",
      "File \u001b[0;32m~/PycharmProjects/UAV/venv/lib/python3.10/site-packages/serial/serialutil.py:244\u001b[0m, in \u001b[0;36mSerialBase.__init__\u001b[0;34m(self, port, baudrate, bytesize, parity, stopbits, timeout, xonxoff, rtscts, write_timeout, dsrdtr, inter_byte_timeout, exclusive, **kwargs)\u001b[0m\n\u001b[1;32m    241\u001b[0m     \u001b[38;5;28;01mraise\u001b[39;00m \u001b[38;5;167;01mValueError\u001b[39;00m(\u001b[38;5;124m'\u001b[39m\u001b[38;5;124munexpected keyword arguments: \u001b[39m\u001b[38;5;132;01m{!r}\u001b[39;00m\u001b[38;5;124m'\u001b[39m\u001b[38;5;241m.\u001b[39mformat(kwargs))\n\u001b[1;32m    243\u001b[0m \u001b[38;5;28;01mif\u001b[39;00m port \u001b[38;5;129;01mis\u001b[39;00m \u001b[38;5;129;01mnot\u001b[39;00m \u001b[38;5;28;01mNone\u001b[39;00m:\n\u001b[0;32m--> 244\u001b[0m     \u001b[38;5;28;43mself\u001b[39;49m\u001b[38;5;241;43m.\u001b[39;49m\u001b[43mopen\u001b[49m\u001b[43m(\u001b[49m\u001b[43m)\u001b[49m\n",
      "File \u001b[0;32m~/PycharmProjects/UAV/venv/lib/python3.10/site-packages/serial/serialposix.py:325\u001b[0m, in \u001b[0;36mSerial.open\u001b[0;34m(self)\u001b[0m\n\u001b[1;32m    323\u001b[0m \u001b[38;5;28;01mexcept\u001b[39;00m \u001b[38;5;167;01mOSError\u001b[39;00m \u001b[38;5;28;01mas\u001b[39;00m msg:\n\u001b[1;32m    324\u001b[0m     \u001b[38;5;28mself\u001b[39m\u001b[38;5;241m.\u001b[39mfd \u001b[38;5;241m=\u001b[39m \u001b[38;5;28;01mNone\u001b[39;00m\n\u001b[0;32m--> 325\u001b[0m     \u001b[38;5;28;01mraise\u001b[39;00m SerialException(msg\u001b[38;5;241m.\u001b[39merrno, \u001b[38;5;124m\"\u001b[39m\u001b[38;5;124mcould not open port \u001b[39m\u001b[38;5;132;01m{}\u001b[39;00m\u001b[38;5;124m: \u001b[39m\u001b[38;5;132;01m{}\u001b[39;00m\u001b[38;5;124m\"\u001b[39m\u001b[38;5;241m.\u001b[39mformat(\u001b[38;5;28mself\u001b[39m\u001b[38;5;241m.\u001b[39m_port, msg))\n\u001b[1;32m    326\u001b[0m \u001b[38;5;66;03m#~ fcntl.fcntl(self.fd, fcntl.F_SETFL, 0)  # set blocking\u001b[39;00m\n\u001b[1;32m    328\u001b[0m \u001b[38;5;28mself\u001b[39m\u001b[38;5;241m.\u001b[39mpipe_abort_read_r, \u001b[38;5;28mself\u001b[39m\u001b[38;5;241m.\u001b[39mpipe_abort_read_w \u001b[38;5;241m=\u001b[39m \u001b[38;5;28;01mNone\u001b[39;00m, \u001b[38;5;28;01mNone\u001b[39;00m\n",
      "\u001b[0;31mSerialException\u001b[0m: [Errno 2] could not open port /dev/ttyACM0: [Errno 2] No such file or directory: '/dev/ttyACM0'"
     ]
    }
   ],
   "source": [
    "# Test sending a command and receiving an ack from client to server\n",
    "with MAVCom(\"/dev/ttyACM0\", source_system=111) as client:\n",
    "    with MAVCom(\"/dev/ttyUSB0\", source_system=222) as server:\n",
    "        client.add_component(Cli(client, mav_type=MAV_TYPE_GCS))\n",
    "        server.add_component(Cam1(server, mav_type=MAV_TYPE_CAMERA))\n",
    "        server.add_component(Cam1(server, mav_type=MAV_TYPE_CAMERA))\n",
    "        \n",
    "        for key, comp in client.component.items():\n",
    "            if comp.wait_heartbeat(target_system=222, target_component=22, timeout=0.1):\n",
    "                print (\"*** Received heartbeat **** \" )\n",
    "        NUM_TO_SEND = 2\n",
    "        for i in range(NUM_TO_SEND):\n",
    "            client.component[11]._test_command(222, 22, 1)\n",
    "            client.component[11]._test_command(222, 23, 1)\n",
    "            \n",
    "        client.component[11]._test_command(222, 24, 1)\n",
    "\n",
    "    print(f\"{server.source_system = };  {server.message_cnts = }\")\n",
    "    print(f\"{client.source_system = };  {client.message_cnts = }\")\n",
    "    print()\n",
    "    print(f\"{client.source_system = } \\n{client.summary()} \\n\")\n",
    "    print(f\"{server.source_system = } \\n{server.summary()} \\n\")\n",
    "\n",
    "    assert client.component[11].num_cmds_sent == NUM_TO_SEND * 2 + 1\n",
    "    assert client.component[11].num_acks_rcvd == NUM_TO_SEND * 2\n",
    "    assert client.component[11].num_acks_drop == 1\n",
    "    assert server.component[22].num_cmds_rcvd == NUM_TO_SEND\n",
    "    assert server.component[23].num_cmds_rcvd == NUM_TO_SEND"
   ]
  },
  {
   "cell_type": "markdown",
   "metadata": {},
   "source": [
    "> For debugging help see http://localhost:3000/tutorials/mavlink_doc&debug.html and http://localhost:3000/tutorials/mavlink_doc&debug.html#debugging"
   ]
  },
  {
   "cell_type": "markdown",
   "metadata": {},
   "source": []
  },
  {
   "cell_type": "code",
   "execution_count": null,
   "metadata": {},
   "outputs": [],
   "source": [
    "#| hide\n",
    "# from nbdev import nbdev_export\n",
    "# nbdev.nbdev_export()"
   ]
  }
 ],
 "metadata": {
  "kernelspec": {
   "display_name": "python3",
   "language": "python",
   "name": "python3"
  }
 },
 "nbformat": 4,
 "nbformat_minor": 4
}
