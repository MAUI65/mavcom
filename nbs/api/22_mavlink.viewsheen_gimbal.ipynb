{
 "cells": [
  {
   "cell_type": "markdown",
   "metadata": {},
   "source": []
  },
  {
   "cell_type": "markdown",
   "metadata": {},
   "source": [
    "# Mavlink ViewSheen Gimbal Component\n",
    "> Mavlink ViewSheen Camera Component for sending commands to a viewsheen gimbal on a companion computer or GCS\n",
    "> The server is normally mounted on the companion computer and the client is on the ground station PC."
   ]
  },
  {
   "cell_type": "code",
   "execution_count": null,
   "metadata": {},
   "outputs": [],
   "source": [
    "#| default_exp mavlink.test_vs_gimbal"
   ]
  },
  {
   "cell_type": "code",
   "execution_count": null,
   "metadata": {},
   "outputs": [],
   "source": [
    "#| hide\n",
    "%load_ext autoreload\n",
    "%autoreload 2"
   ]
  },
  {
   "cell_type": "code",
   "execution_count": null,
   "metadata": {},
   "outputs": [],
   "source": [
    "#| hide\n",
    "# skip_showdoc: true to avoid running cells when rendering docs, and \n",
    "# skip_exec: true to skip this notebook when running tests. \n",
    "# this should be a raw cell "
   ]
  },
  {
   "cell_type": "raw",
   "metadata": {},
   "source": [
    "---\n",
    "skip_showdoc: true\n",
    "skip_exec: true\n",
    "---"
   ]
  },
  {
   "cell_type": "markdown",
   "metadata": {},
   "source": [
    "### Gimbal Component\n",
    "[https://mavlink.io/en/services/gimbal.html](https://mavlink.io/en/services/gimbal.html)  \n",
    "[https://mavlink.io/en/services/gimbal_v2.html](https://mavlink.io/en/services/gimbal_v2.html)\n",
    "> Concepts\n",
    " - Gimbal Manager and Gimbal Device\n",
    " - To accommodate gimbals with varying capabilities, and various hardware setups, \"a gimbal\" is conceptually split into two parts:\n",
    "\n",
    "*Gimbal Device:* the actual gimbal device, hardware and software.\n",
    "*Gimbal Manager:* software to deconflict gimbal messages and commands from different sources, and to abstract the capabilities of the Gimbal Device from gimbal users.\n",
    "The Gimbal Manager and Gimbal Device expose respective message sets that can be used for: gimbal manager/device discovery, querying capabilities, publishing status, and various types of orientation/attitude control.\n",
    "\n",
    "The key concept to understand is that a Gimbal Manager has a 1:1 relationship with a particular Gimbal Device, and is the only party on the M"
   ]
  },
  {
   "cell_type": "code",
   "execution_count": null,
   "metadata": {},
   "outputs": [],
   "source": [
    "#| export\n",
    "import time, os, sys\n",
    "\n",
    "from mavcom.logging import logging\n",
    "from mavcom.mavlink.mavcom import MAVCom\n",
    "from mavcom.mavlink.component import Component, mavutil\n",
    "# from viewsheen_sdk.gimbal_cntrl import pan_tilt, snapshot,  zoom, VS_IP_ADDRESS, VS_PORT, KeyReleaseThread\n",
    "from mavcom.camera_sdks.viewsheen.gimbal_cntrl import pan_tilt, snapshot,  zoom, VS_IP_ADDRESS, VS_PORT, KeyReleaseThread\n",
    "\n",
    "from mavcom.mavlink.vs_gimbal import *\n",
    "\n",
    "# from mavcom.imports import *   # TODO why is this relative import on nbdev_export?\n"
   ]
  },
  {
   "cell_type": "code",
   "execution_count": null,
   "metadata": {},
   "outputs": [],
   "source": [
    "#| hide\n",
    "from fastcore.utils import *\n",
    "from nbdev.showdoc import *\n",
    "from fastcore.test import *"
   ]
  },
  {
   "cell_type": "code",
   "execution_count": null,
   "metadata": {},
   "outputs": [
    {
     "data": {
      "text/markdown": "---\n\n[source](https://github.com/johnnewto/UAV/blob/main/UAV/mavlink/vs_gimbal.py#LNone){target=\"_blank\" style=\"float:right; font-size:smaller\"}\n\n### GimbalClient\n\n>      GimbalClient (source_component, mav_type, debug)\n\nCreate a Viewsheen mavlink gimbal client component for send commands to a gimbal on a companion computer or GCS\n\n|    | **Details** |\n| -- | ----------- |\n| source_component | used for component indication |\n| mav_type | used for heartbeat MAV_TYPE indication |\n| debug | logging level |",
      "text/plain": "---\n\n[source](https://github.com/johnnewto/UAV/blob/main/UAV/mavlink/vs_gimbal.py#LNone){target=\"_blank\" style=\"float:right; font-size:smaller\"}\n\n### GimbalClient\n\n>      GimbalClient (source_component, mav_type, debug)\n\nCreate a Viewsheen mavlink gimbal client component for send commands to a gimbal on a companion computer or GCS\n\n|    | **Details** |\n| -- | ----------- |\n| source_component | used for component indication |\n| mav_type | used for heartbeat MAV_TYPE indication |\n| debug | logging level |"
     },
     "execution_count": null,
     "metadata": {},
     "output_type": "execute_result"
    }
   ],
   "source": [
    "show_doc(GimbalClient)"
   ]
  },
  {
   "cell_type": "code",
   "execution_count": null,
   "metadata": {},
   "outputs": [
    {
     "data": {
      "text/markdown": "---\n\n[source](https://github.com/johnnewto/UAV/blob/main/UAV/mavlink/vs_gimbal.py#LNone){target=\"_blank\" style=\"float:right; font-size:smaller\"}\n\n### GimbalServer\n\n>      GimbalServer (source_component, mav_type, debug)\n\nCreate a Viewsheen mavlink Camera Server Component for receiving commands from a gimbal on a companion computer or GCS\n\n|    | **Details** |\n| -- | ----------- |\n| source_component | used for component indication |\n| mav_type | used for heartbeat MAV_TYPE indication |\n| debug | logging level |",
      "text/plain": "---\n\n[source](https://github.com/johnnewto/UAV/blob/main/UAV/mavlink/vs_gimbal.py#LNone){target=\"_blank\" style=\"float:right; font-size:smaller\"}\n\n### GimbalServer\n\n>      GimbalServer (source_component, mav_type, debug)\n\nCreate a Viewsheen mavlink Camera Server Component for receiving commands from a gimbal on a companion computer or GCS\n\n|    | **Details** |\n| -- | ----------- |\n| source_component | used for component indication |\n| mav_type | used for heartbeat MAV_TYPE indication |\n| debug | logging level |"
     },
     "execution_count": null,
     "metadata": {},
     "output_type": "execute_result"
    }
   ],
   "source": [
    "show_doc(GimbalServer)"
   ]
  },
  {
   "cell_type": "code",
   "execution_count": null,
   "metadata": {},
   "outputs": [
    {
     "name": "stderr",
     "output_type": "stream",
     "text": [
      "\u001b[32mINFO   | mavcom.MAVCom      | 44.813 |  mavcom.py:393 | Thread-7 (listen)  | MAVLink Mav2: True, source_system: 111\u001b[0m\n",
      "\u001b[32mINFO   | mavcom.MAVCom      | 44.915 |  mavcom.py:393 | Thread-8 (listen)  | MAVLink Mav2: True, source_system: 222\u001b[0m\n",
      "\u001b[32mINFO   | mavcom.GimbalClien | 44.917 | component.py:111 | MainThread         | Component Started self.source_component = 11, self.mav_type = 6, self.source_system = 111\u001b[0m\n"
     ]
    },
    {
     "name": "stdout",
     "output_type": "stream",
     "text": [
      "set_mav_connection GimbalClient mavcom.py:107 self.mav_connection = <MAVCom>\n"
     ]
    },
    {
     "name": "stderr",
     "output_type": "stream",
     "text": [
      "\u001b[32mINFO   | mavcom.MAVCom      | 52.945 |  mavcom.py:441 | MainThread         | MAVCom  closed\u001b[0m\n",
      "\u001b[32mINFO   | mavcom.GimbalClien | 53.953 | component.py:366 | MainThread         | GimbalClient closed\u001b[0m\n",
      "\u001b[32mINFO   | mavcom.MAVCom      | 53.955 |  mavcom.py:441 | MainThread         | MAVCom  closed\u001b[0m\n"
     ]
    },
    {
     "ename": "KeyboardInterrupt",
     "evalue": "",
     "output_type": "error",
     "traceback": [
      "\u001b[0;31m---------------------------------------------------------------------------\u001b[0m",
      "\u001b[0;31mKeyboardInterrupt\u001b[0m                         Traceback (most recent call last)",
      "Cell \u001b[0;32mIn[9], line 11\u001b[0m\n\u001b[1;32m      9\u001b[0m \u001b[38;5;28;01mwith\u001b[39;00m MAVCom(con2, source_system\u001b[38;5;241m=\u001b[39m\u001b[38;5;241m222\u001b[39m, debug\u001b[38;5;241m=\u001b[39m\u001b[38;5;28;01mFalse\u001b[39;00m) \u001b[38;5;28;01mas\u001b[39;00m server:\n\u001b[1;32m     10\u001b[0m     gimbal:GimbalClient \u001b[38;5;241m=\u001b[39m client\u001b[38;5;241m.\u001b[39madd_component(GimbalClient( mav_type\u001b[38;5;241m=\u001b[39mMAV_TYPE_GCS, source_component \u001b[38;5;241m=\u001b[39m \u001b[38;5;241m11\u001b[39m, debug\u001b[38;5;241m=\u001b[39m\u001b[38;5;28;01mFalse\u001b[39;00m))\n\u001b[0;32m---> 11\u001b[0m     server\u001b[38;5;241m.\u001b[39madd_component(\u001b[43mGimbalServer\u001b[49m\u001b[43m(\u001b[49m\u001b[43m \u001b[49m\u001b[43mmav_type\u001b[49m\u001b[38;5;241;43m=\u001b[39;49m\u001b[43mMAV_TYPE_CAMERA\u001b[49m\u001b[43m,\u001b[49m\u001b[43m \u001b[49m\u001b[43msource_component\u001b[49m\u001b[43m \u001b[49m\u001b[38;5;241;43m=\u001b[39;49m\u001b[43m \u001b[49m\u001b[38;5;241;43m22\u001b[39;49m\u001b[43m,\u001b[49m\u001b[43m \u001b[49m\u001b[43mdebug\u001b[49m\u001b[38;5;241;43m=\u001b[39;49m\u001b[38;5;28;43;01mFalse\u001b[39;49;00m\u001b[43m)\u001b[49m)\n\u001b[1;32m     13\u001b[0m     gimbal\u001b[38;5;241m.\u001b[39mwait_heartbeat(target_system\u001b[38;5;241m=\u001b[39m\u001b[38;5;241m222\u001b[39m, target_component\u001b[38;5;241m=\u001b[39m\u001b[38;5;241m22\u001b[39m, timeout\u001b[38;5;241m=\u001b[39m\u001b[38;5;241m0.99\u001b[39m)\n\u001b[1;32m     14\u001b[0m     time\u001b[38;5;241m.\u001b[39msleep(\u001b[38;5;241m0.1\u001b[39m)\n",
      "File \u001b[0;32m~/PycharmProjects/UAV/UAV/mavlink/vs_gimbal.py:121\u001b[0m, in \u001b[0;36mGimbalServer.__init__\u001b[0;34m(self, source_component, mav_type, debug)\u001b[0m\n\u001b[1;32m    118\u001b[0m \u001b[38;5;28msuper\u001b[39m()\u001b[38;5;241m.\u001b[39m\u001b[38;5;21m__init__\u001b[39m( source_component\u001b[38;5;241m=\u001b[39msource_component, mav_type\u001b[38;5;241m=\u001b[39mmav_type, debug\u001b[38;5;241m=\u001b[39mdebug)\n\u001b[1;32m    120\u001b[0m \u001b[38;5;28mself\u001b[39m\u001b[38;5;241m.\u001b[39mset_message_callback(\u001b[38;5;28mself\u001b[39m\u001b[38;5;241m.\u001b[39mon_message)\n\u001b[0;32m--> 121\u001b[0m \u001b[38;5;28;43mself\u001b[39;49m\u001b[38;5;241;43m.\u001b[39;49m\u001b[43mconnect\u001b[49m\u001b[43m(\u001b[49m\u001b[43m)\u001b[49m\n",
      "File \u001b[0;32m~/PycharmProjects/UAV/UAV/mavlink/vs_gimbal.py:127\u001b[0m, in \u001b[0;36mGimbalServer.connect\u001b[0;34m(self)\u001b[0m\n\u001b[1;32m    125\u001b[0m \u001b[38;5;250m\u001b[39m\u001b[38;5;124;03m\"\"\"Connect to the viewsheen_sdk gimbal\"\"\"\u001b[39;00m\n\u001b[1;32m    126\u001b[0m \u001b[38;5;28mself\u001b[39m\u001b[38;5;241m.\u001b[39msock \u001b[38;5;241m=\u001b[39m socket\u001b[38;5;241m.\u001b[39msocket(socket\u001b[38;5;241m.\u001b[39mAF_INET, socket\u001b[38;5;241m.\u001b[39mSOCK_STREAM)\n\u001b[0;32m--> 127\u001b[0m \u001b[38;5;28;43mself\u001b[39;49m\u001b[38;5;241;43m.\u001b[39;49m\u001b[43msock\u001b[49m\u001b[38;5;241;43m.\u001b[39;49m\u001b[43mconnect\u001b[49m\u001b[43m(\u001b[49m\u001b[43m(\u001b[49m\u001b[43mVS_IP_ADDRESS\u001b[49m\u001b[43m,\u001b[49m\u001b[43m \u001b[49m\u001b[43mVS_PORT\u001b[49m\u001b[43m)\u001b[49m\u001b[43m)\u001b[49m\n\u001b[1;32m    128\u001b[0m \u001b[38;5;28mself\u001b[39m\u001b[38;5;241m.\u001b[39mlog\u001b[38;5;241m.\u001b[39mdebug(\u001b[38;5;124mf\u001b[39m\u001b[38;5;124m\"\u001b[39m\u001b[38;5;124mConnected to gimbal\u001b[39m\u001b[38;5;124m\"\u001b[39m)\n\u001b[1;32m    129\u001b[0m \u001b[38;5;28;01mreturn\u001b[39;00m \u001b[38;5;28;01mTrue\u001b[39;00m\n",
      "\u001b[0;31mKeyboardInterrupt\u001b[0m: "
     ]
    }
   ],
   "source": [
    "MAV_TYPE_GCS = mavutil.mavlink.MAV_TYPE_GCS\n",
    "MAV_TYPE_CAMERA = mavutil.mavlink.MAV_TYPE_CAMERA\n",
    "# cli = GimbalClient(mav_connection=None, source_component=11, mav_type=MAV_TYPE_GCS, debug=False)\n",
    "# gim1 = GimbalServer(mav_connection=None, source_component=22, mav_type=MAV_TYPE_CAMERA, debug=False)\n",
    "\n",
    "con1, con2 = \"udpin:localhost:14445\", \"udpout:localhost:14445\"\n",
    "# con1, con2 = \"/dev/ttyACM0\", \"/dev/ttyUSB0\"\n",
    "with MAVCom(con1, source_system=111, debug=False) as client:\n",
    "    with MAVCom(con2, source_system=222, debug=False) as server:\n",
    "        gimbal:GimbalClient = client.add_component(GimbalClient( mav_type=MAV_TYPE_GCS, source_component = 11, debug=False))\n",
    "        server.add_component(GimbalServer( mav_type=MAV_TYPE_CAMERA, source_component = 22, debug=False))\n",
    "        \n",
    "        gimbal.wait_heartbeat(target_system=222, target_component=22, timeout=0.99)\n",
    "        time.sleep(0.1)\n",
    "        gimbal.set_target(222, 22)\n",
    "        \n",
    "        NAN = float(\"nan\")\n",
    "        # client.component[11]._test_command(222, 22, 1)\n",
    "        # for i in range (1)  :\n",
    "        #     time.sleep(0.01)\n",
    "        gimbal.set_attitude( NAN, NAN, 0.0, 0.2)\n",
    "        time.sleep(0.5)\n",
    "        gimbal.set_attitude( NAN, NAN, 0.0, -0.2)\n",
    "        time.sleep(0.5)\n",
    "        gimbal.start_capture()\n",
    "        # gimbal.set_zoom(1)\n",
    "        \n",
    "        \n",
    "        # client.component[11].set_attitude(0, 0, 0, 0, 0, 0)\n",
    "\n"
   ]
  },
  {
   "cell_type": "code",
   "execution_count": null,
   "metadata": {},
   "outputs": [],
   "source": [
    "#| Hide\n",
    "# assert False, \"Stop here\""
   ]
  },
  {
   "cell_type": "code",
   "execution_count": null,
   "metadata": {},
   "outputs": [],
   "source": [
    "#| hide\n",
    "# from nbdev import nbdev_export\n",
    "# nbdev_export()"
   ]
  }
 ],
 "metadata": {
  "kernelspec": {
   "display_name": "python3",
   "language": "python",
   "name": "python3"
  }
 },
 "nbformat": 4,
 "nbformat_minor": 4
}
