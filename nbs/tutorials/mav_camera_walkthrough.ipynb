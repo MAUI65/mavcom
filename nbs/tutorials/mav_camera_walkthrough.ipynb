{
 "cells": [
  {
   "cell_type": "markdown",
   "metadata": {},
   "source": []
  },
  {
   "cell_type": "code",
   "execution_count": null,
   "metadata": {},
   "outputs": [],
   "source": []
  },
  {
   "cell_type": "markdown",
   "metadata": {},
   "source": [
    "# Mavlink Camera Walkthrough\n",
    ">  Documentation \n",
    "\n"
   ]
  },
  {
   "cell_type": "code",
   "execution_count": null,
   "metadata": {},
   "outputs": [],
   "source": [
    "#| hide\n",
    "%load_ext autoreload\n",
    "%autoreload 2"
   ]
  },
  {
   "cell_type": "code",
   "execution_count": null,
   "metadata": {},
   "outputs": [],
   "source": [
    "#| hide\n",
    "# skip_showdoc: true to avoid running cells when rendering docs, and skip_exec: true to skip this notebook when running tests. \n",
    "# this should be a raw cell "
   ]
  },
  {
   "cell_type": "raw",
   "metadata": {},
   "source": [
    "---\n",
    "skip_showdoc: true\n",
    "skip_exec: true\n",
    "---"
   ]
  },
  {
   "cell_type": "code",
   "execution_count": null,
   "metadata": {},
   "outputs": [],
   "source": []
  },
  {
   "cell_type": "code",
   "execution_count": null,
   "metadata": {},
   "outputs": [],
   "source": [
    "#| hide\n",
    "from nbdev.showdoc import *\n",
    "from nbdev.showdoc import *\n",
    "from fastcore.test import *\n"
   ]
  },
  {
   "cell_type": "markdown",
   "metadata": {},
   "source": [
    "## Introduction\n",
    "> Here we create an entire mavlink connection with client at the GCS and server at the camera. The client and server are connected via a UDP connection or a radio modem serial connection\n",
    "> The camera can be controlled via the client, and the video stream is sent from the server to the client. The client can also request camera information, storage information, etc from the server."
   ]
  },
  {
   "cell_type": "code",
   "execution_count": null,
   "metadata": {},
   "outputs": [],
   "source": [
    "from mavcom.mavlink import CameraClient, CameraServer,  MAVCom, GimbalClient, GimbalServer, mavutil, mavlink\n",
    "# from mavcom.mavlink.camera_client import CameraClient\n",
    "# from mavcom.mavlink.camera_server import  CameraServer\n",
    "# from mavcom.mavlink import Component, mavutil, mavlink, MAVCom\n",
    "from mavcom.utils import boot_time_str, read_camera_dict_from_toml, find_config_dir\n",
    "from mavcom.camera.gst_cam import GSTCamera    # fake camera for testing\n",
    "from gstreamer import  GstPipeline\n",
    "import gstreamer.utils as gst_utils\n",
    "from mavcom.logging import LogLevels\n",
    "from pathlib import Path\n",
    "import cv2"
   ]
  },
  {
   "cell_type": "markdown",
   "metadata": {},
   "source": [
    "Create a CameraClient and CameraServer"
   ]
  },
  {
   "cell_type": "markdown",
   "metadata": {},
   "source": []
  },
  {
   "cell_type": "code",
   "execution_count": null,
   "metadata": {},
   "outputs": [],
   "source": [
    "MAV_TYPE_GCS = mavutil.mavlink.MAV_TYPE_GCS\n",
    "MAV_TYPE_CAMERA = mavutil.mavlink.MAV_TYPE_CAMERA"
   ]
  },
  {
   "cell_type": "markdown",
   "metadata": {},
   "source": [
    "Create a gstreamer pipelene to display the received video"
   ]
  },
  {
   "cell_type": "markdown",
   "metadata": {},
   "source": [
    "Create Pysical camera object, here either CV2Camera or GSTCamera\n",
    "The toml file contains the camera parameters, such as resolution, framerate, etc and also the gstreamer pipeline command to create the video streams."
   ]
  },
  {
   "cell_type": "code",
   "execution_count": null,
   "metadata": {},
   "outputs": [
    {
     "name": "stderr",
     "output_type": "stream",
     "text": [
      "\u001b[32mINFO   | mavcom.GSTCamera   | 38.075 | gst_cam.py:317 | MainThread         | GSTCamera Started\u001b[0m\n",
      "\u001b[32mINFO   | pygst.GstPipeli | 38.086 | gst_tools.py:223 | MainThread         | Starting GstPipeline: videotestsrc  ! video/x-raw,width=1920,height=1080,framerate=30/1 ! tee name=t t. ! queue ! autovideosink t. ! queue leaky=2 ! intervideosink channel=channel_0 t. ! queue leaky=2 ! intervideosink channel=channel_1 t. ! queue leaky=2 ! videoconvert ! videorate drop-only=true ! intervideosink channel=channel_2 \u001b[0m\n"
     ]
    },
    {
     "name": "stdout",
     "output_type": "stream",
     "text": [
      "John Doe                        \n"
     ]
    }
   ],
   "source": [
    "\n",
    "cam_gst_1 = GSTCamera(camera_dict=read_camera_dict_from_toml(find_config_dir() / \"test_camera_info.toml\"))\n",
    "# cam_cv2_1 = CV2Camera(camera_dict=read_camera_dict_from_toml(find_config_dir() / \"test_camera_info.toml\"))"
   ]
  },
  {
   "cell_type": "code",
   "execution_count": null,
   "metadata": {},
   "outputs": [],
   "source": [
    "SINK_PIPELINE = gst_utils.to_gst_string([\n",
    "            'udpsrc port=5000 ! application/x-rtp, media=(string)video, clock-rate=(int)90000, encoding-name=(string)H264, payload=(int)96',\n",
    "            'rtph264depay ! avdec_h264',\n",
    "            'fpsdisplaysink',\n",
    "            # 'autovideosink',\n",
    "        ])\n",
    "\n",
    "rcv_pipeline = GstPipeline(SINK_PIPELINE)     # Create a Gstreamer pipeline to display the received video on fpsdisplaysink"
   ]
  },
  {
   "cell_type": "markdown",
   "metadata": {},
   "source": [
    "Create the client mavlink connection, this is mounted on the GCS"
   ]
  },
  {
   "cell_type": "code",
   "execution_count": null,
   "metadata": {},
   "outputs": [],
   "source": [
    "# assert False"
   ]
  },
  {
   "cell_type": "code",
   "execution_count": null,
   "metadata": {},
   "outputs": [
    {
     "name": "stderr",
     "output_type": "stream",
     "text": [
      "\u001b[32mINFO   | mavcom.MAVCom      | 38.254 |  mavcom.py:393 | Thread-5 (listen)  | MAVLink Mav2: True, source_system: 111\u001b[0m\n"
     ]
    }
   ],
   "source": [
    "# for the client, we use the udpin connection, you can use serial as an option i.e \"/dev/ttyACM0\", \"/dev/ttyUSB0\"\n",
    "client = MAVCom(\"udpin:localhost:14445\", source_system=111, loglevel=LogLevels.INFO)  "
   ]
  },
  {
   "cell_type": "markdown",
   "metadata": {},
   "source": [
    "Create the server mavlink connection, this is mounted on the UAV companion computer"
   ]
  },
  {
   "cell_type": "code",
   "execution_count": null,
   "metadata": {},
   "outputs": [
    {
     "name": "stderr",
     "output_type": "stream",
     "text": [
      "\u001b[32mINFO   | mavcom.MAVCom      | 38.365 |  mavcom.py:393 | Thread-6 (listen)  | MAVLink Mav2: True, source_system: 222\u001b[0m\n"
     ]
    }
   ],
   "source": [
    "# for the server, we use the udpout connection, you can use serial as an option  \"/dev/ttyUSB0\"\n",
    "server = MAVCom(\"udpout:localhost:14445\", source_system=222) "
   ]
  },
  {
   "cell_type": "markdown",
   "metadata": {},
   "source": [
    "Add the camera client to the client mavlink connection"
   ]
  },
  {
   "cell_type": "code",
   "execution_count": null,
   "metadata": {},
   "outputs": [
    {
     "name": "stderr",
     "output_type": "stream",
     "text": [
      "\u001b[32mINFO   | mavcom.CameraClien | 38.404 | component.py:135 | MainThread         | Component Started self.source_component = 11, self.mav_type = 6, self.source_system = 111\u001b[0m\n"
     ]
    }
   ],
   "source": [
    "cam = client.add_component(CameraClient(mav_type=mavlink.MAV_TYPE_GCS, source_component=11))"
   ]
  },
  {
   "cell_type": "markdown",
   "metadata": {},
   "source": [
    "Add the camera server to the server mavlink connection"
   ]
  },
  {
   "cell_type": "code",
   "execution_count": null,
   "metadata": {},
   "outputs": [
    {
     "name": "stderr",
     "output_type": "stream",
     "text": [
      "\u001b[32mINFO   | mavcom.CameraServe | 38.418 | component.py:135 | MainThread         | Component Started self.source_component = 100, self.mav_type = 30, self.source_system = 222\u001b[0m\n"
     ]
    },
    {
     "data": {
      "text/plain": "<CameraServer>"
     },
     "execution_count": null,
     "metadata": {},
     "output_type": "execute_result"
    }
   ],
   "source": [
    "server.add_component(CameraServer(mav_type=mavlink.MAV_TYPE_CAMERA, source_component=mavlink.MAV_COMP_ID_CAMERA, camera=cam_gst_1))"
   ]
  },
  {
   "cell_type": "markdown",
   "metadata": {},
   "source": [
    "Wait for the heartbeat from the camera server"
   ]
  },
  {
   "cell_type": "code",
   "execution_count": null,
   "metadata": {},
   "outputs": [
    {
     "name": "stdout",
     "output_type": "stream",
     "text": [
      "Heartbeat received ret = (222, 100)\n"
     ]
    }
   ],
   "source": [
    "%autoawait asyncio\n",
    "async def doit():\n",
    "    ret = await cam.wait_heartbeat(remote_mav_type=mavlink.MAV_TYPE_CAMERA)\n",
    "    print(f\"Heartbeat received {ret = }\")\n",
    "await doit()\n"
   ]
  },
  {
   "cell_type": "markdown",
   "metadata": {},
   "source": [
    "Set the target system and component for the camera client\n",
    "and request camera information, storage information, camera capture status, and camera settings"
   ]
  },
  {
   "cell_type": "code",
   "execution_count": null,
   "metadata": {},
   "outputs": [
    {
     "name": "stdout",
     "output_type": "stream",
     "text": [
      "1 MAVLINK_MSG_ID_CAMERA_INFORMATION CAMERA_INFORMATION {time_boot_ms : 520, vendor_name : John Doe, model_name : Fake Camera, firmware_version : 1, focal_length : 8.0, sensor_size_h : 6.0, sensor_size_v : 4.0, resolution_h : 1920, resolution_v : 1080, lens_id : 0, flags : 0, cam_definition_version : 1, cam_definition_uri : http://example.com/camera_definition.xml, gimbal_device_id : 0}\n",
      "2 MAVLINK_MSG_ID_STORAGE_INFORMATION STORAGE_INFORMATION {time_boot_ms : 621, storage_id : 0, storage_count : 1, status : 0, total_capacity : 100000000.0, used_capacity : 0.0, available_capacity : 100000000.0, read_speed : 0.0, write_speed : 0.0, type : 0, name : }\n",
      "3 MAVLINK_MSG_ID_CAMERA_CAPTURE_STATUS CAMERA_CAPTURE_STATUS {time_boot_ms : 722, image_status : 0, video_status : 0, image_interval : 0.0, recording_time_ms : 0, available_capacity : 0.0, image_count : 0}\n",
      "4 MAVLINK_MSG_ID_CAMERA_SETTINGS CAMERA_SETTINGS {time_boot_ms : 824, mode_id : 0, zoomLevel : 0.0, focusLevel : 0.0}\n"
     ]
    }
   ],
   "source": [
    "%autoawait asyncio\n",
    "async def doit():\n",
    "    msg = await cam.request_message(mavlink.MAVLINK_MSG_ID_CAMERA_INFORMATION, target_system=222, target_component=mavlink.MAV_COMP_ID_CAMERA)\n",
    "    print (f\"1 MAVLINK_MSG_ID_CAMERA_INFORMATION {msg }\")\n",
    "    msg = await cam.request_message(mavlink.MAVLINK_MSG_ID_STORAGE_INFORMATION, target_system=222, target_component=mavlink.MAV_COMP_ID_CAMERA)\n",
    "    print (f\"2 MAVLINK_MSG_ID_STORAGE_INFORMATION {msg }\")\n",
    "    msg = await cam.request_message(mavlink.MAVLINK_MSG_ID_CAMERA_CAPTURE_STATUS, target_system=222, target_component=mavlink.MAV_COMP_ID_CAMERA)\n",
    "    print (f\"3 MAVLINK_MSG_ID_CAMERA_CAPTURE_STATUS {msg }\")\n",
    "    msg = await cam.request_message(mavlink.MAVLINK_MSG_ID_CAMERA_SETTINGS, target_system=222, target_component=mavlink.MAV_COMP_ID_CAMERA)\n",
    "    print (f\"4 MAVLINK_MSG_ID_CAMERA_SETTINGS {msg }\")\n",
    "await doit()"
   ]
  },
  {
   "cell_type": "markdown",
   "metadata": {},
   "source": [
    "Start an image capture seqeunce, and display the images as they arrive"
   ]
  },
  {
   "cell_type": "code",
   "execution_count": null,
   "metadata": {},
   "outputs": [
    {
     "ename": "AssertionError",
     "evalue": "call set_target(target_system, target_component) first",
     "output_type": "error",
     "traceback": [
      "\u001b[0;31m---------------------------------------------------------------------------\u001b[0m",
      "\u001b[0;31mAssertionError\u001b[0m                            Traceback (most recent call last)",
      "Cell \u001b[0;32mIn[15], line 1\u001b[0m\n\u001b[0;32m----> 1\u001b[0m \u001b[43mcam\u001b[49m\u001b[38;5;241;43m.\u001b[39;49m\u001b[43mimage_start_capture\u001b[49m\u001b[43m(\u001b[49m\u001b[43minterval\u001b[49m\u001b[38;5;241;43m=\u001b[39;49m\u001b[38;5;241;43m0.1\u001b[39;49m\u001b[43m,\u001b[49m\u001b[43m \u001b[49m\u001b[43mcount\u001b[49m\u001b[38;5;241;43m=\u001b[39;49m\u001b[38;5;241;43m10\u001b[39;49m\u001b[43m)\u001b[49m\n\u001b[1;32m      2\u001b[0m \u001b[38;5;28;01mwhile\u001b[39;00m cam_gst_1\u001b[38;5;241m.\u001b[39mcapture_thread\u001b[38;5;241m.\u001b[39mis_alive():\n\u001b[1;32m      3\u001b[0m     \u001b[38;5;28;01mif\u001b[39;00m cam_gst_1\u001b[38;5;241m.\u001b[39mlast_image \u001b[38;5;129;01mis\u001b[39;00m \u001b[38;5;129;01mnot\u001b[39;00m \u001b[38;5;28;01mNone\u001b[39;00m:\n",
      "File \u001b[0;32m~/PycharmProjects/UAV/UAV/mavlink/camera_client.py:280\u001b[0m, in \u001b[0;36mCameraClient.image_start_capture\u001b[0;34m(self, target_system, target_component, interval, count)\u001b[0m\n\u001b[1;32m    278\u001b[0m \u001b[38;5;28;01mexcept\u001b[39;00m:\n\u001b[1;32m    279\u001b[0m     \u001b[38;5;28mself\u001b[39m\u001b[38;5;241m.\u001b[39mimage_capture_sequence_number \u001b[38;5;241m=\u001b[39m \u001b[38;5;241m1\u001b[39m\n\u001b[0;32m--> 280\u001b[0m target_system, target_component \u001b[38;5;241m=\u001b[39m \u001b[43mcheck_target\u001b[49m\u001b[43m(\u001b[49m\u001b[38;5;28;43mself\u001b[39;49m\u001b[43m,\u001b[49m\u001b[43m \u001b[49m\u001b[43mtarget_system\u001b[49m\u001b[43m,\u001b[49m\u001b[43m \u001b[49m\u001b[43mtarget_component\u001b[49m\u001b[43m)\u001b[49m\n\u001b[1;32m    281\u001b[0m \u001b[38;5;66;03m# self.wait_for_message.set_condition(CAMERA_IMAGE_CAPTURED, target_system, target_component)\u001b[39;00m\n\u001b[1;32m    282\u001b[0m \u001b[38;5;28;01mreturn\u001b[39;00m \u001b[38;5;28mself\u001b[39m\u001b[38;5;241m.\u001b[39msend_command(target_system, target_component,\n\u001b[1;32m    283\u001b[0m                         mavlink\u001b[38;5;241m.\u001b[39mMAV_CMD_IMAGE_START_CAPTURE,\n\u001b[1;32m    284\u001b[0m                         [\u001b[38;5;241m0\u001b[39m,\n\u001b[0;32m   (...)\u001b[0m\n\u001b[1;32m    290\u001b[0m                          NAN]\n\u001b[1;32m    291\u001b[0m                       )\n",
      "File \u001b[0;32m~/PycharmProjects/UAV/UAV/mavlink/camera_client.py:71\u001b[0m, in \u001b[0;36mcheck_target\u001b[0;34m(obj, target_system, target_component)\u001b[0m\n\u001b[1;32m     69\u001b[0m target_system \u001b[38;5;241m=\u001b[39m obj\u001b[38;5;241m.\u001b[39mtarget_system \u001b[38;5;28;01mif\u001b[39;00m target_system \u001b[38;5;129;01mis\u001b[39;00m \u001b[38;5;28;01mNone\u001b[39;00m \u001b[38;5;28;01melse\u001b[39;00m target_system\n\u001b[1;32m     70\u001b[0m target_component \u001b[38;5;241m=\u001b[39m obj\u001b[38;5;241m.\u001b[39mtarget_component \u001b[38;5;28;01mif\u001b[39;00m target_component \u001b[38;5;129;01mis\u001b[39;00m \u001b[38;5;28;01mNone\u001b[39;00m \u001b[38;5;28;01melse\u001b[39;00m target_component\n\u001b[0;32m---> 71\u001b[0m \u001b[38;5;28;01massert\u001b[39;00m target_system \u001b[38;5;129;01mis\u001b[39;00m \u001b[38;5;129;01mnot\u001b[39;00m \u001b[38;5;28;01mNone\u001b[39;00m \u001b[38;5;129;01mand\u001b[39;00m target_component \u001b[38;5;129;01mis\u001b[39;00m \u001b[38;5;129;01mnot\u001b[39;00m \u001b[38;5;28;01mNone\u001b[39;00m, \u001b[38;5;124m\"\u001b[39m\u001b[38;5;124mcall set_target(target_system, target_component) first\u001b[39m\u001b[38;5;124m\"\u001b[39m\n\u001b[1;32m     72\u001b[0m \u001b[38;5;28;01mreturn\u001b[39;00m target_system, target_component\n",
      "\u001b[0;31mAssertionError\u001b[0m: call set_target(target_system, target_component) first"
     ]
    }
   ],
   "source": [
    "# cam.image_start_capture(interval=0.1, count=10)\n",
    "# while cam_gst_1.capture_thread.is_alive():\n",
    "#     if cam_gst_1.last_image is not None:\n",
    "#         cv2.imshow('gst_src', cam_gst_1.last_image)\n",
    "#         cam_gst_1.last_image = None\n",
    "#     cv2.waitKey(10)"
   ]
  },
  {
   "cell_type": "markdown",
   "metadata": {},
   "source": [
    "Shutdown the receive pipeline and close the mavlink connections"
   ]
  },
  {
   "cell_type": "code",
   "execution_count": null,
   "metadata": {},
   "outputs": [],
   "source": [
    "rcv_pipeline.shutdown()\n",
    "client.close()\n",
    "server.close()\n",
    "cv2.destroyAllWindows()"
   ]
  },
  {
   "cell_type": "code",
   "execution_count": null,
   "metadata": {},
   "outputs": [],
   "source": [
    "#| hide\n",
    "# assert False"
   ]
  },
  {
   "cell_type": "markdown",
   "metadata": {},
   "source": [
    "Perform the same test, but with the CV2Camera all in one cell"
   ]
  },
  {
   "cell_type": "code",
   "execution_count": null,
   "metadata": {},
   "outputs": [
    {
     "name": "stderr",
     "output_type": "stream",
     "text": [
      "\u001b[32mINFO   | mavcom.GSTCamera   | 16.334 | gst_cam.py:317 | MainThread         | GSTCamera Started\u001b[0m\n",
      "\u001b[32mINFO   | pygst.GstPipeli | 16.405 | gst_tools.py:223 | MainThread         | Starting GstPipeline: videotestsrc  ! video/x-raw,width=1920,height=1080,framerate=30/1 ! tee name=t t. ! queue ! autovideosink t. ! queue leaky=2 ! intervideosink channel=channel_0 t. ! queue leaky=2 ! intervideosink channel=channel_1 t. ! queue leaky=2 ! videoconvert ! videorate drop-only=true ! intervideosink channel=channel_2 \u001b[0m\n",
      "\u001b[32mINFO   | pygst.GstPipeli | 16.416 | gst_tools.py:223 | MainThread         | Starting GstPipeline: udpsrc port=5000 ! application/x-rtp, media=(string)video, clock-rate=(int)90000, encoding-name=(string)H264, payload=(int)96 ! rtph264depay ! avdec_h264 ! fpsdisplaysink\u001b[0m\n",
      "\u001b[32mINFO   | mavcom.MAVCom      | 16.518 |  mavcom.py:393 | Thread-47 (listen) | MAVLink Mav2: True, source_system: 111\u001b[0m\n"
     ]
    },
    {
     "name": "stdout",
     "output_type": "stream",
     "text": [
      "boot_time_str ='2023-10-15|12:07:37'\n",
      "John Doe                        \n"
     ]
    },
    {
     "name": "stderr",
     "output_type": "stream",
     "text": [
      "\u001b[32mINFO   | mavcom.MAVCom      | 16.620 |  mavcom.py:393 | Thread-48 (listen) | MAVLink Mav2: True, source_system: 222\u001b[0m\n",
      "\u001b[32mINFO   | mavcom.CameraClien | 16.622 | component.py:135 | MainThread         | Component Started self.source_component = 11, self.mav_type = 6, self.source_system = 111\u001b[0m\n",
      "\u001b[32mINFO   | mavcom.CameraServe | 16.624 | component.py:135 | MainThread         | Component Started self.source_component = 100, self.mav_type = 30, self.source_system = 222\u001b[0m\n"
     ]
    },
    {
     "name": "stdout",
     "output_type": "stream",
     "text": [
      "Heartbeat received ret = (222, 100)\n",
      "1 MAVLINK_MSG_ID_CAMERA_INFORMATION CAMERA_INFORMATION {time_boot_ms : 158802, vendor_name : John Doe, model_name : Fake Camera, firmware_version : 1, focal_length : 8.0, sensor_size_h : 6.0, sensor_size_v : 4.0, resolution_h : 1920, resolution_v : 1080, lens_id : 0, flags : 0, cam_definition_version : 1, cam_definition_uri : http://example.com/camera_definition.xml, gimbal_device_id : 0}\n",
      "2 MAVLINK_MSG_ID_STORAGE_INFORMATION STORAGE_INFORMATION {time_boot_ms : 158904, storage_id : 0, storage_count : 1, status : 0, total_capacity : 100000000.0, used_capacity : 662987.0, available_capacity : 99337016.0, read_speed : 0.0, write_speed : 0.0, type : 0, name : }\n",
      "3 MAVLINK_MSG_ID_CAMERA_CAPTURE_STATUS CAMERA_CAPTURE_STATUS {time_boot_ms : 159906, image_status : 1, video_status : 0, image_interval : 0.20000000298023224, recording_time_ms : 0, available_capacity : 0.0, image_count : 10}\n"
     ]
    },
    {
     "name": "stderr",
     "output_type": "stream",
     "text": [
      "\u001b[33mWARNIN | mavcom.CameraClien | 19.835 | component.py:261 | MainThread         | **** ACK not handled MAV_CMD_REQUEST_MESSAGE:512 from : 222/100 COMMAND_ACK {command : 512, result : 0, progress : 0, result_param2 : 0, target_system : 111, target_component : 11}\u001b[0m\n",
      "\u001b[33mWARNIN | mavcom.CameraClien | 19.837 | component.py:263 | MainThread         |       command_id = MAV_CMD_REQUEST_MESSAGE msg.get_srcSystem() = 222, target_system = 222,  msg.get_srcComponent() = 100, target_component = 100\u001b[0m\n",
      "\u001b[33mWARNIN | mavcom.CameraClien | 19.838 | component.py:261 | MainThread         | **** ACK not handled MAV_CMD_REQUEST_MESSAGE:512 from : 222/100 COMMAND_ACK {command : 512, result : 0, progress : 0, result_param2 : 0, target_system : 111, target_component : 11}\u001b[0m\n",
      "\u001b[33mWARNIN | mavcom.CameraClien | 19.839 | component.py:263 | MainThread         |       command_id = MAV_CMD_REQUEST_MESSAGE msg.get_srcSystem() = 222, target_system = 222,  msg.get_srcComponent() = 100, target_component = 100\u001b[0m\n",
      "\u001b[33mWARNIN | mavcom.CameraClien | 19.841 | component.py:261 | MainThread         | **** ACK not handled MAV_CMD_REQUEST_MESSAGE:512 from : 222/100 COMMAND_ACK {command : 512, result : 0, progress : 0, result_param2 : 0, target_system : 111, target_component : 11}\u001b[0m\n",
      "\u001b[33mWARNIN | mavcom.CameraClien | 19.842 | component.py:263 | MainThread         |       command_id = MAV_CMD_REQUEST_MESSAGE msg.get_srcSystem() = 222, target_system = 222,  msg.get_srcComponent() = 100, target_component = 100\u001b[0m\n",
      "\u001b[33mWARNIN | mavcom.CameraClien | 19.843 | component.py:261 | MainThread         | **** ACK not handled MAV_CMD_REQUEST_MESSAGE:512 from : 222/100 COMMAND_ACK {command : 512, result : 0, progress : 0, result_param2 : 0, target_system : 111, target_component : 11}\u001b[0m\n",
      "\u001b[33mWARNIN | mavcom.CameraClien | 19.845 | component.py:263 | MainThread         |       command_id = MAV_CMD_REQUEST_MESSAGE msg.get_srcSystem() = 222, target_system = 222,  msg.get_srcComponent() = 100, target_component = 100\u001b[0m\n",
      "\u001b[32mINFO   | pygst.GstJpegEn | 19.847 | gst_tools.py:223 | Thread-10 (_t_list | Starting GstJpegEnc: intervideosrc channel=channel_1   ! videoconvert ! videoscale ! video/x-raw,width=640,height=480,framerate=4/1 ! queue ! jpegenc quality=85 ! appsink name=mysink emit-signals=True max-buffers=1 drop=True\u001b[0m\n",
      "\u001b[32mINFO   | pygst.GstJpegEn | 19.847 | gst_tools.py:223 | Thread-52 (_t_list | Starting GstJpegEnc: intervideosrc channel=channel_1   ! videoconvert ! videoscale ! video/x-raw,width=640,height=480,framerate=4/1 ! queue ! jpegenc quality=85 ! appsink name=mysink emit-signals=True max-buffers=1 drop=True\u001b[0m\n",
      "\u001b[32mINFO   | mavcom.GSTCamera   | 19.877 | gst_cam.py:541 | Thread-53 (_launch | Image saved to memory filesystem with name: 2023-10-15|12:10:19_0010.jpg\u001b[0m\n",
      "\u001b[32mINFO   | mavcom.GSTCamera   | 19.878 | gst_cam.py:541 | Thread-54 (_launch | Image saved to memory filesystem with name: 2023-10-15|12:10:19_0000.jpg\u001b[0m\n",
      "\u001b[33mWARNIN | mavcom.CameraClien | 19.946 | component.py:374 | MainThread         | **No ACK: 222/100 MAV_CMD_IMAGE_START_CAPTURE:2000\u001b[0m\n"
     ]
    },
    {
     "name": "stdout",
     "output_type": "stream",
     "text": [
      "4 MAVLINK_MSG_ID_CAMERA_SETTINGS CAMERA_SETTINGS {time_boot_ms : 160908, mode_id : 0, zoomLevel : 0.0, focusLevel : 0.0}\n",
      "ret = False\n"
     ]
    },
    {
     "name": "stderr",
     "output_type": "stream",
     "text": [
      "\u001b[32mINFO   | mavcom.GSTCamera   | 20.127 | gst_cam.py:541 | Thread-53 (_launch | Image saved to memory filesystem with name: 2023-10-15|12:10:20_0011.jpg\u001b[0m\n",
      "\u001b[32mINFO   | mavcom.GSTCamera   | 20.129 | gst_cam.py:541 | Thread-54 (_launch | Image saved to memory filesystem with name: 2023-10-15|12:10:20_0001.jpg\u001b[0m\n",
      "\u001b[32mINFO   | mavcom.GSTCamera   | 20.377 | gst_cam.py:541 | Thread-53 (_launch | Image saved to memory filesystem with name: 2023-10-15|12:10:20_0012.jpg\u001b[0m\n",
      "\u001b[32mINFO   | mavcom.GSTCamera   | 20.379 | gst_cam.py:541 | Thread-54 (_launch | Image saved to memory filesystem with name: 2023-10-15|12:10:20_0002.jpg\u001b[0m\n",
      "\u001b[32mINFO   | mavcom.GSTCamera   | 20.627 | gst_cam.py:541 | Thread-53 (_launch | Image saved to memory filesystem with name: 2023-10-15|12:10:20_0013.jpg\u001b[0m\n",
      "\u001b[32mINFO   | mavcom.GSTCamera   | 20.629 | gst_cam.py:541 | Thread-54 (_launch | Image saved to memory filesystem with name: 2023-10-15|12:10:20_0003.jpg\u001b[0m\n",
      "\u001b[32mINFO   | mavcom.GSTCamera   | 20.877 | gst_cam.py:541 | Thread-53 (_launch | Image saved to memory filesystem with name: 2023-10-15|12:10:20_0014.jpg\u001b[0m\n",
      "\u001b[32mINFO   | mavcom.GSTCamera   | 20.879 | gst_cam.py:541 | Thread-54 (_launch | Image saved to memory filesystem with name: 2023-10-15|12:10:20_0004.jpg\u001b[0m\n",
      "\u001b[32mINFO   | pygst.GstJpegEn | 20.881 | gst_tools.py:884 | Thread-53 (_launch | Sending EOS event, to trigger shutdown of pipeline\u001b[0m\n",
      "\u001b[32mINFO   | pygst.GstJpegEn | 20.882 | gst_tools.py:884 | Thread-54 (_launch | Sending EOS event, to trigger shutdown of pipeline\u001b[0m\n",
      "\u001b[33mWARNIN | mavcom.CameraClien | 20.967 | component.py:261 | MainThread         | **** ACK not handled MAV_CMD_IMAGE_START_CAPTURE:2000 from : 222/100 COMMAND_ACK {command : 2000, result : 0, progress : 0, result_param2 : 0, target_system : 111, target_component : 11}\u001b[0m\n",
      "\u001b[33mWARNIN | mavcom.CameraClien | 20.972 | component.py:263 | MainThread         |       command_id = MAV_CMD_IMAGE_START_CAPTURE msg.get_srcSystem() = 222, target_system = 222,  msg.get_srcComponent() = 100, target_component = 100\u001b[0m\n",
      "\u001b[33mWARNIN | mavcom.CameraClien | 20.972 | component.py:261 | MainThread         | **** ACK not handled MAV_CMD_IMAGE_START_CAPTURE:2000 from : 222/100 COMMAND_ACK {command : 2000, result : 0, progress : 0, result_param2 : 0, target_system : 111, target_component : 11}\u001b[0m\n",
      "\u001b[33mWARNIN | mavcom.CameraClien | 20.972 | component.py:263 | MainThread         |       command_id = MAV_CMD_IMAGE_START_CAPTURE msg.get_srcSystem() = 222, target_system = 222,  msg.get_srcComponent() = 100, target_component = 100\u001b[0m\n"
     ]
    },
    {
     "name": "stdout",
     "output_type": "stream",
     "text": [
      "file = '/2023-10-15|12:10:19_0000.jpg', img.shape = (480, 640, 3)\n",
      "file = '/2023-10-15|12:10:20_0001.jpg', img.shape = (480, 640, 3)\n",
      "file = '/2023-10-15|12:10:20_0002.jpg', img.shape = (480, 640, 3)\n",
      "file = '/2023-10-15|12:10:20_0003.jpg', img.shape = (480, 640, 3)\n",
      "file = '/2023-10-15|12:10:20_0004.jpg', img.shape = (480, 640, 3)\n",
      "5 MAVLINK_MSG_ID_STORAGE_INFORMATION STORAGE_INFORMATION {time_boot_ms : 163046, storage_id : 0, storage_count : 1, status : 0, total_capacity : 100000000.0, used_capacity : 116104.0, available_capacity : 99883896.0, read_speed : 0.0, write_speed : 0.0, type : 0, name : }\n"
     ]
    },
    {
     "name": "stderr",
     "output_type": "stream",
     "text": [
      "\u001b[32mINFO   | pygst.GstPipeli | 21.806 | gst_tools.py:306 | MainThread         | GstPipeline Shutdown\u001b[0m\n",
      "\u001b[32mINFO   | mavcom.GSTCamera   | 21.807 | gst_cam.py:485 | MainThread         | GSTCamera closed\u001b[0m\n",
      "\u001b[32mINFO   | mavcom.CameraServe | 22.631 | component.py:404 | MainThread         | CameraServer closed\u001b[0m\n",
      "\u001b[32mINFO   | mavcom.MAVCom      | 22.632 |  mavcom.py:442 | MainThread         | MAVCom  closed\u001b[0m\n",
      "\u001b[32mINFO   | mavcom.CameraClien | 23.629 | component.py:404 | MainThread         | CameraClient closed\u001b[0m\n",
      "\u001b[32mINFO   | mavcom.MAVCom      | 23.631 |  mavcom.py:442 | MainThread         | MAVCom  closed\u001b[0m\n",
      "\u001b[32mINFO   | pygst.GstPipeli | 23.691 | gst_tools.py:306 | MainThread         | GstPipeline Shutdown\u001b[0m\n"
     ]
    },
    {
     "data": {
      "image/png": "[encoded data removed]",
      "text/plain": "<Figure size 500x500 with 1 Axes>"
     },
     "metadata": {},
     "output_type": "display_data"
    }
   ],
   "source": [
    "from mavcom.utils.display import show_image\n",
    "from mavcom.logging import LogLevels\n",
    "\n",
    "from mavcom.mavlink import CameraClient, CameraServer,  MAVCom, GimbalClient, GimbalServer, mavutil, mavlink\n",
    "from mavcom.utils.general import boot_time_str, With, read_camera_dict_from_toml, find_config_dir\n",
    "\n",
    "from mavcom.camera.gst_cam import GSTCamera\n",
    "from gstreamer import GstPipeline, Gst, GstContext, GstPipes\n",
    "import gstreamer.utils as gst_utils\n",
    "import cv2\n",
    "import time\n",
    "from pathlib import Path\n",
    "import asyncio\n",
    "\n",
    "SINK_PIPELINE = gst_utils.to_gst_string([\n",
    "            'udpsrc port=5000 ! application/x-rtp, media=(string)video, clock-rate=(int)90000, encoding-name=(string)H264, payload=(int)96',\n",
    "            'rtph264depay ! avdec_h264',\n",
    "            'fpsdisplaysink',\n",
    "            # 'autovideosink',\n",
    "        ])\n",
    "con1, con2 = \"udpin:localhost:14445\", \"udpout:localhost:14445\"\n",
    "# con1, con2 = \"/dev/ttyACM0\", \"/dev/ttyUSB0\"\n",
    "\n",
    "print (f\"{boot_time_str =}\")\n",
    "\n",
    "cam_uav = GSTCamera(camera_dict=read_camera_dict_from_toml(find_config_dir() / \"test_camera_info.toml\"))\n",
    "# cam_uav = CV2Camera(camera_dict=read_camera_dict_from_toml(find_config_dir() / \"test_camera_info.toml\"))\n",
    "\n",
    "async def doit ():\n",
    "    # with GstContext():  # GST main loop in thread\n",
    "    with GstContext(), GstPipeline(SINK_PIPELINE):     # Create a Gstreamer pipeline to display the received video on fpsdisplaysink\n",
    "        with MAVCom(con1, source_system=111) as client:\n",
    "            with MAVCom(con2, source_system=222) as server:\n",
    "                gcs = client.add_component(CameraClient(mav_type=mavlink.MAV_TYPE_GCS, source_component=11))\n",
    "                server.add_component(CameraServer(camera=cam_uav, source_component=mavlink.MAV_COMP_ID_CAMERA))\n",
    "                # server.add_component(CameraServer(mav_type=MAV_TYPE_CAMERA, source_component=22, camera=None, debug=False))\n",
    "    \n",
    "                ret = await gcs.wait_heartbeat(remote_mav_type=mavlink.MAV_TYPE_CAMERA)\n",
    "                print(f\"Heartbeat received {ret = }\")\n",
    "                time.sleep(0.1)\n",
    "                msg = await gcs.request_message(mavlink.MAVLINK_MSG_ID_CAMERA_INFORMATION, target_system=222, target_component=mavlink.MAV_COMP_ID_CAMERA)\n",
    "                print (f\"1 MAVLINK_MSG_ID_CAMERA_INFORMATION {msg }\")\n",
    "                msg = await gcs.request_message(mavlink.MAVLINK_MSG_ID_STORAGE_INFORMATION, target_system=222, target_component=mavlink.MAV_COMP_ID_CAMERA)\n",
    "                print (f\"2 MAVLINK_MSG_ID_STORAGE_INFORMATION {msg }\")\n",
    "                msg = await gcs.request_message(mavlink.MAVLINK_MSG_ID_CAMERA_CAPTURE_STATUS, target_system=222, target_component=mavlink.MAV_COMP_ID_CAMERA)\n",
    "                print (f\"3 MAVLINK_MSG_ID_CAMERA_CAPTURE_STATUS {msg }\")\n",
    "                msg = await gcs.request_message(mavlink.MAVLINK_MSG_ID_CAMERA_SETTINGS, target_system=222, target_component=mavlink.MAV_COMP_ID_CAMERA)\n",
    "                print (f\"4 MAVLINK_MSG_ID_CAMERA_SETTINGS {msg }\")\n",
    "    \n",
    "                ret = await gcs.image_start_capture(222, mavlink.MAV_COMP_ID_CAMERA, interval=0.2, count=5)\n",
    "                print(f\"{ret = }\")\n",
    "                \n",
    "                time.sleep(1)\n",
    "                for file in cam_mavcom.list_files():\n",
    "                    if file.endswith(\".jpg\"):\n",
    "                        img = cam_mavcom.load_image_from_memoryfs(file)\n",
    "                        print (f\"{file = }, {img.shape = }\")\n",
    "\n",
    "                lastimg = img\n",
    "                show_image(lastimg, rgb2bgr=True)\n",
    "                # start = time.time()\n",
    "                msg = await gcs.request_message(mavlink.MAVLINK_MSG_ID_STORAGE_INFORMATION, target_system=222, target_component=mavlink.MAV_COMP_ID_CAMERA)\n",
    "                print(f\"5 MAVLINK_MSG_ID_STORAGE_INFORMATION {msg}\")\n",
    "                # time.sleep(5)\n",
    "\n",
    "    \n",
    "await doit()\n"
   ]
  },
  {
   "cell_type": "code",
   "execution_count": null,
   "metadata": {},
   "outputs": [],
   "source": []
  },
  {
   "cell_type": "code",
   "execution_count": null,
   "metadata": {},
   "outputs": [],
   "source": []
  },
  {
   "cell_type": "code",
   "execution_count": null,
   "metadata": {},
   "outputs": [],
   "source": []
  }
 ],
 "metadata": {
  "kernelspec": {
   "display_name": "python3",
   "language": "python",
   "name": "python3"
  }
 },
 "nbformat": 4,
 "nbformat_minor": 4
}
