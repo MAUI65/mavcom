{
 "cells": [
  {
   "cell_type": "code",
   "execution_count": 1,
   "metadata": {
    "ExecuteTime": {
     "end_time": "2023-12-13T08:02:56.716088442Z",
     "start_time": "2023-12-13T08:02:56.702960216Z"
    }
   },
   "outputs": [],
   "source": [
    "#| hide\n"
   ]
  },
  {
   "cell_type": "markdown",
   "metadata": {},
   "source": [
    "# MAVCOM\n",
    "\n",
    "\n",
    "> Mavlink Telemetry library"
   ]
  },
  {
   "cell_type": "markdown",
   "metadata": {},
   "source": [
    "documentation is available at [Mavcom docs](https://johnnewto.github.io/mavcom/)"
   ]
  },
  {
   "cell_type": "markdown",
   "metadata": {},
   "source": [
    "## Guide to developing with Mavcom"
   ]
  },
  {
   "cell_type": "markdown",
   "metadata": {},
   "source": [
    "## Install \n",
    "1. Python 3.10 venv for Ubuntu 21.04, Ubuntu 20.04 LTS [https://www.python.org/downloads/](https://www.python.org/downloads/) \n",
    "\n",
    "```sh \n",
    "sudo add-apt-repository ppa:deadsnakes/ppa\n",
    "sudo apt update\n",
    "sudo apt install python3.10\n",
    "```\n",
    "   \n",
    "**Note For Ubuntu 18.04** Deadsnakes/ppa is not hold distribution for Ubuntu 18.04 LTS, so you need to install it manually.\n",
    "Download Python 3.10.0 from [https://github.com/conda-forge/miniforge](https://github.com/conda-forge/miniforge)\n",
    "\n",
    "There are 2 or 3 options for Linux architectures: \n",
    "\n",
    "- [Linux x86_64 (amd64)](https://github.com/conda-forge/miniforge/releases/latest/download/Miniforge3-Linux-x86_64.sh)\n",
    "- [Python 3.8 Linux aarch64 (arm64)](https://repo.anaconda.com/miniconda/Miniconda3-py38_23.10.0-1-Linux-aarch64.sh)     Note: on Jetson 3.10 might fail with a segment fault on arm64 with gstreamer\n",
    "- [Latest Miniconda installer links by Python version](https://docs.conda.io/projects/miniconda/en/latest/miniconda-other-installer-links.html)\n",
    "\n",
    "Give the script execution permission and run it to install into `~/miniforge3`\n",
    "\n",
    "```sh\n",
    "chmod +x Miniforge3-Linux-x86_64.sh\n",
    "./Miniforge3-Linux-x86_64.sh\n",
    "```\n",
    "or \n",
    "```\n",
    "./Miniconda3-py38_23.10.0-1-Linux-aarch64.sh\n",
    "```\n",
    "    \n",
    "Follow the prompts to install\n",
    "\n",
    "2. Download Mavcom from github and create a virtual environment\n",
    "\n",
    "```sh\n",
    "mkdir repos\n",
    "cd repos\n",
    "git clone https://github.com/johnnewto/mavcom.git\n",
    "cd UAV\n",
    "~/miniforge3/bin/python -m venv 'venv'\n",
    "source ./venv/bin/activate\n",
    "pip install --upgrade pip\n",
    "pip install -e .\n",
    "```\n"
   ]
  },
  {
   "cell_type": "markdown",
   "metadata": {},
   "source": []
  },
  {
   "cell_type": "markdown",
   "metadata": {},
   "source": [
    "## Documenting with nbdev - Initial setup\n",
    "if you want to develop with nbdev, you'll need to install it first.\n",
    "For a step-by-step guide to using nbdev   [guide to using nbdev](https://nbdev.fast.ai/tutorials/tutorial.html)\n",
    "You'll need the following software to develope using nbdev:\n",
    "\n",
    "1. Python  venv\n",
    "2. A Python package manager: ie pip\n",
    "3. Jupyter Notebook\n",
    "```sh\n",
    "pip install jupyter\n",
    "```\n",
    "4. nbdev\n",
    "```sh\n",
    "pip install nbdev\n",
    "```\n",
    "5. Quarto\n",
    "```sh\n",
    "nbdev_install_quarto\n",
    "```\n",
    "6. Install Quarto JupyterLab extension\n",
    "```sh\n",
    "pip install jupyterlab-quarto\n",
    "```\n",
    "\n",
    "7. Install nbdev pre-commit hooks to catch and fix uncleaned and unexported notebooks\n",
    "```sh\n",
    "pip install pre-commit\n",
    "```\n",
    "see [nbdev Pre-Commit Hooks](https://nbdev.fast.ai/tutorials/pre_commit.html) for more details"
   ]
  },
  {
   "cell_type": "markdown",
   "metadata": {},
   "source": [
    "### Preview Docs"
   ]
  },
  {
   "cell_type": "markdown",
   "metadata": {},
   "source": [
    "Start the preview by entering this into your terminal:\n",
    "\n",
    "```sh\n",
    "nbdev_preview\n",
    "```"
   ]
  },
  {
   "cell_type": "markdown",
   "metadata": {},
   "source": [
    "### Prepare your changes"
   ]
  },
  {
   "cell_type": "markdown",
   "metadata": {},
   "source": [
    "Before commiting your changes to GitHub we recommend running \n",
    "`nbdev_prepare` in the terminal, \n",
    "\n",
    "which bundles the following commands:\n",
    "\n",
    "- `nbdev_export`: Builds the `.py` modules from Jupyter notebooks\n",
    "- `nbdev_test`: Tests your notebooks\n",
    "- `nbdev_clean`: Cleans your notebooks to get rid of extreanous output for git\n",
    "- `nbdev_readme`: Updates your repo's `README.md` file from your index notebook."
   ]
  },
  {
   "cell_type": "markdown",
   "metadata": {},
   "source": [
    "### Update Static site docs\n",
    "Generate the static docs by entering `nbdev_docs ` into your terminal:\n"
   ]
  },
  {
   "cell_type": "markdown",
   "metadata": {},
   "source": [
    "### Push to GitHub"
   ]
  },
  {
   "cell_type": "markdown",
   "metadata": {},
   "source": [
    "You can now commit and push your changes to GitHub. As we mentioned before, always remember to run `nbdev_prepare` before you commit to ensure your modules are exported and your tests pass. You can use `git status` to check which files have been generated or changed. Then:\n",
    "\n",
    "```sh\n",
    "git add .\n",
    "git commit -m 'Add `say_hello`; update index' # Update this text with your own message\n",
    "git push\n",
    "```\n",
    "\n",
    "This will kick-off your GitHub Actions. Wait a minute or two for those to complete, then check your updated repo and documentation."
   ]
  },
  {
   "cell_type": "markdown",
   "metadata": {},
   "source": [
    "## Other"
   ]
  },
  {
   "cell_type": "markdown",
   "metadata": {},
   "source": [
    "### Set up autoreload"
   ]
  },
  {
   "cell_type": "markdown",
   "metadata": {},
   "source": [
    "Since you'll be often updating your modules from one notebook, and using them in another, it's helpful if your notebook automatically reads in the new modules as soon as the Python file changes. To make this happen, just add these lines to the top of your notebook:\n",
    "\n",
    "```sh\n",
    "%load_ext autoreload\n",
    "%autoreload 2\n",
    "```"
   ]
  },
  {
   "cell_type": "code",
   "execution_count": 1,
   "metadata": {
    "ExecuteTime": {
     "end_time": "2023-12-13T08:02:56.745147656Z",
     "start_time": "2023-12-13T08:02:56.744562330Z"
    }
   },
   "outputs": [],
   "source": []
  }
 ],
 "metadata": {
  "kernelspec": {
   "display_name": "python3",
   "language": "python",
   "name": "python3"
  }
 },
 "nbformat": 4,
 "nbformat_minor": 4
}
