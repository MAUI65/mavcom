{
 "cells": [
  {
   "cell_type": "code",
   "execution_count": null,
   "metadata": {},
   "outputs": [],
   "source": [
    "#| hide\n"
   ]
  },
  {
   "cell_type": "markdown",
   "metadata": {},
   "source": [
    "# UAV\n",
    "\n",
    "> All things that go into a UAV: Cameras, Software, Telemetry etc"
   ]
  },
  {
   "cell_type": "markdown",
   "metadata": {},
   "source": [
    "documentation is available at [UAV docs](https://johnnewto.github.io/UAV/)"
   ]
  },
  {
   "cell_type": "markdown",
   "metadata": {},
   "source": [
    "## Guide to developing with UAV"
   ]
  },
  {
   "cell_type": "markdown",
   "metadata": {},
   "source": [
    "## Install \n",
    "1. Python 3.10 venv for Ubuntu 21.04, Ubuntu 20.04 LTS [https://www.python.org/downloads/](https://www.python.org/downloads/) \n",
    "\n",
    "```sh \n",
    "sudo add-apt-repository ppa:deadsnakes/ppa\n",
    "sudo apt update\n",
    "sudo apt install python3.10\n",
    "```\n",
    "   \n",
    "**Note For Ubuntu 18.04** Deadsnakes/ppa is not hold distribution for Ubuntu 18.04 LTS, so you need to install it manually.\n",
    "Download Python 3.10.0 from [https://github.com/conda-forge/miniforge](https://github.com/conda-forge/miniforge)\n",
    "\n",
    "There are 2 or 3 options for Linux architectures: \n",
    "\n",
    "- [Linux x86_64 (amd64)](https://github.com/conda-forge/miniforge/releases/latest/download/Miniforge3-Linux-x86_64.sh)\n",
    "- [Linux aarch64 (arm64)](https://github.com/conda-forge/miniforge/releases/latest/download/Miniforge3-Linux-aarch64.sh)\n",
    "\n",
    "Give the script execution permission and run it to install into `~/miniforge3`\n",
    "\n",
    "```sh\n",
    "chmod +x Miniforge3-Linux-x86_64.sh\n",
    "./Miniforge3-Linux-x86_64.sh\n",
    "```\n",
    "Follow the prompts to install\n",
    "\n",
    "2. Download UAV from github and create a virtual environment\n",
    "\n",
    "```sh\n",
    "mkdir repos\n",
    "cd repos\n",
    "git clone https://github.com/johnnewto/mavcom.git\n",
    "cd UAV\n",
    "~/miniforge3/bin/python -m venv 'venv'\n",
    "source ./venv/bin/activate\n",
    "pip install --upgrade pip\n",
    "pip install -e .\n",
    "```\n",
    "3. Install gstreamer\n",
    "\n",
    "```sh\n",
    "sudo apt-get install libcairo2 libcairo2-dev libgirepository1.0-dev\n",
    "sudo apt install libgirepository1.0-dev\n",
    "sudo apt-get install libgstreamer1.0-dev libgstreamer-plugins-base1.0-dev libgstreamer-plugins-bad1.0-dev gstreamer1.0-plugins-base gstreamer1.0-plugins-good gstreamer1.0-plugins-bad gstreamer1.0-plugins-ugly gstreamer1.0-libav gstreamer1.0-tools gstreamer1.0-x gstreamer1.0-alsa gstreamer1.0-gl gstreamer1.0-gtk3 gstreamer1.0-qt5 gstreamer1.0-pulseaudio\n",
    "```\n",
    "4. Install gstreamer-python\n",
    "\n",
    "```sh\n",
    "pip install git+https://github.com/johnnewto/gstreamer-python.git\n",
    "```"
   ]
  },
  {
   "cell_type": "markdown",
   "metadata": {},
   "source": []
  },
  {
   "cell_type": "markdown",
   "metadata": {},
   "source": [
    "### Airsim  ( optional for dev  )\n",
    "AirSim is a simulator for drones, cars and more, built on [Unreal Engine](https://www.unrealengine.com/) (we now also have an experimental [Unity](https://unity3d.com/) release). It is open-source, cross platform, and supports software-in-the-loop simulation with popular flight controllers such as PX4 & ArduPilot and hardware-in-loop with PX4 for physically and visually realistic simulations. It is developed as an Unreal plugin that can simply be dropped into any Unreal environment. Similarly, we have an experimental release for a Unity plugin.\n",
    "\n",
    "Their goal was to develop AirSim as a platform for AI research to experiment with deep learning, computer vision and reinforcement learning algorithms for autonomous vehicles. For this purpose, AirSim also exposes APIs to retrieve data and control vehicles in a platform independent way.\n",
    "[![AirSim Drone Demo Video](images/demo_video.png)](https://youtu.be/-WfTr1-OBGQ)"
   ]
  },
  {
   "cell_type": "markdown",
   "metadata": {},
   "source": [
    "#### Install Airsim\n",
    "\n",
    "For the binary releases of Airsim see [https://github.com/microsoft/AirSim/releases/tag/v1.8.1](https://github.com/microsoft/AirSim/releases/tag/v1.8.1)\n",
    "We recommend the linux version as this repo is developed on linux.\n"
   ]
  },
  {
   "cell_type": "markdown",
   "metadata": {},
   "source": [
    "## Developing with nbdev - Initial setup\n",
    "if you want to develop with nbdev, you'll need to install it first.\n",
    "For a step-by-step guide to using nbdev   [guide to using nbdev](https://nbdev.fast.ai/tutorials/tutorial.html)\n",
    "You'll need the following software to develope using nbdev:\n",
    "\n",
    "1. Python  venv\n",
    "2. A Python package manager: ie pip\n",
    "3. Jupyter Notebook\n",
    "```sh\n",
    "pip install jupyter\n",
    "```\n",
    "4. nbdev\n",
    "```sh\n",
    "pip install nbdev\n",
    "```\n",
    "5. Quarto\n",
    "```sh\n",
    "nbdev_install_quarto\n",
    "```\n",
    "6. Install Quarto JupyterLab extension\n",
    "```sh\n",
    "pip install jupyterlab-quarto\n",
    "```\n",
    "\n",
    "7. Install nbdev pre-commit hooks to catch and fix uncleaned and unexported notebooks\n",
    "```sh\n",
    "pip install pre-commit\n",
    "```\n",
    "see [nbdev Pre-Commit Hooks](https://nbdev.fast.ai/tutorials/pre_commit.html) for more details"
   ]
  },
  {
   "cell_type": "markdown",
   "metadata": {},
   "source": [
    "\n",
    "#### Install msgpack-rpc-python with tornado 4.5.3\n",
    "To run airsim in or beside jupyter notebook you need msgpack-rpc-python to have an old version of tornado.\n",
    "The latest version of msgpack-rpc-python is 0.4.1, which requires tornado 4.5.3.\n",
    "The latest version of tornado is 6.1, which is not compatible with msgpack-rpc-python.\n",
    "\n",
    "The repo [https://github.com/xaedes/msgpack-rpc-python/tree/with_tornado_453](https://github.com/xaedes/msgpack-rpc-python/tree/with_tornado_453) is a fork of msgpack-rpc-python which\n",
    "includes tornado 4.5.3 directly in the repo. \n",
    "\n",
    "Install msgpack-rpc-python with integrated tornado, pip install from this repo\n",
    "[https://github.com/johnnewto/msgpack-rpc-python/tree/with_tornado_453](https://github.com/johnnewto/msgpack-rpc-python/tree/with_tornado_453)\n",
    "\n",
    "```\n",
    "pip uninstall msgpack-rpc-python\n",
    "pip install git+https://github.com/johnnewto/msgpack-rpc-python.git@with_tornado_453\n",
    "```\n",
    "\n"
   ]
  },
  {
   "cell_type": "markdown",
   "metadata": {},
   "source": [
    "### Preview Docs"
   ]
  },
  {
   "cell_type": "markdown",
   "metadata": {},
   "source": [
    "Start the preview by entering this into your terminal:\n",
    "\n",
    "```sh\n",
    "nbdev_preview\n",
    "```"
   ]
  },
  {
   "cell_type": "markdown",
   "metadata": {},
   "source": [
    "### Prepare your changes"
   ]
  },
  {
   "cell_type": "markdown",
   "metadata": {},
   "source": [
    "Before commiting your changes to GitHub we recommend running \n",
    "`nbdev_prepare` in the terminal, \n",
    "\n",
    "which bundles the following commands:\n",
    "\n",
    "- `nbdev_export`: Builds the `.py` modules from Jupyter notebooks\n",
    "- `nbdev_test`: Tests your notebooks\n",
    "- `nbdev_clean`: Cleans your notebooks to get rid of extreanous output for git\n",
    "- `nbdev_readme`: Updates your repo's `README.md` file from your index notebook."
   ]
  },
  {
   "cell_type": "markdown",
   "metadata": {},
   "source": [
    "### Update Static site docs\n",
    "Generate the static docs by entering `nbdev_docs ` into your terminal:\n"
   ]
  },
  {
   "cell_type": "markdown",
   "metadata": {},
   "source": [
    "### Push to GitHub"
   ]
  },
  {
   "cell_type": "markdown",
   "metadata": {},
   "source": [
    "You can now commit and push your changes to GitHub. As we mentioned before, always remember to run `nbdev_prepare` before you commit to ensure your modules are exported and your tests pass. You can use `git status` to check which files have been generated or changed. Then:\n",
    "\n",
    "```sh\n",
    "git add .\n",
    "git commit -m 'Add `say_hello`; update index' # Update this text with your own message\n",
    "git push\n",
    "```\n",
    "\n",
    "This will kick-off your GitHub Actions. Wait a minute or two for those to complete, then check your updated repo and documentation."
   ]
  },
  {
   "cell_type": "markdown",
   "metadata": {},
   "source": [
    "## Other"
   ]
  },
  {
   "cell_type": "markdown",
   "metadata": {},
   "source": [
    "### Set up autoreload"
   ]
  },
  {
   "cell_type": "markdown",
   "metadata": {},
   "source": [
    "Since you'll be often updating your modules from one notebook, and using them in another, it's helpful if your notebook automatically reads in the new modules as soon as the Python file changes. To make this happen, just add these lines to the top of your notebook:\n",
    "\n",
    "```sh\n",
    "%load_ext autoreload\n",
    "%autoreload 2\n",
    "```"
   ]
  },
  {
   "cell_type": "code",
   "execution_count": null,
   "metadata": {},
   "outputs": [],
   "source": []
  }
 ],
 "metadata": {
  "kernelspec": {
   "display_name": "python3",
   "language": "python",
   "name": "python3"
  }
 },
 "nbformat": 4,
 "nbformat_minor": 4
}
